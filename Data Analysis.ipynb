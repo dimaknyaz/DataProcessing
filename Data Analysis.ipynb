{
 "cells": [
  {
   "cell_type": "code",
   "execution_count": 1,
   "metadata": {},
   "outputs": [],
   "source": [
    "import pandas as pd\n",
    "import nltk\n",
    "import numpy as np\n",
    "from nltk.tokenize import word_tokenize\n",
    "import re\n",
    "import matplotlib.pyplot as plt\n",
    "import math\n",
    "from nltk.corpus import stopwords\n"
   ]
  },
  {
   "cell_type": "code",
   "execution_count": 2,
   "metadata": {},
   "outputs": [],
   "source": [
    "Data = pd.read_csv(\"JobDataTranslated.csv\")"
   ]
  },
  {
   "cell_type": "code",
   "execution_count": 3,
   "metadata": {},
   "outputs": [
    {
     "data": {
      "text/html": [
       "<div>\n",
       "<style scoped>\n",
       "    .dataframe tbody tr th:only-of-type {\n",
       "        vertical-align: middle;\n",
       "    }\n",
       "\n",
       "    .dataframe tbody tr th {\n",
       "        vertical-align: top;\n",
       "    }\n",
       "\n",
       "    .dataframe thead th {\n",
       "        text-align: right;\n",
       "    }\n",
       "</style>\n",
       "<table border=\"1\" class=\"dataframe\">\n",
       "  <thead>\n",
       "    <tr style=\"text-align: right;\">\n",
       "      <th></th>\n",
       "      <th>Unnamed: 0</th>\n",
       "      <th>Unnamed: 0.1</th>\n",
       "      <th>Job Title</th>\n",
       "      <th>Salary Estimate</th>\n",
       "      <th>Job Description</th>\n",
       "      <th>Rating</th>\n",
       "      <th>Company Name</th>\n",
       "      <th>Location</th>\n",
       "      <th>Headquarters</th>\n",
       "      <th>Size</th>\n",
       "      <th>Founded</th>\n",
       "      <th>Type of ownership</th>\n",
       "      <th>Industry</th>\n",
       "      <th>Sector</th>\n",
       "      <th>Revenue</th>\n",
       "      <th>Competitors</th>\n",
       "    </tr>\n",
       "  </thead>\n",
       "  <tbody>\n",
       "    <tr>\n",
       "      <th>0</th>\n",
       "      <td>0</td>\n",
       "      <td>0</td>\n",
       "      <td>Sales Consultant Brunel Engineering</td>\n",
       "      <td>-1</td>\n",
       "      <td>You know better than anyone how to bind other ...</td>\n",
       "      <td>3.8</td>\n",
       "      <td>Brunel\\n3.8</td>\n",
       "      <td>Groningen</td>\n",
       "      <td>-1</td>\n",
       "      <td>10000+ Employees</td>\n",
       "      <td>1975</td>\n",
       "      <td>Company - Public</td>\n",
       "      <td>Utilities</td>\n",
       "      <td>Oil, Gas, Energy &amp; Utilities</td>\n",
       "      <td>$1 to $2 billion (USD)</td>\n",
       "      <td>-1</td>\n",
       "    </tr>\n",
       "    <tr>\n",
       "      <th>1</th>\n",
       "      <td>1</td>\n",
       "      <td>1</td>\n",
       "      <td>Bicycle courier</td>\n",
       "      <td>-1</td>\n",
       "      <td>Do you want to get paid to drive around your c...</td>\n",
       "      <td>4.1</td>\n",
       "      <td>Thuisbezorgd.nl\\n4.1</td>\n",
       "      <td>Den Bosch</td>\n",
       "      <td>-1</td>\n",
       "      <td>1001 to 5000 Employees</td>\n",
       "      <td>2000</td>\n",
       "      <td>Company - Private</td>\n",
       "      <td>Internet</td>\n",
       "      <td>Information Technology</td>\n",
       "      <td>$100 to $500 million (USD)</td>\n",
       "      <td>-1</td>\n",
       "    </tr>\n",
       "    <tr>\n",
       "      <th>2</th>\n",
       "      <td>2</td>\n",
       "      <td>2</td>\n",
       "      <td>Document Controller</td>\n",
       "      <td>-1</td>\n",
       "      <td>Document Controller Do you ensure that all dig...</td>\n",
       "      <td>3.3</td>\n",
       "      <td>Applus+ RTD\\n3.3</td>\n",
       "      <td>Rotterdam</td>\n",
       "      <td>-1</td>\n",
       "      <td>10000+ Employees</td>\n",
       "      <td>1996</td>\n",
       "      <td>Company - Public</td>\n",
       "      <td>Research &amp; Development</td>\n",
       "      <td>Business Services</td>\n",
       "      <td>$1 to $2 billion (USD)</td>\n",
       "      <td>-1</td>\n",
       "    </tr>\n",
       "    <tr>\n",
       "      <th>3</th>\n",
       "      <td>3</td>\n",
       "      <td>3</td>\n",
       "      <td>Customer service representative</td>\n",
       "      <td>-1</td>\n",
       "      <td>Our growing retail sector is looking for a ski...</td>\n",
       "      <td>-1.0</td>\n",
       "      <td>SiComputers</td>\n",
       "      <td>Nieuwerkerk aan den IJssel</td>\n",
       "      <td>-1</td>\n",
       "      <td>-1</td>\n",
       "      <td>-1</td>\n",
       "      <td>-1</td>\n",
       "      <td>-1</td>\n",
       "      <td>-1</td>\n",
       "      <td>-1</td>\n",
       "      <td>-1</td>\n",
       "    </tr>\n",
       "    <tr>\n",
       "      <th>4</th>\n",
       "      <td>4</td>\n",
       "      <td>4</td>\n",
       "      <td>Working from home - Call center Employee Ziggo</td>\n",
       "      <td>-1</td>\n",
       "      <td>Working from home at Conduent, start your appl...</td>\n",
       "      <td>2.9</td>\n",
       "      <td>Conduent\\n2.9</td>\n",
       "      <td>Capelle aan den IJssel</td>\n",
       "      <td>-1</td>\n",
       "      <td>10000+ Employees</td>\n",
       "      <td>2017</td>\n",
       "      <td>Company - Public</td>\n",
       "      <td>IT Services</td>\n",
       "      <td>Information Technology</td>\n",
       "      <td>Unknown / Non-Applicable</td>\n",
       "      <td>-1</td>\n",
       "    </tr>\n",
       "  </tbody>\n",
       "</table>\n",
       "</div>"
      ],
      "text/plain": [
       "   Unnamed: 0  Unnamed: 0.1                                        Job Title  \\\n",
       "0           0             0             Sales Consultant Brunel Engineering    \n",
       "1           1             1                                 Bicycle courier    \n",
       "2           2             2                             Document Controller    \n",
       "3           3             3                 Customer service representative    \n",
       "4           4             4  Working from home - Call center Employee Ziggo    \n",
       "\n",
       "   Salary Estimate                                    Job Description  Rating  \\\n",
       "0               -1  You know better than anyone how to bind other ...     3.8   \n",
       "1               -1  Do you want to get paid to drive around your c...     4.1   \n",
       "2               -1  Document Controller Do you ensure that all dig...     3.3   \n",
       "3               -1  Our growing retail sector is looking for a ski...    -1.0   \n",
       "4               -1  Working from home at Conduent, start your appl...     2.9   \n",
       "\n",
       "           Company Name                    Location  Headquarters  \\\n",
       "0           Brunel\\n3.8                   Groningen            -1   \n",
       "1  Thuisbezorgd.nl\\n4.1                   Den Bosch            -1   \n",
       "2      Applus+ RTD\\n3.3                   Rotterdam            -1   \n",
       "3           SiComputers  Nieuwerkerk aan den IJssel            -1   \n",
       "4         Conduent\\n2.9      Capelle aan den IJssel            -1   \n",
       "\n",
       "                     Size  Founded  Type of ownership                Industry  \\\n",
       "0        10000+ Employees     1975   Company - Public               Utilities   \n",
       "1  1001 to 5000 Employees     2000  Company - Private                Internet   \n",
       "2        10000+ Employees     1996   Company - Public  Research & Development   \n",
       "3                      -1       -1                 -1                      -1   \n",
       "4        10000+ Employees     2017   Company - Public             IT Services   \n",
       "\n",
       "                         Sector                     Revenue  Competitors  \n",
       "0  Oil, Gas, Energy & Utilities      $1 to $2 billion (USD)           -1  \n",
       "1        Information Technology  $100 to $500 million (USD)           -1  \n",
       "2             Business Services      $1 to $2 billion (USD)           -1  \n",
       "3                            -1                          -1           -1  \n",
       "4        Information Technology    Unknown / Non-Applicable           -1  "
      ]
     },
     "execution_count": 3,
     "metadata": {},
     "output_type": "execute_result"
    }
   ],
   "source": [
    "Data.head()"
   ]
  },
  {
   "cell_type": "code",
   "execution_count": 4,
   "metadata": {},
   "outputs": [
    {
     "data": {
      "text/plain": [
       "\"You know better than anyone how to bind other people to you, people for whom you can mean something. A great new assignment for jobseekers and the right match for their sourcing issue for clients. If you are also curious about market developments, would you like to hear more about projects within the industry and are you able to translate this information into opportunities for Brunel, then a role as a Sales Consultant is perfect for you! About this position As a Sales Consultant you always have something to do. Your main goal is to make the best match between clients and candidates, and that involves a lot. Your work does not stop at finding and connecting both parties. You are also responsible for expanding and maintaining your own network of candidates and clients. That means that you are in constant contact with both parties. Keeping an overview and keeping different balls in the air is no problem for you. Your focus area will be on specialists and organizations within the Northern Netherlands Industry. Together with your team you operate the fields: Maintenance & Asset Management, Industrial Automation, Supply Chain & Logistics and Innovation & Development. Your colleagues are all commercial, enterprising and ambitious. Together we aim for the best result and recognisability in the market.  About you In short, you have a mega palette of tasks and responsibilities. It is therefore important that you can keep an overview. And we ask more of you. So you have at least: A college degree from a commercial or technical-related study At least 1 year of experience in sales and preferably in job placement A lot of ambition to grow in your profession A representative attitude Strongly developed communication skills and a lot of persuasiveness And a valid driver's license B.  What we offer Give a little, take a little. You bring your expertise with you, and we provide a salary that matches it. You will also receive a laptop, smartphone and company car from us. And you have the chance to win interesting bonuses! We also arrange that you get a discount on the gym, cultural trips, insurance and your pension premium. And we don't take it overnight either with regard to your professional growth. You follow a tailor-made training program from the outset that is provided by renowned institutes. About us Don't be surprised if you hear a colleague in the office talking about how our location in Singapore handles certain matters, or if your supervisor makes a call in fluent German. We work from 44 countries around the world and we are proud of that! We would never have grown this big if we didn't just go for the best match between professional and company every day. And you are an indispensable link in this. So do you step into Brunel's world? Apply immediately!  HBO \""
      ]
     },
     "execution_count": 4,
     "metadata": {},
     "output_type": "execute_result"
    }
   ],
   "source": [
    "Data[\"Job Description\"][0]"
   ]
  },
  {
   "cell_type": "code",
   "execution_count": 5,
   "metadata": {},
   "outputs": [
    {
     "data": {
      "text/plain": [
       "str"
      ]
     },
     "execution_count": 5,
     "metadata": {},
     "output_type": "execute_result"
    }
   ],
   "source": [
    "type(Data[\"Job Description\"][3])"
   ]
  },
  {
   "cell_type": "code",
   "execution_count": 6,
   "metadata": {},
   "outputs": [],
   "source": [
    "# function to preprocess speech\n",
    "#Data['Job Description'].apply(lambda x: x.lower())\n",
    "\n",
    "def clean(text):\n",
    "    \n",
    "    # removing paragraph numbers\n",
    "    text = re.sub('[0-9]+.\\t','',str(text))\n",
    "    # removing new line characters\n",
    "    text = re.sub('\\n ','',str(text))\n",
    "    text = re.sub('\\n',' ',str(text))\n",
    "    # removing apostrophes\n",
    "    text = re.sub(\"'s\",'',str(text))\n",
    "    # removing hyphens\n",
    "    text = re.sub(\"-\",' ',str(text))\n",
    "    text = re.sub(\"— \",'',str(text))\n",
    "    # removing quotation marks\n",
    "    text = re.sub('\\\"','',str(text))\n",
    "    # removing salutations\n",
    "    text = re.sub(\"Mr\\.\",'Mr',str(text))\n",
    "    text = re.sub(\"Mrs\\.\",'Mrs',str(text))\n",
    "    # removing any reference to outside text\n",
    "    text = re.sub(\"[\\(\\[].*?[\\)\\]]\", \"\", str(text))\n",
    "    \n",
    "    return text\n",
    "\n",
    "# preprocessing speeches\n",
    "Data['Cleaned Job Description'] = Data['Job Description'].apply(clean)\n",
    "\n",
    "from string import punctuation\n",
    "\n",
    "def remove_punctuation(s):\n",
    "    global punctuation\n",
    "    for p in punctuation:\n",
    "        s = s.replace(p, '')\n",
    "    return s\n",
    "\n",
    "Data['Cleaned Job Description'] = Data['Cleaned Job Description'].map(remove_punctuation)\n",
    "\n",
    "Data['Cleaned Job Description'] = Data['Cleaned Job Description'].apply(lambda x: x.lower())\n"
   ]
  },
  {
   "cell_type": "code",
   "execution_count": 7,
   "metadata": {},
   "outputs": [
    {
     "data": {
      "text/plain": [
       "'you know better than anyone how to bind other people to you people for whom you can mean something a great new assignment for jobseekers and the right match for their sourcing issue for clients if you are also curious about market developments would you like to hear more about projects within the industry and are you able to translate this information into opportunities for brunel then a role as a sales consultant is perfect for you about this position as a sales consultant you always have something to do your main goal is to make the best match between clients and candidates and that involves a lot your work does not stop at finding and connecting both parties you are also responsible for expanding and maintaining your own network of candidates and clients that means that you are in constant contact with both parties keeping an overview and keeping different balls in the air is no problem for you your focus area will be on specialists and organizations within the northern netherlands industry together with your team you operate the fields maintenance  asset management industrial automation supply chain  logistics and innovation  development your colleagues are all commercial enterprising and ambitious together we aim for the best result and recognisability in the market  about you in short you have a mega palette of tasks and responsibilities it is therefore important that you can keep an overview and we ask more of you so you have at least a college degree from a commercial or technical related study at least 1 year of experience in sales and preferably in job placement a lot of ambition to grow in your profession a representative attitude strongly developed communication skills and a lot of persuasiveness and a valid driver license b  what we offer give a little take a little you bring your expertise with you and we provide a salary that matches it you will also receive a laptop smartphone and company car from us and you have the chance to win interesting bonuses we also arrange that you get a discount on the gym cultural trips insurance and your pension premium and we dont take it overnight either with regard to your professional growth you follow a tailor made training program from the outset that is provided by renowned institutes about us dont be surprised if you hear a colleague in the office talking about how our location in singapore handles certain matters or if your supervisor makes a call in fluent german we work from 44 countries around the world and we are proud of that we would never have grown this big if we didnt just go for the best match between professional and company every day and you are an indispensable link in this so do you step into brunel world apply immediately  hbo '"
      ]
     },
     "execution_count": 7,
     "metadata": {},
     "output_type": "execute_result"
    }
   ],
   "source": [
    "Data['Cleaned Job Description'][0]"
   ]
  },
  {
   "cell_type": "code",
   "execution_count": 8,
   "metadata": {},
   "outputs": [
    {
     "data": {
      "text/plain": [
       "NN     106780\n",
       "IN      57167\n",
       "JJ      45686\n",
       "DT      40662\n",
       "NNS     32369\n",
       "dtype: int64"
      ]
     },
     "execution_count": 8,
     "metadata": {},
     "output_type": "execute_result"
    }
   ],
   "source": [
    "#Data['Job Description'].apply(lambda x: x.lower())\n",
    "\n",
    "corpus = \" \".join(Data['Cleaned Job Description'].tolist())\n",
    "tokens = word_tokenize(corpus)\n",
    "# Get the parts of speech tag for all words\n",
    "answer = nltk.pos_tag(tokens)\n",
    "answer_pos = [a[1] for a in answer]\n",
    "\n",
    "# print a value count for the parts of speech\n",
    "all_pos = pd.Series(answer_pos)\n",
    "all_pos.value_counts().head()\n"
   ]
  },
  {
   "cell_type": "code",
   "execution_count": 9,
   "metadata": {},
   "outputs": [
    {
     "data": {
      "text/plain": [
       "NN     103828\n",
       "JJ      48357\n",
       "NNS     31960\n",
       "VBP     14388\n",
       "VBG     13646\n",
       "dtype: int64"
      ]
     },
     "execution_count": 9,
     "metadata": {},
     "output_type": "execute_result"
    }
   ],
   "source": [
    "en_stopwords = stopwords.words('english')\n",
    "def remove_stopwords(s):\n",
    "    global en_stopwords\n",
    "    s = word_tokenize(s)\n",
    "    s = \" \".join([w for w in s if w not in en_stopwords])\n",
    "    return s\n",
    "\n",
    "# Create a new column of descriptions with no stopwords\n",
    "Data['Cleaned Job Description NoStop'] = Data['Cleaned Job Description'].map(remove_stopwords)\n",
    "\n",
    "# make a corpus of all the words in the job description\n",
    "corpus = \" \".join(Data['Cleaned Job Description NoStop'].tolist())\n",
    "\n",
    "# This is the NLTK function that breaks a string down to its tokens\n",
    "tokens = word_tokenize(corpus)\n",
    "\n",
    "answer = nltk.pos_tag(tokens)\n",
    "answer_pos = [a[1] for a in answer]\n",
    "\n",
    "all_pos = pd.Series(answer_pos)\n",
    "all_pos.value_counts().head()"
   ]
  },
  {
   "cell_type": "code",
   "execution_count": 10,
   "metadata": {},
   "outputs": [],
   "source": [
    "# prepare corpus from the descriptions that still have stopwords\n",
    "corpus = \" \".join(Data['Cleaned Job Description'].tolist())\n",
    "\n",
    "#tokenize words\n",
    "tokenized_corpus = nltk.word_tokenize(corpus)\n",
    "fd = nltk.FreqDist(tokenized_corpus)\n",
    "\n",
    "# get the top words\n",
    "top_words = []\n",
    "for key, value in fd.items():\n",
    "    top_words.append((key, value))\n",
    "\n",
    "# sort the list by the top frequencies\n",
    "top_words = sorted(top_words, key = lambda x:x[1], reverse = True)\n",
    "\n",
    "# keep top 100 words only\n",
    "top_words = top_words[:100]\n",
    "\n",
    "# Keep the frequencies only from the top word series\n",
    "top_word_series = pd.Series([w for (v,w) in top_words])\n",
    "top_word_series[:5]\n",
    "\n",
    "# get actual ranks of these words - wherever we see same frequencies, we give same rank\n",
    "word_ranks = top_word_series.rank(method = 'min', ascending = False)"
   ]
  },
  {
   "cell_type": "code",
   "execution_count": 11,
   "metadata": {},
   "outputs": [
    {
     "name": "stdout",
     "output_type": "stream",
     "text": [
      "The value of theta obtained is: [-1.01043474]\n"
     ]
    },
    {
     "data": {
      "text/plain": [
       "<matplotlib.legend.Legend at 0x7ff1ca4e96d0>"
      ]
     },
     "execution_count": 11,
     "metadata": {},
     "output_type": "execute_result"
    },
    {
     "data": {
      "image/png": "[encoded data removed]",
      "text/plain": [
       "<Figure size 576x360 with 1 Axes>"
      ]
     },
     "metadata": {
      "needs_background": "light"
     },
     "output_type": "display_data"
    }
   ],
   "source": [
    "denominator = max(word_ranks)*min(top_word_series)\n",
    "\n",
    "# Y variable is the log of word ranks and X is the word frequency divided by the denominator\n",
    "# above\n",
    "Y = np.array(np.log(word_ranks))\n",
    "X = np.array(np.log(top_word_series/denominator))\n",
    "\n",
    "# fit a linear regression to these, we dont need the intercept!\n",
    "from sklearn import linear_model\n",
    "reg_model = linear_model.LinearRegression(fit_intercept = False)\n",
    "reg_model.fit(Y.reshape(-1,1), X)\n",
    "print(\"The value of theta obtained is:\",reg_model.coef_)\n",
    "\n",
    "# make a plot of actual rank obtained vs theoretical rank expected\n",
    "plt.figure(figsize = (8,5))\n",
    "plt.scatter(Y, X, label = \"Actual Rank vs Frequency\")\n",
    "plt.title('Log(Rank) vs Log(Frequency/nx(n))')\n",
    "plt.xlabel('Log Rank')\n",
    "plt.ylabel('Log(Frequency/nx(n))')\n",
    "\n",
    "plt.plot(reg_model.predict(X.reshape(-1,1)), X, color = 'red', label = \"Zipf's law\")\n",
    "plt.legend()"
   ]
  },
  {
   "cell_type": "code",
   "execution_count": 14,
   "metadata": {},
   "outputs": [
    {
     "data": {
      "text/plain": [
       "[('work', 4352),\n",
       " ('team', 2302),\n",
       " ('working', 2068),\n",
       " ('experience', 1994),\n",
       " ('customer', 1870),\n",
       " ('also', 1437),\n",
       " ('good', 1412),\n",
       " ('time', 1292),\n",
       " ('service', 1280),\n",
       " ('care', 1250),\n",
       " ('company', 1189),\n",
       " ('offer', 1174),\n",
       " ('day', 1174),\n",
       " ('employment', 1174),\n",
       " ('looking', 1134),\n",
       " ('colleague', 1105),\n",
       " ('year', 1068),\n",
       " ('position', 1048),\n",
       " ('within', 1047),\n",
       " ('opportunity', 1030),\n",
       " ('development', 1022),\n",
       " ('training', 998),\n",
       " ('hour', 981),\n",
       " ('project', 978),\n",
       " ('salary', 967),\n",
       " ('like', 958),\n",
       " ('job', 958),\n",
       " ('knowledge', 939),\n",
       " ('new', 897),\n",
       " ('u', 873),\n",
       " ('client', 836),\n",
       " ('contact', 836),\n",
       " ('together', 818),\n",
       " ('organization', 815),\n",
       " ('€', 788),\n",
       " ('want', 785),\n",
       " ('full', 779),\n",
       " ('home', 778),\n",
       " ('get', 741),\n",
       " ('employee', 732),\n",
       " ('business', 706),\n",
       " ('make', 705),\n",
       " ('part', 705),\n",
       " ('technical', 689),\n",
       " ('environment', 679),\n",
       " ('installation', 663),\n",
       " ('application', 654),\n",
       " ('level', 648),\n",
       " ('process', 647),\n",
       " ('term', 644),\n",
       " ('skill', 641),\n",
       " ('product', 636),\n",
       " ('education', 628),\n",
       " ('activity', 605),\n",
       " ('per', 604),\n",
       " ('take', 603),\n",
       " ('know', 601),\n",
       " ('professional', 593),\n",
       " ('one', 593),\n",
       " ('technology', 580),\n",
       " ('management', 569),\n",
       " ('location', 569),\n",
       " ('contract', 568),\n",
       " ('responsible', 555),\n",
       " ('apply', 553),\n",
       " ('week', 551),\n",
       " ('manager', 551),\n",
       " ('addition', 547),\n",
       " ('quality', 541),\n",
       " ('maintenance', 538),\n",
       " ('information', 536),\n",
       " ('solution', 535),\n",
       " ('vacancy', 533),\n",
       " ('allowance', 530),\n",
       " ('month', 528),\n",
       " ('would', 517),\n",
       " ('course', 512),\n",
       " ('travel', 510),\n",
       " ('type', 505),\n",
       " ('various', 503),\n",
       " ('important', 488),\n",
       " ('oriented', 474),\n",
       " ('personal', 471),\n",
       " ('going', 466),\n",
       " ('department', 458),\n",
       " ('need', 457),\n",
       " ('well', 457),\n",
       " ('flexible', 457),\n",
       " ('system', 452),\n",
       " ('support', 451),\n",
       " ('develop', 451),\n",
       " ('people', 443),\n",
       " ('based', 443),\n",
       " ('sale', 441),\n",
       " ('excellent', 436),\n",
       " ('enthusiastic', 436),\n",
       " ('mbo', 434),\n",
       " ('ensure', 432),\n",
       " ('field', 416),\n",
       " ('possible', 416)]"
      ]
     },
     "execution_count": 14,
     "metadata": {},
     "output_type": "execute_result"
    }
   ],
   "source": [
    "# import the necessary functions from the nltk library\n",
    "from nltk.stem.wordnet import WordNetLemmatizer\n",
    "lmtzr = WordNetLemmatizer()\n",
    "\n",
    "# prepare corpus from the descriptions that dont have stopwords\n",
    "corpus = \" \".join(Data['Cleaned Job Description NoStop'].tolist())\n",
    "\n",
    "#tokenize words\n",
    "tokenized_corpus = nltk.word_tokenize(corpus)\n",
    "\n",
    "# lemmatize these tokens\n",
    "lemmatized_tokens = [lmtzr.lemmatize(token) for token in tokenized_corpus]\n",
    "\n",
    "# word frequencies for the lemmatized tokens\n",
    "fd = nltk.FreqDist(lemmatized_tokens)\n",
    "\n",
    "# get the top words\n",
    "top_words = []\n",
    "for key, value in fd.items():\n",
    "    top_words.append((key, value))\n",
    "\n",
    "# sort the list by the top frequencies\n",
    "top_words = sorted(top_words, key = lambda x:x[1], reverse = True)\n",
    "\n",
    "# keep top 10 words only\n",
    "top_words1 = top_words[:100]\n",
    "\n",
    "top_words1"
   ]
  },
  {
   "cell_type": "code",
   "execution_count": 13,
   "metadata": {},
   "outputs": [
    {
     "data": {
      "text/plain": [
       "[('work', 4352),\n",
       " ('team', 2302),\n",
       " ('working', 2068),\n",
       " ('experience', 1994),\n",
       " ('customer', 1870),\n",
       " ('also', 1437),\n",
       " ('good', 1412),\n",
       " ('time', 1292),\n",
       " ('service', 1280),\n",
       " ('care', 1250)]"
      ]
     },
     "execution_count": 13,
     "metadata": {},
     "output_type": "execute_result"
    }
   ],
   "source": [
    "top_words = top_words[:100]\n",
    "top_words"
   ]
  },
  {
   "cell_type": "code",
   "execution_count": null,
   "metadata": {},
   "outputs": [],
   "source": []
  }
 ],
 "metadata": {
  "kernelspec": {
   "display_name": "Python 3",
   "language": "python",
   "name": "python3"
  },
  "language_info": {
   "codemirror_mode": {
    "name": "ipython",
    "version": 3
   },
   "file_extension": ".py",
   "mimetype": "text/x-python",
   "name": "python",
   "nbconvert_exporter": "python",
   "pygments_lexer": "ipython3",
   "version": "3.7.9"
  }
 },
 "nbformat": 4,
 "nbformat_minor": 4
}
