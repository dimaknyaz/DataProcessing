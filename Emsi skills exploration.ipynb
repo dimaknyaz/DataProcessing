{
 "cells": [
  {
   "cell_type": "code",
   "execution_count": 1,
   "metadata": {},
   "outputs": [],
   "source": [
    "import requests"
   ]
  },
  {
   "cell_type": "code",
   "execution_count": 2,
   "metadata": {},
   "outputs": [],
   "source": [
    "import json\n",
    "\n",
    "def jprint(obj):\n",
    "    # create a formatted string of the Python JSON object\n",
    "    text = json.dumps(obj, sort_keys=True, indent=4)\n",
    "    print(text)\n",
    "\n"
   ]
  },
  {
   "cell_type": "code",
   "execution_count": 3,
   "metadata": {},
   "outputs": [],
   "source": [
    "\n",
    "# get a token \n",
    "url = \"https://auth.emsicloud.com/connect/token\"\n",
    "\n",
    "payload = \"client_id=xfucr287m8es4kdl&client_secret=I6FR5aEi&grant_type=client_credentials&scope=emsi_open\"\n",
    "headers = {'Content-Type': 'application/x-www-form-urlencoded'}\n",
    "\n",
    "response = requests.request(\"POST\", url, data=payload, headers=headers)\n",
    "\n",
    "token = response.json()['access_token']"
   ]
  },
  {
   "cell_type": "code",
   "execution_count": 4,
   "metadata": {},
   "outputs": [
    {
     "name": "stdout",
     "output_type": "stream",
     "text": [
      "{\n",
      "    \"attributions\": [\n",
      "        {\n",
      "            \"name\": \"Wikipedia\",\n",
      "            \"text\": \"Wikipedia extracts are distributed under the CC BY-SA license (https://creativecommons.org/licenses/by-sa/3.0/)\"\n",
      "        }\n",
      "    ],\n",
      "    \"data\": [\n",
      "        {\n",
      "            \"id\": \"KS1239X61NPB4N0QQ678\",\n",
      "            \"infoUrl\": \"https://skills.emsidata.com/skills/KS1239X61NPB4N0QQ678\",\n",
      "            \"name\": \"Econometrics\",\n",
      "            \"type\": {\n",
      "                \"id\": \"ST1\",\n",
      "                \"name\": \"Hard Skill\"\n",
      "            }\n",
      "        },\n",
      "        {\n",
      "            \"id\": \"KS1239X6C7VDW4GCKCLK\",\n",
      "            \"infoUrl\": \"https://skills.emsidata.com/skills/KS1239X6C7VDW4GCKCLK\",\n",
      "            \"name\": \"Econometric Modeling\",\n",
      "            \"type\": {\n",
      "                \"id\": \"ST1\",\n",
      "                \"name\": \"Hard Skill\"\n",
      "            }\n",
      "        },\n",
      "        {\n",
      "            \"id\": \"KS123Y8698FPX41KZDYM\",\n",
      "            \"infoUrl\": \"https://skills.emsidata.com/skills/KS123Y8698FPX41KZDYM\",\n",
      "            \"name\": \"Financial Econometrics\",\n",
      "            \"type\": {\n",
      "                \"id\": \"ST1\",\n",
      "                \"name\": \"Hard Skill\"\n",
      "            }\n",
      "        }\n",
      "    ]\n",
      "}\n"
     ]
    }
   ],
   "source": [
    "\n",
    "# lol so you just say it a skill name and it will give you cool output\n",
    "name = 'Econometrics'\n",
    "\n",
    "url = \"https://emsiservices.com/skills/versions/latest/skills\"\n",
    "\n",
    "querystring = {\"q\":name,\"fields\":\"id,name,type,infoUrl\"}\n",
    "\n",
    "headers = {'Authorization': 'Bearer ' +token}\n",
    "\n",
    "response = requests.request(\"GET\", url, headers=headers, params=querystring)\n",
    "x= response.json()\n",
    "jprint(response.json())"
   ]
  },
  {
   "cell_type": "code",
   "execution_count": 80,
   "metadata": {},
   "outputs": [],
   "source": [
    "import pandas as pd\n",
    "Data = pd.read_csv(\"JobDataTranslated.csv\")\n"
   ]
  },
  {
   "cell_type": "code",
   "execution_count": 98,
   "metadata": {},
   "outputs": [],
   "source": [
    "import re\n",
    "def clean(text):\n",
    "    \n",
    "    # removing paragraph numbers\n",
    "    text = re.sub('[0-9]+.\\t','',str(text))\n",
    "    # removing new line characters\n",
    "    text = re.sub('\\n ','',str(text))\n",
    "    text = re.sub('\\n',' ',str(text))\n",
    "    # removing apostrophes\n",
    "    text = re.sub(\"s\",'',str(text))\n",
    "    text = re.sub(\"€\",'',str(text))\n",
    "    # removing hyphens\n",
    "    text = re.sub(\"-\",' ',str(text))\n",
    "    text = re.sub(\"— \",'',str(text))\n",
    "    # removing quotation marks\n",
    "    text = re.sub('\\\"','',str(text))\n",
    "    # removing salutations\n",
    "    text = re.sub(\"Mr\\.\",'Mr',str(text))\n",
    "    text = re.sub(\"Mrs\\.\",'Mrs',str(text))\n",
    "    # removing any reference to outside text\n",
    "    text = re.sub(\"[\\(\\[].*?[\\)\\]]\", \"\", str(text))\n",
    "    \n",
    "    return text"
   ]
  },
  {
   "cell_type": "code",
   "execution_count": 128,
   "metadata": {},
   "outputs": [],
   "source": [
    "def get_text(num):\n",
    "    text= Data['Job Description'][num]\n",
    "    text = bytes(text, 'utf-8').decode('utf-8', 'ignore')\n",
    "    text = clean(text)\n",
    "    return text \n",
    "\n"
   ]
  },
  {
   "cell_type": "code",
   "execution_count": 152,
   "metadata": {},
   "outputs": [],
   "source": [
    "def get_skills_confidence(text):\n",
    "    \n",
    "    url = \"https://emsiservices.com/skills/versions/latest/extract/trace\"\n",
    "\n",
    "    payload = text\n",
    "    headers = {\n",
    "        'Authorization': \"Bearer \" + token,\n",
    "        'Content-Type': \"text/plain\"\n",
    "        }\n",
    "\n",
    "    response = requests.request(\"POST\", url, data=payload, headers=headers)\n",
    "\n",
    "    y = response.json()\n",
    "    names_sk = [y['data'].get('skills')[i].get('skill').get('name') for i in range(len(y['data'].get('skills')))]\n",
    "    confidence = [y['data'].get('skills')[i].get('confidence') for i in range(len(y['data'].get('skills')))]\n",
    "    \n",
    "    return names_sk, confidence"
   ]
  },
  {
   "cell_type": "code",
   "execution_count": 153,
   "metadata": {},
   "outputs": [
    {
     "data": {
      "text/plain": [
       "\"You know better than anyone how to bind other people to you, people for whom you can mean something. A great new assignment for jobseekers and the right match for their sourcing issue for clients. If you are also curious about market developments, would you like to hear more about projects within the industry and are you able to translate this information into opportunities for Brunel, then a role as a Sales Consultant is perfect for you! About this position As a Sales Consultant you always have something to do. Your main goal is to make the best match between clients and candidates, and that involves a lot. Your work does not stop at finding and connecting both parties. You are also responsible for expanding and maintaining your own network of candidates and clients. That means that you are in constant contact with both parties. Keeping an overview and keeping different balls in the air is no problem for you. Your focus area will be on specialists and organizations within the Northern Netherlands Industry. Together with your team you operate the fields: Maintenance & Asset Management, Industrial Automation, Supply Chain & Logistics and Innovation & Development. Your colleagues are all commercial, enterprising and ambitious. Together we aim for the best result and recognisability in the market.  About you In short, you have a mega palette of tasks and responsibilities. It is therefore important that you can keep an overview. And we ask more of you. So you have at least: A college degree from a commercial or technical-related study At least 1 year of experience in sales and preferably in job placement A lot of ambition to grow in your profession A representative attitude Strongly developed communication skills and a lot of persuasiveness And a valid driver's license B.  What we offer Give a little, take a little. You bring your expertise with you, and we provide a salary that matches it. You will also receive a laptop, smartphone and company car from us. And you have the chance to win interesting bonuses! We also arrange that you get a discount on the gym, cultural trips, insurance and your pension premium. And we don't take it overnight either with regard to your professional growth. You follow a tailor-made training program from the outset that is provided by renowned institutes. About us Don't be surprised if you hear a colleague in the office talking about how our location in Singapore handles certain matters, or if your supervisor makes a call in fluent German. We work from 44 countries around the world and we are proud of that! We would never have grown this big if we didn't just go for the best match between professional and company every day. And you are an indispensable link in this. So do you step into Brunel's world? Apply immediately!  HBO \""
      ]
     },
     "execution_count": 153,
     "metadata": {},
     "output_type": "execute_result"
    }
   ],
   "source": [
    "Data['Job Description'][0]"
   ]
  },
  {
   "cell_type": "code",
   "execution_count": 156,
   "metadata": {},
   "outputs": [
    {
     "data": {
      "text/plain": [
       "(['Curiosity',\n",
       "  'Industrial Automation',\n",
       "  \"Valid Driver's License\",\n",
       "  'Management',\n",
       "  'Communications',\n",
       "  'German Language',\n",
       "  'Innovation',\n",
       "  'Sales',\n",
       "  'Language Translation',\n",
       "  'Sourcing',\n",
       "  'Supply Chain',\n",
       "  'Go (Programming Language)',\n",
       "  'BIND (DNS Software)',\n",
       "  'Constant Contact'],\n",
       " [1.0,\n",
       "  1.0,\n",
       "  1.0,\n",
       "  0.992539644241333,\n",
       "  0.913017749786377,\n",
       "  0.8873605728149414,\n",
       "  0.8531440496444702,\n",
       "  0.8266128897666931,\n",
       "  0.7037254571914673,\n",
       "  0.6579191088676453,\n",
       "  0.5,\n",
       "  0.4164111316204071,\n",
       "  0.08257543295621872,\n",
       "  0.00019992003217339516])"
      ]
     },
     "execution_count": 156,
     "metadata": {},
     "output_type": "execute_result"
    }
   ],
   "source": [
    "get_skills_confidence(text=Data['Job Description'][0])"
   ]
  },
  {
   "cell_type": "code",
   "execution_count": 131,
   "metadata": {},
   "outputs": [
    {
     "data": {
      "text/plain": [
       "'Also view this vacancy at: _www.maratec.nl/vacatures.html _ Ambiance Maratec is a specialist in the field of plastic frames, interior and exterior sun protection, mosquito nets, roller shutters and patio roofs. Our offer consists of a varied range of top brands, tailor-made advice and professional installation. Maratec has a suitable offer for every wallet. We are proud of our showroom, the most beautiful and largest in South Limburg. And we continue to grow. Full-time field service engineer and a Full-time apprentice field technician In this position you are the technical link between the customers and our company. For these vacancies we are looking for an independently operating professional with technical affinity. What are you going to do? As a mechanic at Ambiance Maratec you have a very varied job. Due to the wide variety of products and services, you are busy with different activities every day. Installation of indoor and outdoor sun protection, terrace solutions, insect protection and plastic frames. Solving malfunctions and carrying out repairs to existing products Carrying out maintenance on existing products Who are we looking for? An enthusiastic, positive, eager to learn, technical centipede Living in the Maastricht region You are: customer and service oriented communicative enterprising, creative and driven a team player accurate and disciplined representative you understand that sometimes it takes longer to work you are not afraid of ladder and working at height with a cherry picker can also occur. Are you that enthusiastic candidate we are looking for? Do not hesitate and respond to this vacancy. Heerderdwarsstraat 25, 6224 LS Maastricht T 043-363 55 88- www.ambiance.nl/maratec Type of employment: Full-time Working from home: No '"
      ]
     },
     "execution_count": 131,
     "metadata": {},
     "output_type": "execute_result"
    }
   ],
   "source": [
    "Data['Job Description'][500]"
   ]
  },
  {
   "cell_type": "code",
   "execution_count": 157,
   "metadata": {},
   "outputs": [
    {
     "data": {
      "text/plain": [
       "(['Field Service Management',\n",
       "  'Enthusiasm',\n",
       "  'Service-Orientation',\n",
       "  'Showrooms',\n",
       "  'Roofing',\n",
       "  'Mechanics'],\n",
       " [1.0,\n",
       "  1.0,\n",
       "  0.9976881146430969,\n",
       "  0.6627855896949768,\n",
       "  0.602383553981781,\n",
       "  0.5461586117744446])"
      ]
     },
     "execution_count": 157,
     "metadata": {},
     "output_type": "execute_result"
    }
   ],
   "source": [
    "get_skills_confidence(text=Data['Job Description'][500])"
   ]
  },
  {
   "cell_type": "code",
   "execution_count": 158,
   "metadata": {},
   "outputs": [
    {
     "data": {
      "text/plain": [
       "\"Who are you? You have an affinity with construction and are eager to learn a new trade. Experience is not required because we ensure that you are trained in practice to become a full-fledged floor insulation technician! Preferably you live within a radius of 30 km around Den Dungen and you are in possession of a B driving license. You do not have claustrophobia, because the work as a floor insulation fitter mainly takes place in the crawl space of a home. Having a VCA diploma is an advantage, if this is not the case, Netherlands Isoleert offers to obtain this for free. So, are you looking for a new challenge and are the characteristics driven, eager to learn and team player suitable for you? Then quickly read on because we are immediately looking for reinforcement for our organization! What are you going to do? As a floor insulation engineer at Nederland Isoleert you are involved in insulating the crawl space under a house. You do this by attaching an insulation foil to the foundation of the house. Then make the room airtight and, if necessary, place a bottom tarpaulin. The advantage of floor insulation is that when your job has been completed, the customer will immediately save on their energy bill. Together you are responsible for ensuring that the work is carried out professionally and accurately. What does your day look like? At 6 o'clock you will be ready at our location in Den Dungen, here you will first drink a cup of coffee and discuss the planning for the day. Then the three of you are on your way to the job of the day. As an insulation fitter, you speak to the customer in a friendly manner and ensure that the home is properly insulated. When the insulation foil has been applied, you make sure that everything is neatly tidy, show the customer the end result and go back to the store satisfied. What do we offer? An internal training for insulation technician; Full-time employment spread over 4 working days; Lots of freedom and responsibility; Obtaining your VCA diploma via Nederland Isoleert. What do we ask for? You have an affinity with construction; You don't have claustrophobia; You live within a radius of 30 km around Den Dungen; Preferably you are in possession of a B driving license. Who are we? Nederland Isoleert is an insulation company active in the private market. In a short time we have grown into a top 3 insulation player in the Netherlands, our goal is to have all houses in the Netherlands insulated within 10 years. Our head office is located in Amersfoort. In addition, we also work from Meppel, Den Dungen and our new location in Hillegom will open on September 1! We have been a subsidiary of Essent since 2017. Have you become enthusiastic after reading the vacancy? Then we look forward to receiving your CV. For more information you can contact us by calling 033 - 2030315. Type of employment: Full-time, Fixed-term, Indefinite-term Experience: Driver's license B: 1 year (Recommended) Working from home: No \""
      ]
     },
     "execution_count": 158,
     "metadata": {},
     "output_type": "execute_result"
    }
   ],
   "source": [
    "Data['Job Description'][300]"
   ]
  },
  {
   "cell_type": "code",
   "execution_count": 159,
   "metadata": {},
   "outputs": [
    {
     "data": {
      "text/plain": [
       "(['Planning',\n",
       "  'Enthusiasm',\n",
       "  \"Valid Driver's License\",\n",
       "  'Construction',\n",
       "  'VMware Certified Associate',\n",
       "  'FOIL (Programming Language)',\n",
       "  'Reinforcement',\n",
       "  'Remote Authentication Dial In User Service (RADIUS)',\n",
       "  'Go (Programming Language)'],\n",
       " [1.0,\n",
       "  1.0,\n",
       "  1.0,\n",
       "  0.40588220953941345,\n",
       "  0.11921863257884979,\n",
       "  0.0543539896607399,\n",
       "  0.05350589379668236,\n",
       "  0.028475001454353333,\n",
       "  0.0052083334885537624])"
      ]
     },
     "execution_count": 159,
     "metadata": {},
     "output_type": "execute_result"
    }
   ],
   "source": [
    "get_skills_confidence(text=Data['Job Description'][300])"
   ]
  }
 ],
 "metadata": {
  "kernelspec": {
   "display_name": "Python 3",
   "language": "python",
   "name": "python3"
  },
  "language_info": {
   "codemirror_mode": {
    "name": "ipython",
    "version": 3
   },
   "file_extension": ".py",
   "mimetype": "text/x-python",
   "name": "python",
   "nbconvert_exporter": "python",
   "pygments_lexer": "ipython3",
   "version": "3.7.7"
  }
 },
 "nbformat": 4,
 "nbformat_minor": 4
}
