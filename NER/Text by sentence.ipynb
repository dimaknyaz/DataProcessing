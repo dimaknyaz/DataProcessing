{
 "cells": [
  {
   "cell_type": "code",
   "execution_count": 1,
   "metadata": {},
   "outputs": [],
   "source": [
    "import pandas as pd\n",
    "import re"
   ]
  },
  {
   "cell_type": "code",
   "execution_count": 2,
   "metadata": {},
   "outputs": [],
   "source": [
    "Data = pd.read_csv(\"JobDataTranslated.csv\")\n",
    "\n",
    "Data=Data[:-20]"
   ]
  },
  {
   "cell_type": "code",
   "execution_count": 3,
   "metadata": {},
   "outputs": [],
   "source": [
    "# just a thing to clean input\n",
    "#Data['Job Description'].apply(lambda x: x.lower())\n",
    "\n",
    "def clean(text):\n",
    "    \n",
    "    # removing paragraph numbers\n",
    "    text = re.sub('[0-9]+.\\t','',str(text))\n",
    "    # removing new line characters\n",
    "    text = re.sub('\\n ','',str(text))\n",
    "    text = re.sub('\\n',' ',str(text))\n",
    "    # removing apostrophes\n",
    "    text = re.sub(\"'s\",'',str(text))\n",
    "    # removing hyphens\n",
    "    text = re.sub(\"-\",' ',str(text))\n",
    "    text = re.sub(\"— \",'',str(text))\n",
    "    # removing quotation marks\n",
    "    text = re.sub('\\\"','',str(text))\n",
    "    # removing salutations\n",
    "    text = re.sub(\"Mr\\.\",'Mr',str(text))\n",
    "    text = re.sub(\"Mrs\\.\",'Mrs',str(text))\n",
    "    # removing any reference to outside text\n",
    "    text = re.sub(\"[\\(\\[].*?[\\)\\]]\", \"\", str(text))\n",
    "    \n",
    "    return text\n",
    "\n",
    "# preprocessing speeches\n",
    "Data['Cleaned Job Description'] = Data['Job Description'].apply(clean)\n",
    "\n",
    "from string import punctuation\n",
    "\n",
    "def remove_punctuation(s):\n",
    "    global punctuation\n",
    "    for p in punctuation:\n",
    "        s = s.replace(p, '')\n",
    "    return s\n",
    "\n",
    "#Data['Cleaned Job Description'] = Data['Cleaned Job Description'].map(remove_punctuation)\n",
    "\n",
    "Data['Cleaned Job Description'] = Data['Cleaned Job Description'].apply(lambda x: x.lower())"
   ]
  },
  {
   "cell_type": "code",
   "execution_count": 37,
   "metadata": {},
   "outputs": [],
   "source": [
    "\n",
    "\"\"\" this thing allows us to find all words start indexes\"\"\"\n",
    "def find_all(text, sub):\n",
    "    start = 0\n",
    "    while True:\n",
    "        start = text.find(sub, start)\n",
    "        if start == -1: return\n",
    "        yield start\n",
    "        start += len(sub) # use start += 1 to find overlapping matches\n",
    "\n",
    "\"\"\"all words start indexes for list of words\"\"\"\n",
    "def find_all_in_list(text, subs: list):\n",
    "    l=[]\n",
    "    for i in subs:\n",
    "        l.append(list(find_all(text,i)))\n",
    "    m = [l[j][k] for j in range(len(l)) for k in range(len(l[j]))]\n",
    "    return m\n",
    "\n",
    "\n",
    "\"gives a sentence for an index of word inside\"\n",
    "def text_by_sentence(text ):\n",
    "    l= find_all_in_list(text, ['.','!','?',';'])\n",
    "    if (len(l)==0):\n",
    "        return -1\n",
    "    \n",
    "    l.sort()\n",
    "    text_by_s=[text[:l[0]]]\n",
    "    for i in range(len(l)-1):\n",
    "        text_by_s.append(text[l[i]+1:l[i+1]])\n",
    "        \n",
    "    text_by_s.append(text[l[-1]+1:])\n",
    "    return text_by_s\n"
   ]
  },
  {
   "cell_type": "code",
   "execution_count": 38,
   "metadata": {},
   "outputs": [
    {
     "data": {
      "text/plain": [
       "['you know better than anyone how to bind other people to you, people for whom you can mean something',\n",
       " ' a great new assignment for jobseekers and the right match for their sourcing issue for clients',\n",
       " ' if you are also curious about market developments, would you like to hear more about projects within the industry and are you able to translate this information into opportunities for brunel, then a role as a sales consultant is perfect for you',\n",
       " ' about this position as a sales consultant you always have something to do',\n",
       " ' your main goal is to make the best match between clients and candidates, and that involves a lot',\n",
       " ' your work does not stop at finding and connecting both parties',\n",
       " ' you are also responsible for expanding and maintaining your own network of candidates and clients',\n",
       " ' that means that you are in constant contact with both parties',\n",
       " ' keeping an overview and keeping different balls in the air is no problem for you',\n",
       " ' your focus area will be on specialists and organizations within the northern netherlands industry',\n",
       " ' together with your team you operate the fields: maintenance & asset management, industrial automation, supply chain & logistics and innovation & development',\n",
       " ' your colleagues are all commercial, enterprising and ambitious',\n",
       " ' together we aim for the best result and recognisability in the market',\n",
       " '  about you in short, you have a mega palette of tasks and responsibilities',\n",
       " ' it is therefore important that you can keep an overview',\n",
       " ' and we ask more of you',\n",
       " ' so you have at least: a college degree from a commercial or technical related study at least 1 year of experience in sales and preferably in job placement a lot of ambition to grow in your profession a representative attitude strongly developed communication skills and a lot of persuasiveness and a valid driver license b',\n",
       " '  what we offer give a little, take a little',\n",
       " ' you bring your expertise with you, and we provide a salary that matches it',\n",
       " ' you will also receive a laptop, smartphone and company car from us',\n",
       " ' and you have the chance to win interesting bonuses',\n",
       " ' we also arrange that you get a discount on the gym, cultural trips, insurance and your pension premium',\n",
       " \" and we don't take it overnight either with regard to your professional growth\",\n",
       " ' you follow a tailor made training program from the outset that is provided by renowned institutes',\n",
       " \" about us don't be surprised if you hear a colleague in the office talking about how our location in singapore handles certain matters, or if your supervisor makes a call in fluent german\",\n",
       " ' we work from 44 countries around the world and we are proud of that',\n",
       " \" we would never have grown this big if we didn't just go for the best match between professional and company every day\",\n",
       " ' and you are an indispensable link in this',\n",
       " ' so do you step into brunel world',\n",
       " ' apply immediately',\n",
       " '  hbo ']"
      ]
     },
     "execution_count": 38,
     "metadata": {},
     "output_type": "execute_result"
    }
   ],
   "source": [
    "text_by_sentence(Data['Cleaned Job Description'][0])"
   ]
  },
  {
   "cell_type": "code",
   "execution_count": 25,
   "metadata": {},
   "outputs": [
    {
     "data": {
      "text/plain": [
       "\"you know better than anyone how to bind other people to you, people for whom you can mean something. a great new assignment for jobseekers and the right match for their sourcing issue for clients. if you are also curious about market developments, would you like to hear more about projects within the industry and are you able to translate this information into opportunities for brunel, then a role as a sales consultant is perfect for you! about this position as a sales consultant you always have something to do. your main goal is to make the best match between clients and candidates, and that involves a lot. your work does not stop at finding and connecting both parties. you are also responsible for expanding and maintaining your own network of candidates and clients. that means that you are in constant contact with both parties. keeping an overview and keeping different balls in the air is no problem for you. your focus area will be on specialists and organizations within the northern netherlands industry. together with your team you operate the fields: maintenance & asset management, industrial automation, supply chain & logistics and innovation & development. your colleagues are all commercial, enterprising and ambitious. together we aim for the best result and recognisability in the market.  about you in short, you have a mega palette of tasks and responsibilities. it is therefore important that you can keep an overview. and we ask more of you. so you have at least: a college degree from a commercial or technical related study at least 1 year of experience in sales and preferably in job placement a lot of ambition to grow in your profession a representative attitude strongly developed communication skills and a lot of persuasiveness and a valid driver license b.  what we offer give a little, take a little. you bring your expertise with you, and we provide a salary that matches it. you will also receive a laptop, smartphone and company car from us. and you have the chance to win interesting bonuses! we also arrange that you get a discount on the gym, cultural trips, insurance and your pension premium. and we don't take it overnight either with regard to your professional growth. you follow a tailor made training program from the outset that is provided by renowned institutes. about us don't be surprised if you hear a colleague in the office talking about how our location in singapore handles certain matters, or if your supervisor makes a call in fluent german. we work from 44 countries around the world and we are proud of that! we would never have grown this big if we didn't just go for the best match between professional and company every day. and you are an indispensable link in this. so do you step into brunel world? apply immediately!  hbo \""
      ]
     },
     "execution_count": 25,
     "metadata": {},
     "output_type": "execute_result"
    }
   ],
   "source": [
    "Data['Cleaned Job Description'][0]"
   ]
  }
 ],
 "metadata": {
  "kernelspec": {
   "display_name": "Python 3",
   "language": "python",
   "name": "python3"
  },
  "language_info": {
   "codemirror_mode": {
    "name": "ipython",
    "version": 3
   },
   "file_extension": ".py",
   "mimetype": "text/x-python",
   "name": "python",
   "nbconvert_exporter": "python",
   "pygments_lexer": "ipython3",
   "version": "3.7.7"
  }
 },
 "nbformat": 4,
 "nbformat_minor": 4
}
