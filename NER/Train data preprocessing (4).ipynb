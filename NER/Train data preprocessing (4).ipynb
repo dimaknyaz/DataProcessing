{
 "cells": [
  {
   "cell_type": "code",
   "execution_count": 1,
   "metadata": {},
   "outputs": [],
   "source": [
    "import pandas as pd\n",
    "import re"
   ]
  },
  {
   "cell_type": "code",
   "execution_count": 2,
   "metadata": {},
   "outputs": [],
   "source": [
    "Data = pd.read_csv(\"JobDataTranslated.csv\")\n",
    "#keyWords = pd.read_csv(\"words_set_long.csv\")\n",
    "keyWords_short = pd.read_csv(\"words_set_short.csv\")\n",
    "Data=Data[:-20]"
   ]
  },
  {
   "cell_type": "code",
   "execution_count": null,
   "metadata": {},
   "outputs": [],
   "source": []
  },
  {
   "cell_type": "code",
   "execution_count": 3,
   "metadata": {},
   "outputs": [],
   "source": [
    "# just a thing to clean input\n",
    "#Data['Job Description'].apply(lambda x: x.lower())\n",
    "\n",
    "def clean(text):\n",
    "    \n",
    "    # removing paragraph numbers\n",
    "    text = re.sub('[0-9]+.\\t','',str(text))\n",
    "    # removing new line characters\n",
    "    text = re.sub('\\n ','',str(text))\n",
    "    text = re.sub('\\n',' ',str(text))\n",
    "    # removing apostrophes\n",
    "    text = re.sub(\"'s\",'',str(text))\n",
    "    # removing hyphens\n",
    "    text = re.sub(\"-\",' ',str(text))\n",
    "    text = re.sub(\"— \",'',str(text))\n",
    "    # removing quotation marks\n",
    "    text = re.sub('\\\"','',str(text))\n",
    "    # removing salutations\n",
    "    text = re.sub(\"Mr\\.\",'Mr',str(text))\n",
    "    text = re.sub(\"Mrs\\.\",'Mrs',str(text))\n",
    "    # removing any reference to outside text\n",
    "    text = re.sub(\"[\\(\\[].*?[\\)\\]]\", \"\", str(text))\n",
    "    \n",
    "    return text\n",
    "\n",
    "# preprocessing speeches\n",
    "Data['Cleaned Job Description'] = Data['Job Description'].apply(clean)\n",
    "\n",
    "from string import punctuation\n",
    "\n",
    "def remove_punctuation(s):\n",
    "    global punctuation\n",
    "    for p in punctuation:\n",
    "        s = s.replace(p, '')\n",
    "    return s\n",
    "\n",
    "#Data['Cleaned Job Description'] = Data['Cleaned Job Description'].map(remove_punctuation)\n",
    "\n",
    "Data['Cleaned Job Description'] = Data['Cleaned Job Description'].apply(lambda x: x.lower())"
   ]
  },
  {
   "cell_type": "code",
   "execution_count": 4,
   "metadata": {},
   "outputs": [],
   "source": [
    "kWords=[keyWords_short['0'][i] for i in range(len(keyWords_short))]\n",
    "#kWords=[keyWords['0'][i] for i in range(len(keyWords))]"
   ]
  },
  {
   "cell_type": "code",
   "execution_count": null,
   "metadata": {},
   "outputs": [],
   "source": []
  },
  {
   "cell_type": "code",
   "execution_count": 5,
   "metadata": {},
   "outputs": [],
   "source": [
    "\n",
    "\"\"\" this thing allows us to find all words start indexes\"\"\"\n",
    "def find_all(text, sub):\n",
    "    start = 0\n",
    "    while True:\n",
    "        start = text.find(sub, start)\n",
    "        if start == -1: return\n",
    "        yield start\n",
    "        start += len(sub) # use start += 1 to find overlapping matches\n",
    "\n",
    "\"\"\"all words start indexes for list of words\"\"\"\n",
    "def find_all_in_list(text, subs: list):\n",
    "    l=[]\n",
    "    for i in subs:\n",
    "        l.append(list(find_all(text,i)))\n",
    "    m = [l[j][k] for j in range(len(l)) for k in range(len(l[j]))]\n",
    "    return m\n",
    "\n",
    "\n",
    "\"gives a sentence for an index of word inside\"\n",
    "def get_sentence(num, text ):\n",
    "    l= find_all_in_list(text, ['.','!','?',';'])\n",
    "    if (len(l)==0):\n",
    "        return -1\n",
    "    \n",
    "    l.sort()\n",
    "    if (num <l[0]):\n",
    "        return text[0:l[0]]\n",
    "    elif (num>l[-1]):\n",
    "        return text[l[-1]+1:]\n",
    "    \n",
    "    x=[i for i in range(len(l)) if l[i]<num and l[i+1]>num]\n",
    "    return (text[l[x[0]]+1:l[x[0]+1]])\n"
   ]
  },
  {
   "cell_type": "code",
   "execution_count": 6,
   "metadata": {},
   "outputs": [],
   "source": [
    "l = []\n",
    "for d in Data['Cleaned Job Description'] :\n",
    "    for i in kWords:\n",
    "        if d.find(i)!=-1:\n",
    "            #print(d.find(i),d.find(i)+len(i), get_sentence(d.find(i),d) ,'hui',i)\n",
    "            s = (get_sentence(d.find(i),d))\n",
    "            if (s!=-1):\n",
    "                l.append((s ,{\"entities\": [(s.find(i),s.find(i)+len(i), \"SKILL\")]}))"
   ]
  },
  {
   "cell_type": "code",
   "execution_count": 7,
   "metadata": {},
   "outputs": [
    {
     "data": {
      "text/plain": [
       "[(' if you are also curious about market developments, would you like to hear more about projects within the industry and are you able to translate this information into opportunities for brunel, then a role as a sales consultant is perfect for you',\n",
       "  {'entities': [(210, 226, 'SKILL')]}),\n",
       " (' together with your team you operate the fields: maintenance & asset management, industrial automation, supply chain & logistics and innovation & development',\n",
       "  {'entities': [(63, 79, 'SKILL')]}),\n",
       " (' so you have at least: a college degree from a commercial or technical related study at least 1 year of experience in sales and preferably in job placement a lot of ambition to grow in your profession a representative attitude strongly developed communication skills and a lot of persuasiveness and a valid driver license b',\n",
       "  {'entities': [(236, 259, 'SKILL')]}),\n",
       " (' so you have at least: a college degree from a commercial or technical related study at least 1 year of experience in sales and preferably in job placement a lot of ambition to grow in your profession a representative attitude strongly developed communication skills and a lot of persuasiveness and a valid driver license b',\n",
       "  {'entities': [(25, 39, 'SKILL')]}),\n",
       " (' so you have at least: a college degree from a commercial or technical related study at least 1 year of experience in sales and preferably in job placement a lot of ambition to grow in your profession a representative attitude strongly developed communication skills and a lot of persuasiveness and a valid driver license b',\n",
       "  {'entities': [(246, 266, 'SKILL')]}),\n",
       " (' so you have at least: a college degree from a commercial or technical related study at least 1 year of experience in sales and preferably in job placement a lot of ambition to grow in your profession a representative attitude strongly developed communication skills and a lot of persuasiveness and a valid driver license b',\n",
       "  {'entities': [(307, 321, 'SKILL')]}),\n",
       " ('  start as a delivery driver at thuisbezorgd',\n",
       "  {'entities': [(13, 28, 'SKILL')]}),\n",
       " (' and are you looking for a stable job or part time job as a bicycle courier with a fixed hourly wage and insurance',\n",
       "  {'entities': [(60, 75, 'SKILL')]}),\n",
       " (' you have good communication and writing skills, in particular english and dutch',\n",
       "  {'entities': [(10, 28, 'SKILL')]}),\n",
       " (' a completed mbo education', {'entities': [(13, 26, 'SKILL')]})]"
      ]
     },
     "execution_count": 7,
     "metadata": {},
     "output_type": "execute_result"
    }
   ],
   "source": [
    "l[0:10]"
   ]
  },
  {
   "cell_type": "code",
   "execution_count": 8,
   "metadata": {},
   "outputs": [
    {
     "data": {
      "text/plain": [
       "7183"
      ]
     },
     "execution_count": 8,
     "metadata": {},
     "output_type": "execute_result"
    }
   ],
   "source": [
    "len(l)"
   ]
  },
  {
   "cell_type": "code",
   "execution_count": 9,
   "metadata": {},
   "outputs": [],
   "source": [
    "import pickle\n",
    "\n",
    "with open(\"training_set_1.txt\", \"wb\") as fp:   #Pickling\n",
    "    pickle.dump(l, fp)\n",
    "    \n",
    "#with open(\"test.txt\", \"rb\") as fp:   # Unpickling\n",
    "#b = pickle.load(fp)"
   ]
  },
  {
   "cell_type": "code",
   "execution_count": 10,
   "metadata": {},
   "outputs": [],
   "source": [
    "l = [] # by vacancies\n",
    "for d in Data['Cleaned Job Description'] :\n",
    "    skls = []\n",
    "    for i in kWords:\n",
    "        \n",
    "        if d.find(i)!=-1:\n",
    "            #print(d.find(i),d.find(i)+len(i), get_sentence(d.find(i),d) ,'hui',i)\n",
    "            #s = (get_sentence(d.find(i),d))\n",
    "            \n",
    "            skls.append((d.find(i),d.find(i)+len(i), \"SKILL\"))\n",
    "            #print(skls)\n",
    "            #if (s!=-1):\n",
    "    l.append((d ,{\"entities\": skls}))"
   ]
  },
  {
   "cell_type": "code",
   "execution_count": 11,
   "metadata": {},
   "outputs": [
    {
     "data": {
      "text/plain": [
       "[(\"you know better than anyone how to bind other people to you, people for whom you can mean something. a great new assignment for jobseekers and the right match for their sourcing issue for clients. if you are also curious about market developments, would you like to hear more about projects within the industry and are you able to translate this information into opportunities for brunel, then a role as a sales consultant is perfect for you! about this position as a sales consultant you always have something to do. your main goal is to make the best match between clients and candidates, and that involves a lot. your work does not stop at finding and connecting both parties. you are also responsible for expanding and maintaining your own network of candidates and clients. that means that you are in constant contact with both parties. keeping an overview and keeping different balls in the air is no problem for you. your focus area will be on specialists and organizations within the northern netherlands industry. together with your team you operate the fields: maintenance & asset management, industrial automation, supply chain & logistics and innovation & development. your colleagues are all commercial, enterprising and ambitious. together we aim for the best result and recognisability in the market.  about you in short, you have a mega palette of tasks and responsibilities. it is therefore important that you can keep an overview. and we ask more of you. so you have at least: a college degree from a commercial or technical related study at least 1 year of experience in sales and preferably in job placement a lot of ambition to grow in your profession a representative attitude strongly developed communication skills and a lot of persuasiveness and a valid driver license b.  what we offer give a little, take a little. you bring your expertise with you, and we provide a salary that matches it. you will also receive a laptop, smartphone and company car from us. and you have the chance to win interesting bonuses! we also arrange that you get a discount on the gym, cultural trips, insurance and your pension premium. and we don't take it overnight either with regard to your professional growth. you follow a tailor made training program from the outset that is provided by renowned institutes. about us don't be surprised if you hear a colleague in the office talking about how our location in singapore handles certain matters, or if your supervisor makes a call in fluent german. we work from 44 countries around the world and we are proud of that! we would never have grown this big if we didn't just go for the best match between professional and company every day. and you are an indispensable link in this. so do you step into brunel world? apply immediately!  hbo \",\n",
       "  {'entities': [(406, 422, 'SKILL'),\n",
       "    (1085, 1101, 'SKILL'),\n",
       "    (1708, 1731, 'SKILL'),\n",
       "    (1497, 1511, 'SKILL'),\n",
       "    (1718, 1738, 'SKILL'),\n",
       "    (1779, 1793, 'SKILL')]})]"
      ]
     },
     "execution_count": 11,
     "metadata": {},
     "output_type": "execute_result"
    }
   ],
   "source": [
    "l[:1]"
   ]
  },
  {
   "cell_type": "code",
   "execution_count": 12,
   "metadata": {},
   "outputs": [
    {
     "data": {
      "text/plain": [
       "980"
      ]
     },
     "execution_count": 12,
     "metadata": {},
     "output_type": "execute_result"
    }
   ],
   "source": [
    "len(l)"
   ]
  },
  {
   "cell_type": "code",
   "execution_count": 13,
   "metadata": {},
   "outputs": [],
   "source": [
    "with open(\"training_set_by_vacancies.txt\", \"wb\") as fp:   #Pickling\n",
    "    pickle.dump(l, fp)\n",
    "    "
   ]
  }
 ],
 "metadata": {
  "kernelspec": {
   "display_name": "Python 3",
   "language": "python",
   "name": "python3"
  },
  "language_info": {
   "codemirror_mode": {
    "name": "ipython",
    "version": 3
   },
   "file_extension": ".py",
   "mimetype": "text/x-python",
   "name": "python",
   "nbconvert_exporter": "python",
   "pygments_lexer": "ipython3",
   "version": "3.7.7"
  }
 },
 "nbformat": 4,
 "nbformat_minor": 4
}
