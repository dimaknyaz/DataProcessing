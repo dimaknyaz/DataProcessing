{
 "cells": [
  {
   "cell_type": "code",
   "execution_count": 1,
   "metadata": {},
   "outputs": [],
   "source": [
    "import pandas as pd\n",
    "import nltk\n",
    "import numpy as np\n",
    "from nltk.tokenize import word_tokenize\n",
    "import re\n",
    "import matplotlib.pyplot as plt\n",
    "import math\n",
    "from nltk.corpus import stopwords"
   ]
  },
  {
   "cell_type": "markdown",
   "metadata": {},
   "source": [
    "# We extract skills based on cosine similarity of words from given list of clusters and each (meaningful) word in vacancy. It's possible to combine it with job extraction method made during holidays"
   ]
  },
  {
   "cell_type": "code",
   "execution_count": 2,
   "metadata": {},
   "outputs": [],
   "source": [
    "Data = pd.read_csv(\"JobDataTranslated.csv\")\n",
    "#Data['Job Description'].apply(lambda x: x.lower())\n",
    "\n",
    "def clean(text):\n",
    "    \n",
    "    # removing paragraph numbers\n",
    "    text = re.sub('[0-9]+.\\t','',str(text))\n",
    "    # removing new line characters\n",
    "    text = re.sub('\\n ','',str(text))\n",
    "    text = re.sub('\\n',' ',str(text))\n",
    "    # removing apostrophes\n",
    "    text = re.sub(\"'s\",'',str(text))\n",
    "    # removing hyphens\n",
    "    text = re.sub(\"-\",' ',str(text))\n",
    "    text = re.sub(\"— \",'',str(text))\n",
    "    # removing quotation marks\n",
    "    text = re.sub('\\\"','',str(text))\n",
    "    # removing salutations\n",
    "    text = re.sub(\"Mr\\.\",'Mr',str(text))\n",
    "    text = re.sub(\"Mrs\\.\",'Mrs',str(text))\n",
    "    # removing any reference to outside text\n",
    "    text = re.sub(\"[\\(\\[].*?[\\)\\]]\", \"\", str(text))\n",
    "    \n",
    "    return text\n",
    "\n",
    "# preprocessing speeches\n",
    "Data['Cleaned Job Description'] = Data['Job Description'].apply(clean)\n",
    "\n",
    "from string import punctuation\n",
    "\n",
    "def remove_punctuation(s):\n",
    "    global punctuation\n",
    "    for p in punctuation:\n",
    "        s = s.replace(p, '')\n",
    "    return s\n",
    "\n",
    "Data['Cleaned Job Description'] = Data['Cleaned Job Description'].map(remove_punctuation)\n",
    "\n",
    "Data['Cleaned Job Description'] = Data['Cleaned Job Description'].apply(lambda x: x.lower())"
   ]
  },
  {
   "cell_type": "code",
   "execution_count": 18,
   "metadata": {},
   "outputs": [],
   "source": [
    "s = pd.read_csv(\"JobDataTranslated.csv\")\n"
   ]
  },
  {
   "cell_type": "code",
   "execution_count": 4,
   "metadata": {},
   "outputs": [],
   "source": [
    "#nltk.download('stopwords')\n",
    "en_stopwords = stopwords.words('english')\n",
    "def remove_stopwords(s):\n",
    "    global en_stopwords\n",
    "    s = word_tokenize(s)\n",
    "    s = \" \".join([w for w in s if w not in en_stopwords])\n",
    "    return s\n",
    "\n",
    "# Create a new column of descriptions with no stopwords\n",
    "Data['Cleaned Job Description NoStop'] = Data['Cleaned Job Description'].map(remove_stopwords)\n",
    "\n",
    "\n"
   ]
  },
  {
   "cell_type": "code",
   "execution_count": 5,
   "metadata": {},
   "outputs": [],
   "source": [
    "x = \"agriculture architecture engineering art finance buziness construction excavation education healthcare hospitality \\\n",
    "math installation reapair legal military science administaration sales service transportation medicine driver chemistry\\\n",
    "nurse technician language therapy accounting delivery logistics teaching psychiatry hr plumber mechanic management \\\n",
    "leadership psychology communication carpenter physiotherapy ICT marketing programming computer administration\"\n"
   ]
  },
  {
   "cell_type": "code",
   "execution_count": 6,
   "metadata": {},
   "outputs": [
    {
     "data": {
      "text/plain": [
       "46"
      ]
     },
     "execution_count": 6,
     "metadata": {},
     "output_type": "execute_result"
    }
   ],
   "source": [
    "len(x.split(' '))"
   ]
  },
  {
   "cell_type": "code",
   "execution_count": 7,
   "metadata": {},
   "outputs": [],
   "source": [
    "import spacy\n",
    "\n",
    "nlp = spacy.load(\"en_core_web_lg\")"
   ]
  },
  {
   "cell_type": "code",
   "execution_count": 8,
   "metadata": {},
   "outputs": [],
   "source": [
    "\"\"\"\n",
    "remove copies of list in order\n",
    "\"\"\"\n",
    "def reduce(l):\n",
    "    sorted_reduced = []\n",
    "    for i in l:\n",
    "        if i not in sorted_reduced:\n",
    "            sorted_reduced.append(i)\n",
    "\n",
    "    return sorted_reduced"
   ]
  },
  {
   "cell_type": "code",
   "execution_count": 9,
   "metadata": {},
   "outputs": [],
   "source": [
    "'''\n",
    "skills for words that got a highest cosine similarity\n",
    "'''\n",
    "def print_top_skills(vac):\n",
    "    token1 = nlp(x)\n",
    "    tokens = nlp(vac)\n",
    "    l=[]\n",
    "    for token0 in token1:\n",
    "        for token2 in tokens:\n",
    "                l.append([token0.similarity(token2), token0.text, token2.text])\n",
    "    \n",
    "    clusters = [l[i][1] for i in range(len(l)) if l[i][0]>0.7]\n",
    "    words_traken_from =  [l[i][2] for i in range(len(l)) if l[i][0]>0.7] \n",
    "    print('Top clusters in order: ', reduce(clusters))\n",
    "    print()\n",
    "    print('Words in vacancy triggered by clusters: ', reduce(words_traken_from ))\n",
    "    return"
   ]
  },
  {
   "cell_type": "code",
   "execution_count": 10,
   "metadata": {},
   "outputs": [
    {
     "data": {
      "text/plain": [
       "\"You know better than anyone how to bind other people to you, people for whom you can mean something. A great new assignment for jobseekers and the right match for their sourcing issue for clients. If you are also curious about market developments, would you like to hear more about projects within the industry and are you able to translate this information into opportunities for Brunel, then a role as a Sales Consultant is perfect for you! About this position As a Sales Consultant you always have something to do. Your main goal is to make the best match between clients and candidates, and that involves a lot. Your work does not stop at finding and connecting both parties. You are also responsible for expanding and maintaining your own network of candidates and clients. That means that you are in constant contact with both parties. Keeping an overview and keeping different balls in the air is no problem for you. Your focus area will be on specialists and organizations within the Northern Netherlands Industry. Together with your team you operate the fields: Maintenance & Asset Management, Industrial Automation, Supply Chain & Logistics and Innovation & Development. Your colleagues are all commercial, enterprising and ambitious. Together we aim for the best result and recognisability in the market.  About you In short, you have a mega palette of tasks and responsibilities. It is therefore important that you can keep an overview. And we ask more of you. So you have at least: A college degree from a commercial or technical-related study At least 1 year of experience in sales and preferably in job placement A lot of ambition to grow in your profession A representative attitude Strongly developed communication skills and a lot of persuasiveness And a valid driver's license B.  What we offer Give a little, take a little. You bring your expertise with you, and we provide a salary that matches it. You will also receive a laptop, smartphone and company car from us. And you have the chance to win interesting bonuses! We also arrange that you get a discount on the gym, cultural trips, insurance and your pension premium. And we don't take it overnight either with regard to your professional growth. You follow a tailor-made training program from the outset that is provided by renowned institutes. About us Don't be surprised if you hear a colleague in the office talking about how our location in Singapore handles certain matters, or if your supervisor makes a call in fluent German. We work from 44 countries around the world and we are proud of that! We would never have grown this big if we didn't just go for the best match between professional and company every day. And you are an indispensable link in this. So do you step into Brunel's world? Apply immediately!  HBO \""
      ]
     },
     "execution_count": 10,
     "metadata": {},
     "output_type": "execute_result"
    }
   ],
   "source": [
    "s['Job Description'][0]"
   ]
  },
  {
   "cell_type": "code",
   "execution_count": 11,
   "metadata": {},
   "outputs": [
    {
     "name": "stdout",
     "output_type": "stream",
     "text": [
      "Top clusters in order:  ['sales', 'driver', 'logistics', 'management', 'communication']\n",
      "\n",
      "Words in vacancy triggered by clusters:  ['sales', 'driver', 'logistics', 'management', 'communication']\n"
     ]
    }
   ],
   "source": [
    "import warnings # if it works I don't care that says!\n",
    "warnings.filterwarnings(\"ignore\")\n",
    "\n",
    "print_top_skills(Data['Cleaned Job Description NoStop'][0])"
   ]
  },
  {
   "cell_type": "code",
   "execution_count": 12,
   "metadata": {},
   "outputs": [
    {
     "data": {
      "text/plain": [
       "\"XPO Logistics is a global player in supply chain solutions. XPO has more than 89,000 employees, spread over 1,440 offices in 33 countries. Our services focus on 3 domains: logistics solutions, transport and global forwarding.  For our Transport Compentence Center in Eindhoven we are looking for a: TRANSPORT ENGINEER  YOUR FUNCTION: As a Transport Engineer you fulfill a crucial role within the Transport Compentence Center department. You have an advisory and supporting role and you are constantly monitoring and analyzing data in the Transport department. You convert these analyzes into advice and improvement proposals. To Do: Conducting network studies and analysis of shipment data; Developing transport solutions and proposals to internal and external customers; Processing transport rates from carriers to rate sheets for customers; Keeping the carrier and rate database up to date; Executing projects for the further optimization of the Transport Competence Center; Analyzing and optimizing current flows.  YOUR PROFILE: To Be: You complete your HBO diploma, preferably a master, in a logistics direction with at least 5 years of experience in a Logistics & Transport environment; In addition to broad analytical thinking, you have the very strong Excel skills and you stand strong in your shoes; You are fluent in Dutch and English; Results-oriented, team player and sense of initiative are some of your most striking characteristics. You can set the right priorities and you respect deadlines.  OUR OFFER: XPO Logistics offers you an exciting job, with autonomy and responsibilities, in a fast-growing multinational. We provide thorough training and an interesting salary package  XPO is a leading provider of advanced supply chain solutions for the world's most successful companies. We help our customers manage their goods as efficiently as possible using our technology and services. Our greatest strength is our global team - energetic, innovative employees of all experience levels and talents who make XPO a great place to work.  Customer satisfaction, personal growth of employees and sustainability are central to the business philosophy of XPO Logistics. Today, this ambitious company is one of the top 3 largest logistics service providers in the Netherlands. \""
      ]
     },
     "execution_count": 12,
     "metadata": {},
     "output_type": "execute_result"
    }
   ],
   "source": [
    "s['Job Description'][200]"
   ]
  },
  {
   "cell_type": "code",
   "execution_count": 13,
   "metadata": {},
   "outputs": [
    {
     "name": "stdout",
     "output_type": "stream",
     "text": [
      "Top clusters in order:  ['engineering', 'service', 'transportation', 'logistics', 'marketing']\n",
      "\n",
      "Words in vacancy triggered by clusters:  ['engineer', 'services', 'service', 'transport', 'logistics', 'business']\n"
     ]
    }
   ],
   "source": [
    "print_top_skills(Data['Cleaned Job Description NoStop'][200])"
   ]
  },
  {
   "cell_type": "code",
   "execution_count": 14,
   "metadata": {},
   "outputs": [
    {
     "data": {
      "text/plain": [
       "'Also view this vacancy at: _www.maratec.nl/vacatures.html _ Ambiance Maratec is a specialist in the field of plastic frames, interior and exterior sun protection, mosquito nets, roller shutters and patio roofs. Our offer consists of a varied range of top brands, tailor-made advice and professional installation. Maratec has a suitable offer for every wallet. We are proud of our showroom, the most beautiful and largest in South Limburg. And we continue to grow. Full-time field service engineer and a Full-time apprentice field technician In this position you are the technical link between the customers and our company. For these vacancies we are looking for an independently operating professional with technical affinity. What are you going to do? As a mechanic at Ambiance Maratec you have a very varied job. Due to the wide variety of products and services, you are busy with different activities every day. Installation of indoor and outdoor sun protection, terrace solutions, insect protection and plastic frames. Solving malfunctions and carrying out repairs to existing products Carrying out maintenance on existing products Who are we looking for? An enthusiastic, positive, eager to learn, technical centipede Living in the Maastricht region You are: customer and service oriented communicative enterprising, creative and driven a team player accurate and disciplined representative you understand that sometimes it takes longer to work you are not afraid of ladder and working at height with a cherry picker can also occur. Are you that enthusiastic candidate we are looking for? Do not hesitate and respond to this vacancy. Heerderdwarsstraat 25, 6224 LS Maastricht T 043-363 55 88- www.ambiance.nl/maratec Type of employment: Full-time Working from home: No '"
      ]
     },
     "execution_count": 14,
     "metadata": {},
     "output_type": "execute_result"
    }
   ],
   "source": [
    "s['Job Description'][500]"
   ]
  },
  {
   "cell_type": "code",
   "execution_count": 15,
   "metadata": {},
   "outputs": [
    {
     "name": "stdout",
     "output_type": "stream",
     "text": [
      "Top clusters in order:  ['engineering', 'installation', 'service', 'technician', 'mechanic']\n",
      "\n",
      "Words in vacancy triggered by clusters:  ['engineer', 'installation', 'service', 'services', 'technician', 'mechanic']\n"
     ]
    }
   ],
   "source": [
    "print_top_skills(Data['Cleaned Job Description NoStop'][500])"
   ]
  },
  {
   "cell_type": "code",
   "execution_count": 16,
   "metadata": {},
   "outputs": [
    {
     "data": {
      "text/plain": [
       "'Your challenge as a Service Technician Electrical Engineering | Venlo As a Service Technician you independently perform maintenance and service work on (complex) installations of our customers within the utility. Think of customers in the segments education, healthcare and government. You maintain, repair and modify installations of various types, put them into operation and set them up, within the set time and in accordance with instructions. Locates faults, resolves them and checks installations for defects or imminent defects. You provide written reports on maintenance work and / or malfunctions and you take care of the necessary administration. You participate in breakdown services together with a young and ambitious team. With your service-providing attitude, you and the team ensure maximum internal and external customer satisfaction Your team You will work within Unica Building Services; the one-stop-shop for building-related technology. From design, realization to management, maintenance and inspection. From A to Z, our customers can rely on the expertise of Unica employees. About 90 employees and 40 employees work at Industry Solutions at the Unica location in Venlo. We advise, manage and maintain building-related and process installations of our customers in the region. For example, we have realized the W and E installations in the Innovatoren along the A73, with a 15-year maintenance contract. We value innovation and like to be ahead of the rest. Our location is the first building in Limburg where a Heat Cold Storage (ATES) system has been realized. Due to the familiar nature of the location, the lines are short and it is possible to switch quickly. At Building Services Venlo, we work together to achieve the best result for customers and partners. Together we make the future. What does Unica offer you? At Unica we invest in you. We think it is important that you can develop professionally. With us you make the difference in technology and service; our slogan is \"Together we make the future\". Many of our colleagues attend courses, training courses and courses every year in the field of (installation) technology, mechanical engineering and commercial and management skills. You too soon?  You can also count on: A good salary; Flexible working hours; A good pension scheme; 25 vacation days and 13 adv days; Profit-sharing scheme; Group discount on your health insurance with Zilveren Kruis and CZ; Company car, telephone and laptop. Of course we also ask something from you You are a service-oriented problem solver. No malfunction is too crazy and with all your knowledge you are in charge of the problem. You are Unica\\'s calling card and you stand for that too. In addition: Have you completed an MBO 3 or 4 in electrical engineering; Are you independent; Can and are you allowed to drive a car; Are you able to learn quickly and develop yourself; Do you enjoy working in utility; Are you customer-friendly and communicative. Who are we? Unica is the all-round technical service provider in the Netherlands and a trendsetter in sustainable innovations that solves all technical issues in and around buildings. Think of applying solutions in the field of installation technology, energy, ICT, internet of things (IOT) and smart buildings that contribute to functional, healthy and safe living and working environments. Unica converts the wishes and needs of customers into a quality tailor-made solution. With a decisive network of nine business clusters, more than 2,500 employees and a turnover of € 477 million, Unica is one of the largest technical service providers in the Netherlands '"
      ]
     },
     "execution_count": 16,
     "metadata": {},
     "output_type": "execute_result"
    }
   ],
   "source": [
    "s['Job Description'][900]"
   ]
  },
  {
   "cell_type": "code",
   "execution_count": 17,
   "metadata": {},
   "outputs": [
    {
     "name": "stdout",
     "output_type": "stream",
     "text": [
      "Top clusters in order:  ['engineering', 'education', 'healthcare', 'installation', 'service', 'technician', 'teaching', 'management', 'ICT', 'marketing', 'administration']\n",
      "\n",
      "Words in vacancy triggered by clusters:  ['engineering', 'education', 'healthcare', 'care', 'health', 'installations', 'installation', 'service', 'services', 'technician', 'management', 'ict', 'business', 'administration']\n"
     ]
    }
   ],
   "source": [
    "print_top_skills(Data['Cleaned Job Description NoStop'][900])"
   ]
  }
 ],
 "metadata": {
  "kernelspec": {
   "display_name": "Python 3",
   "language": "python",
   "name": "python3"
  },
  "language_info": {
   "codemirror_mode": {
    "name": "ipython",
    "version": 3
   },
   "file_extension": ".py",
   "mimetype": "text/x-python",
   "name": "python",
   "nbconvert_exporter": "python",
   "pygments_lexer": "ipython3",
   "version": "3.7.7"
  }
 },
 "nbformat": 4,
 "nbformat_minor": 4
}
