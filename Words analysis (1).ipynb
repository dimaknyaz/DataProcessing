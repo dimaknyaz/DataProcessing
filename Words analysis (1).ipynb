{
 "cells": [
  {
   "cell_type": "code",
   "execution_count": 1,
   "metadata": {},
   "outputs": [],
   "source": [
    "import pandas as pd\n",
    "import nltk\n",
    "import numpy as np\n",
    "from nltk.tokenize import word_tokenize\n",
    "import re\n",
    "import matplotlib.pyplot as plt\n",
    "import math\n",
    "from nltk.corpus import stopwords\n"
   ]
  },
  {
   "cell_type": "code",
   "execution_count": 2,
   "metadata": {},
   "outputs": [],
   "source": [
    "Data = pd.read_csv(\"JobDataTranslated.csv\")"
   ]
  },
  {
   "cell_type": "code",
   "execution_count": 3,
   "metadata": {},
   "outputs": [],
   "source": [
    "# function to preprocess speech\n",
    "#Data['Job Description'].apply(lambda x: x.lower())\n",
    "\n",
    "def clean(text):\n",
    "    \n",
    "    # removing paragraph numbers\n",
    "    text = re.sub('[0-9]+.\\t','',str(text))\n",
    "    # removing new line characters\n",
    "    text = re.sub('\\n ','',str(text))\n",
    "    text = re.sub('\\n',' ',str(text))\n",
    "    # removing apostrophes\n",
    "    text = re.sub(\"'s\",'',str(text))\n",
    "    # removing hyphens\n",
    "    text = re.sub(\"-\",' ',str(text))\n",
    "    text = re.sub(\"— \",'',str(text))\n",
    "    # removing quotation marks\n",
    "    text = re.sub('\\\"','',str(text))\n",
    "    # removing salutations\n",
    "    text = re.sub(\"Mr\\.\",'Mr',str(text))\n",
    "    text = re.sub(\"Mrs\\.\",'Mrs',str(text))\n",
    "    # removing any reference to outside text\n",
    "    text = re.sub(\"[\\(\\[].*?[\\)\\]]\", \"\", str(text))\n",
    "    \n",
    "    return text\n",
    "\n",
    "# preprocessing speeches\n",
    "Data['Cleaned Job Description'] = Data['Job Description'].apply(clean)\n",
    "\n",
    "from string import punctuation\n",
    "\n",
    "def remove_punctuation(s):\n",
    "    global punctuation\n",
    "    for p in punctuation:\n",
    "        s = s.replace(p, '')\n",
    "    return s\n",
    "\n",
    "Data['Cleaned Job Description'] = Data['Cleaned Job Description'].map(remove_punctuation)\n",
    "\n",
    "Data['Cleaned Job Description'] = Data['Cleaned Job Description'].apply(lambda x: x.lower())\n"
   ]
  },
  {
   "cell_type": "code",
   "execution_count": 4,
   "metadata": {},
   "outputs": [
    {
     "data": {
      "text/plain": [
       "NN     106773\n",
       "IN      57169\n",
       "JJ      45685\n",
       "DT      40667\n",
       "NNS     32368\n",
       "dtype: int64"
      ]
     },
     "execution_count": 4,
     "metadata": {},
     "output_type": "execute_result"
    }
   ],
   "source": [
    "#Data['Job Description'].apply(lambda x: x.lower())\n",
    "\n",
    "#nltk.download('punkt')\n",
    "#nltk.download('averaged_perceptron_tagger')\n",
    "corpus = \" \".join(Data['Cleaned Job Description'].tolist())\n",
    "tokens = word_tokenize(corpus)\n",
    "# Get the parts of speech tag for all words\n",
    "answer = nltk.pos_tag(tokens)\n",
    "answer_pos = [a[1] for a in answer]\n",
    "\n",
    "# print a value count for the parts of speech\n",
    "all_pos = pd.Series(answer_pos)\n",
    "all_pos.value_counts().head()\n"
   ]
  },
  {
   "cell_type": "code",
   "execution_count": 5,
   "metadata": {},
   "outputs": [
    {
     "data": {
      "text/plain": [
       "NN     103824\n",
       "JJ      48363\n",
       "NNS     31957\n",
       "VBP     14378\n",
       "VBG     13640\n",
       "dtype: int64"
      ]
     },
     "execution_count": 5,
     "metadata": {},
     "output_type": "execute_result"
    }
   ],
   "source": [
    "#nltk.download('stopwords')\n",
    "en_stopwords = stopwords.words('english')\n",
    "def remove_stopwords(s):\n",
    "    global en_stopwords\n",
    "    s = word_tokenize(s)\n",
    "    s = \" \".join([w for w in s if w not in en_stopwords])\n",
    "    return s\n",
    "\n",
    "# Create a new column of descriptions with no stopwords\n",
    "Data['Cleaned Job Description NoStop'] = Data['Cleaned Job Description'].map(remove_stopwords)\n",
    "\n",
    "# make a corpus of all the words in the job description\n",
    "corpus = \" \".join(Data['Cleaned Job Description NoStop'].tolist())\n",
    "\n",
    "# This is the NLTK function that breaks a string down to its tokens\n",
    "tokens = word_tokenize(corpus)\n",
    "\n",
    "answer = nltk.pos_tag(tokens)\n",
    "answer_pos = [a[1] for a in answer]\n",
    "\n",
    "all_pos = pd.Series(answer_pos)\n",
    "all_pos.value_counts().head()"
   ]
  },
  {
   "cell_type": "code",
   "execution_count": 6,
   "metadata": {},
   "outputs": [],
   "source": [
    "# import the necessary functions from the nltk library\n",
    "#nltk.download('wordnet')\n",
    "from nltk.stem.wordnet import WordNetLemmatizer\n",
    "lmtzr = WordNetLemmatizer()\n",
    "\n",
    "# prepare corpus from the descriptions that dont have stopwords\n",
    "corpus = \" \".join(Data['Cleaned Job Description NoStop'].tolist())\n",
    "\n",
    "#tokenize words\n",
    "tokenized_corpus = nltk.word_tokenize(corpus)\n",
    "\n",
    "# lemmatize these tokens\n",
    "lemmatized_tokens = [lmtzr.lemmatize(token) for token in tokenized_corpus]\n",
    "\n",
    "# word frequencies for the lemmatized tokens\n",
    "fd = nltk.FreqDist(lemmatized_tokens)\n",
    "\n",
    "# get the top words\n",
    "top_words = []\n",
    "for key, value in fd.items():\n",
    "    top_words.append((key, value))\n",
    "\n",
    "# sort the list by the top frequencies\n",
    "top_words = sorted(top_words, key = lambda x:x[1], reverse = True)\n",
    "\n",
    "# keep top 10 words only\n",
    "\n"
   ]
  },
  {
   "cell_type": "markdown",
   "metadata": {},
   "source": [
    "# From here fun begins"
   ]
  },
  {
   "cell_type": "code",
   "execution_count": 7,
   "metadata": {},
   "outputs": [],
   "source": [
    "\n",
    "data = pd.read_csv(r\"C:\\Users\\Dima\\Downloads\\data_merged.csv\")\n",
    "\n",
    "#data=data[data[\"Is requirment\"]==1]\n",
    "indicies = [i for i in range(len(data)) if data[\"Is requirment\"][i]==1]\n",
    "\n",
    "words = [data['word'][i] for i in indicies]\n"
   ]
  },
  {
   "cell_type": "code",
   "execution_count": 8,
   "metadata": {},
   "outputs": [],
   "source": [
    "def find_word(text, word):\n",
    "    \n",
    "    indices = [i for i in range(len(text)) if text[i] == word]\n",
    "    return indices\n",
    "\n",
    "def find_words(text,words):\n",
    "    z=[]\n",
    "    for i in words:\n",
    "        if (len(find_word(text,i))!=0):\n",
    "            z.append(find_word(text,i))\n",
    "    unlist=[z[i][j] for i in range(len(z)) for j in range(len(z[i]))]\n",
    "    return unlist\n",
    "\n",
    "useless=[\"you\",\"your\",\"and\",\"of\",\"for\",\"are\",\"a\",\"to\",\"the\",\"an\",\"is\",\"also\",\"or\",\"per\",\"in\",\"we\",\"with\",\"our\",\"us\",\"this\",\"on\",\n",
    "        \"×\",\"as\",\"who\",\"on\"]\n",
    "# loc - set of indicies with all words in text \n",
    "def get_neigbour(text,loc, left=True):\n",
    "    z=[]\n",
    "    if (left):\n",
    "        for i in loc:\n",
    "            if (i!=0 and useless.count(text[i-1])==0):\n",
    "                z.append(text[i-1]+\" \"+text[i])\n",
    "    else:\n",
    "        for i in loc:\n",
    "            if (i!=len(text)-1 and useless.count(text[i+1])==0):\n",
    "                z.append(text[i]+\" \"+text[i+1])\n",
    "            \n",
    "    return z\n",
    "\n",
    "\n",
    "\n",
    "req=[]\n",
    "for i in range(1000):\n",
    "    txt = Data[\"Cleaned Job Description\"][i]\n",
    "    x = txt.split()\n",
    "    new_w=get_neigbour(x,find_words(x,words),True)\n",
    "    req.append(new_w)\n",
    "\n",
    "def ugly_list_to_cute_df():\n",
    "    req_unlist = [req[i][j] for i in range(len(req)) for j in range(len(req[i]))]\n",
    "    final = list(dict.fromkeys(req_unlist))\n",
    "\n",
    "    z=[]\n",
    "    for i in final:\n",
    "        z.append(req_unlist.count(i))\n",
    "\n",
    "    datta = {'frequency':  z, 'Combo': final}\n",
    "    dtf = pd.DataFrame (datta, columns = ['frequency','Combo'])\n",
    "    dtf=dtf.sort_values(by=['frequency'], ascending=False)\n",
    "    return dtf\n",
    "\n",
    "df = ugly_list_to_cute_df()\n",
    "#df.to_csv(\"left_neighbours.csv\")"
   ]
  },
  {
   "cell_type": "code",
   "execution_count": 9,
   "metadata": {},
   "outputs": [],
   "source": [
    "def get_neigbours(text,loc):\n",
    "    z=[]\n",
    "    for i in loc:\n",
    "        if (i!=0 and i!=len(text)-1):\n",
    "            if (useless.count(text[i-1])==0 and useless.count(text[i+1])==0):\n",
    "                z.append(text[i-1]+\" \"+text[i]+\" \"+ text[i+1])\n",
    "            \n",
    "    return z\n",
    "\n",
    "req=[]\n",
    "for i in range(1000):\n",
    "    txt = Data[\"Cleaned Job Description\"][i]\n",
    "    x = txt.split()\n",
    "    new_w=get_neigbours(x,find_words(x,words))\n",
    "    req.append(new_w)\n",
    "    \n",
    "df = ugly_list_to_cute_df()\n",
    "#df.to_csv(\"both_neigbours.csv\")\n"
   ]
  },
  {
   "cell_type": "code",
   "execution_count": 10,
   "metadata": {},
   "outputs": [],
   "source": [
    "from nltk.corpus import wordnet\n",
    "\n",
    "\n",
    "def get_synonims(word):\n",
    "    synonyms = []\n",
    "    for syn in wordnet.synsets(word):\n",
    "            for l in syn.lemmas():\n",
    "                synonyms.append(l.name())\n",
    "    return set(synonyms)\n",
    "\n",
    "\n",
    "\n",
    "words_extended = set()\n",
    "for i in words:\n",
    "    words_extended.add(i)\n",
    "    words_extended=words_extended.union(get_synonims(i))\n",
    "    \n",
    "def reduce(l):\n",
    "    return list(dict.fromkeys(l))"
   ]
  },
  {
   "cell_type": "markdown",
   "metadata": {},
   "source": [
    "# words_short directly words mentioned,words_ long - with all synonims"
   ]
  },
  {
   "cell_type": "code",
   "execution_count": 11,
   "metadata": {},
   "outputs": [],
   "source": [
    "dfL = pd.read_csv(r\"C:\\Users\\Dima\\Downloads\\Left neighbours - Sheet1.csv\")\n",
    "dfR=pd.read_csv(r\"C:\\Users\\Dima\\Downloads\\Right neihbours.csv\")\n",
    "dfB = pd.read_csv(r\"C:\\Users\\Dima\\Downloads\\Both neighbours - Sheet1.csv\")\n",
    "\n",
    "indiciesB = [i for i in range(len(dfB)) if dfB[\"result\"][i]==1]\n",
    "three_w = [dfB['Combo'][i] for i in indiciesB]\n",
    "\n",
    "\n",
    "indiciesL = [i for i in range(len(dfL)) if dfL[\"result\"][i]==1]\n",
    "two_w_l = [dfL['Combo'][i] for i in indiciesL]\n",
    "\n",
    "indiciesR = [i for i in range(len(dfR)) if dfR[\"result\"][i]==1]\n",
    "two_w_r = [dfR['Combo'][i] for i in indiciesR]\n",
    "\n",
    "two_w=two_w_l\n",
    "two_w.extend(two_w_r)\n",
    "\n",
    "\n",
    "two_w.extend(three_w)\n",
    "two_w=reduce(two_w)\n",
    "\n",
    "def words_short(x=x):\n",
    "    words_short=reduce(get_neigbour(x,find_words(x,words),True))\n",
    "    words_short.extend(reduce(get_neigbour(x,find_words(x,words),False)))\n",
    "    words_short.extend(reduce(get_neigbours(x,find_words(x,words))))\n",
    "    words_short = reduce(words_short)\n",
    "    return words_short\n",
    "\n",
    "def words_long(x=x):\n",
    "    words_long = reduce(get_neigbour(x,find_words(x,words_extended),True))\n",
    "    words_long.extend(reduce(get_neigbour(x,find_words(x,words_extended),False)))\n",
    "    words_long.extend(reduce(get_neigbours(x,find_words(x,words_extended))))\n",
    "    words_long = reduce(words_long)\n",
    "    return words_long\n"
   ]
  },
  {
   "cell_type": "markdown",
   "metadata": {},
   "source": [
    "# Super list of 2 words"
   ]
  },
  {
   "cell_type": "code",
   "execution_count": 12,
   "metadata": {},
   "outputs": [],
   "source": [
    "def get_super_two_list(l = two_w_l):\n",
    "    lis=[]\n",
    "    for i in l:\n",
    "        x=i.split()\n",
    "        s=get_synonims(x[1])\n",
    "        f=get_synonims(x[0])\n",
    "        lis.append(i)\n",
    "        for k in f:\n",
    "            for j in s:\n",
    "                lis.append(k+\" \"+j)\n",
    "    return list(dict.fromkeys(lis))\n",
    "\n",
    "def get_super_three_list(l = three_w):\n",
    "    lis=[]\n",
    "    for i in l:\n",
    "        x=i.split()\n",
    "        t = get_synonims(x[2])\n",
    "        s=get_synonims(x[1])\n",
    "        f=get_synonims(x[0])\n",
    "        lis.append(i)\n",
    "        for k in f:\n",
    "            for j in s:\n",
    "                for m in t:\n",
    "                    lis.append(k+\" \"+j+\" \"+m)\n",
    "    return list(dict.fromkeys(lis))\n",
    "\n",
    "\n",
    "\n",
    "super_list = get_super_two_list()\n",
    "super_list.extend(get_super_two_list(two_w_r))\n",
    "super_list.extend(get_super_three_list())\n",
    "super_list = reduce(super_list)\n",
    "\n",
    "def remove_substrings(words = two_w):\n",
    "    two=[]\n",
    "    three=[]\n",
    "    for i in words:\n",
    "        if (len(i.split())==2):\n",
    "            two.append(i)\n",
    "        else:\n",
    "            three.append(i)\n",
    "    \n",
    "    \n",
    "    for i in three:\n",
    "        for j in two:\n",
    "            if i.rfind(j)!=-1:\n",
    "                two.remove(j)\n",
    "    two.extend(three)\n",
    "    return two\n",
    "\n",
    "def intersection(lst1, lst2): \n",
    "    return list(set(lst1) & set(lst2)) "
   ]
  },
  {
   "cell_type": "markdown",
   "metadata": {},
   "source": [
    "# After we made use of our magic algoritm"
   ]
  },
  {
   "cell_type": "markdown",
   "metadata": {},
   "source": [
    "## example 1 from training set"
   ]
  },
  {
   "cell_type": "code",
   "execution_count": 13,
   "metadata": {},
   "outputs": [
    {
     "data": {
      "text/plain": [
       "\"About the position Have you obtained a teaching assistant diploma or your propaedeutic certificate from the PABO? Then accept the challenge! Do you like flexible working and would you like to work at different schools in different positions, then join our pool for the Haaglanden and Rotterdam regions. We work together with more than 450 schools where we provide teaching assistants with work. In this we make the most suitable match possible with your preferences. We'll keep in touch! I will work with you to find out where you can best use your qualities and what best suits your preferences. Whether you like to teach in the lower, middle or upper classes, we have more than enough assignments that match your preferences. After the introduction, we remain connected to each other; I follow your career as a teaching assistant and often have contact with each other to ensure that you enjoy your work. Working for Maandag® means working from flexible security. You work at one or more schools in a year, based on an appointment at Maandag®. This way you are provided with varied work and in short: your happiness at work as a teacher is central to us! Job requirements What can we expect from you? You are in possession of a teaching assistant diploma, or you have obtained your propaedeutic certificate from the PABO. You are a flexible teaching assistant and you can adapt well in a new environment. Your pedagogical and didactic skills are rock solid. You can differentiate well between students and your class management is perfectly fine. What can you expect from us? A salary in accordance with the collective labor agreement for primary education. Personal guidance from a permanent contact person. The opportunity to continue to develop yourself as a teaching assistant in our Academy. Access to club events Monday, welcome to the family! You can come home with a travel allowance of € 0.19 per kilometer! About the company Professionals who work at Maandag® select themselves. Together with them, we see Monday as a fresh and new beginning. The feeling that anything is possible. We convey that feeling of ambition and optimism every day of the week. Because actually every day is Monday for us. Professionals at Maandag® love their work, just like we do. That's why we are such a good team. Fast, driven and very positive. We want to get the most out of our work and see happiness at work as the key to success. You too? Apply Do you recognize yourself in this profile? And does working at Maandag® seem like a great step to you? Then apply immediately. Who knows, maybe your Monday will soon look just as cool as ours. \""
      ]
     },
     "execution_count": 13,
     "metadata": {},
     "output_type": "execute_result"
    }
   ],
   "source": [
    "tex = Data[\"Cleaned Job Description\"][8]\n",
    "x = tex.split()\n",
    "Data[\"Job Description\"][8]"
   ]
  },
  {
   "cell_type": "code",
   "execution_count": 14,
   "metadata": {},
   "outputs": [
    {
     "name": "stdout",
     "output_type": "stream",
     "text": [
      "['very positive', 'primary education', 'teaching assistant diploma', 'flexible teaching assistant', 'can adapt well'] \n",
      "\n",
      "['very positive', 'primary education', 'class management', 'can adapt well', 'teaching assistant diploma', 'flexible teaching assistant'] \n",
      "\n",
      "['very positive', 'primary education', 'teaching assistant diploma', 'flexible teaching assistant', 'can adapt well'] \n",
      "\n",
      "['very positive', 'primary education', 'class management', 'can adapt well', 'teaching assistant diploma', 'flexible teaching assistant'] \n",
      "\n"
     ]
    }
   ],
   "source": [
    "# just list and just words \n",
    "print(remove_substrings(intersection(words_short(x),two_w)),'\\n')\n",
    "\n",
    "# just list and extended words \n",
    "print(remove_substrings(intersection(words_short(x),super_list)),'\\n')\n",
    "\n",
    "# super list and just words \n",
    "print(remove_substrings(intersection(words_long(x),two_w)),'\\n')\n",
    "\n",
    "# super list & extended words\n",
    "print(remove_substrings(intersection(words_long(x),super_list)),'\\n')\n"
   ]
  },
  {
   "cell_type": "markdown",
   "metadata": {},
   "source": [
    "## example 2 from training set"
   ]
  },
  {
   "cell_type": "code",
   "execution_count": 15,
   "metadata": {},
   "outputs": [
    {
     "data": {
      "text/plain": [
       "\"Do you want to make an impact through personnel planning and Workforce Management? Do you enjoy advising healthcare organizations on planning and scheduling? Do you want the best of the best for your clients and their employees and do you want to develop further in an inspiring environment together with other enthusiastic colleagues? Read on and apply for the position of senior WFM healthcare consultant! This is PlanMen We are a consultancy organization specialized in personnel planning, also known as Workforce Management (WFM). More than 70 colleagues daily help organizations across the country to implement and improve the WFM process. In addition to helping our clients, we also train planners and professionals in our PlanMen Academy. We actively share knowledge by organizing various events, such as the annual PlanMen Congress. Many also know us from the PlanMen WFM Awards. An award show that puts planners and organizations in the limelight. Our head office is located in Doorn, in the middle of the woods where we regularly meet while walking. Our culture is characterized by a no-nonsense attitude: we work hard, have a heart for each other (but also for the business) and have a lot of fun together. Each and every one of PlanMen employs passionate specialists, each with their own input. This is you You are an energetic professional, advising and helping customers is in your DNA. You bring in sound knowledge and experience of healthcare and the WFM field and your approach is in line with trends and developments. You have an important role in coaching people on assignments. You are aware of the interests and wishes of the customer, recognize sales opportunities and know how to respond to them. You show our healthcare customers the benefits of PlanMen's services and products. You are focused on quality and results, but also realistic towards the client about the chances of success. You look at problems from multiple angles and you easily get to the heart of the matter. You can easily adapt to changing circumstances and you can switch and communicate at different levels. You have a keen perception, recognize different corporate cultures and know how to respond to them. What you will do Finding the right balance in WFM is a complicated quest for organizations. As a Senior Consultant you know from experience and your analytical skills which choices need to be made to guide an organization to a higher maturity level of WFM. At the customer you give advice about the entire planning cycle on the basis of the PlanMen's Wheel of Six. You know how to use this Wheel of Six operationally, tactically and strategically. You mobilize people and resources and think about the next steps to make even better use of the potential of the assignment and of the customer. Whatever the level of WFM in the organization, you are looking for the best working change approach and take the lead to let organizations grow in WFM maturity. After each step, the customer is better able to manage sustainably on its attractiveness as an employer, customer focus and financial success. What we ask for At least 5 years of demonstrable experience within Workforce Management at HBO work and thinking level Experiences with process and project management Proven experience in the optimization of staff schedules, forecasts, rosters, capacity schedules, day management and reports Affinity with planning software and focus area care Experience within the healthcare sector is an advantage Thorough knowledge of organizational and change management Strong oral and written communication skills in Dutch Strong analytical thinking What we offer A salary appropriate to the position with participation in our profit-sharing scheme in accordance with the guidelines of our salary house A pension scheme A lease car or a transport budget that fits within our mobility scheme Participation in the personal leadership program, continuous knowledge development through our own PlanMen Academy and an accessible development budget Fun and varied work in a professional and independent environment, where you really make an impact. You are part of the healthcare team. An open and cooperative corporate culture with a good work / life balance A head office in a spectacular location on the Zonheuvel estate in Doorn, a green wooded area I want this! If you feel addressed after reading this vacancy, then we are looking for you. Let us know! You can express your interest by sending an application until January 7, using the form below. If you have any questions: please contact our recruiter Eva Hazes 088 - 825 2525. Application deadline: 1/7/2021 Type of employment: Full-time Terms of employment: Travel allowance Work from home Profit sharing Work schedule: Mon-Fri Experience: WFM: 5 years (Recommended) Educated ng:  HBO (Required)  Language:  Dutch (Required)  Working from home:  Temporarily due to COVID-19 \""
      ]
     },
     "execution_count": 15,
     "metadata": {},
     "output_type": "execute_result"
    }
   ],
   "source": [
    "tex = Data[\"Cleaned Job Description\"][80]\n",
    "x = tex.split()\n",
    "Data[\"Job Description\"][80]"
   ]
  },
  {
   "cell_type": "code",
   "execution_count": 16,
   "metadata": {},
   "outputs": [
    {
     "name": "stdout",
     "output_type": "stream",
     "text": [
      "['change management', 'analytical thinking', 'analytical skills', 'personnel planning', 'day management', 'project management', 'healthcare consultant', 'strong analytical', 'advising healthcare', 'senior consultant', 'workforce management', 'personal leadership', 'demonstrable experience', 'passionate specialists', 'planning software', 'written communication skills', 'hbo language dutch'] \n",
      "\n",
      "['change management', 'analytical thinking', 'analytical skills', 'personnel planning', 'day management', 'project management', 'healthcare consultant', 'planning cycle', 'strong analytical', 'advising healthcare', 'sound knowledge', 'senior consultant', 'care experience', 'workforce management', 'personal leadership', 'demonstrable experience', 'area care', 'thinking level', 'passionate specialists', 'planning software', 'written communication skills', 'hbo language dutch'] \n",
      "\n",
      "['change management', 'analytical thinking', 'analytical skills', 'personnel planning', 'day management', 'project management', 'healthcare consultant', 'strong analytical', 'advising healthcare', 'senior consultant', 'workforce management', 'personal leadership', 'demonstrable experience', 'passionate specialists', 'planning software', 'written communication skills', 'hbo language dutch'] \n",
      "\n",
      "['change management', 'analytical thinking', 'analytical skills', 'personnel planning', 'day management', 'project management', 'healthcare consultant', 'planning cycle', 'strong analytical', 'make even', 'advising healthcare', 'sound knowledge', 'senior consultant', 'care experience', 'workforce management', 'head office', 'personal leadership', 'demonstrable experience', 'area care', 'thinking level', 'passionate specialists', 'planning software', 'written communication skills', 'hbo language dutch'] \n",
      "\n"
     ]
    }
   ],
   "source": [
    "# just list and just words \n",
    "print(remove_substrings(intersection(words_short(x),two_w)),'\\n')\n",
    "\n",
    "# just list and extended words \n",
    "print(remove_substrings(intersection(words_short(x),super_list)),'\\n')\n",
    "\n",
    "# super list and just words \n",
    "print(remove_substrings(intersection(words_long(x),two_w)),'\\n')\n",
    "\n",
    "# super list & extended words\n",
    "print(remove_substrings(intersection(words_long(x),super_list)),'\\n')\n"
   ]
  },
  {
   "cell_type": "markdown",
   "metadata": {},
   "source": [
    "## example 3 from training set"
   ]
  },
  {
   "cell_type": "code",
   "execution_count": 17,
   "metadata": {},
   "outputs": [
    {
     "data": {
      "text/plain": [
       "\"Position Title Site Head - 6 months assignment  02-Dec-2020  Job ID 308193BR  Job Description The Site Head for IDB will operate to produce the starting material to be processed in Drug Product sites for the production of the finished product. They will be responsible to translate the TechOps Theragnostic and Country strategies in actionable action plans including: Preparation and execution of CAPEX; constantly improving operational efficiencies in the site; ensuring the site has adequate resources and capabilities to ensure compliance, quality, service to patients, and people development. The Site Head will develop people to create an unbossed, curious and innovative culture as a basis for sustainable performance.  Major Activities:  Strategy, Culture, and People • Together with management, develop a Site Master Plan for the site outlining a 5-year plan including forecasted volumes, expenses, and Capex supporting business needs. • Create a culture of accountability based on inspired, curious, unbossed principles. • Lead by example and role modeling. • Ensure development of associates in line with the needs of the sites.  Quality, Compliance, EHS • Ensure a state of compliance with any applicable regulations and internal guidelines are maintained at all times. • Constantly advocate for quality, compliance and safety, leading by example. • Lead Risks Analysis, definition of corrective and preventive actions, and their implementation. Define and implement actions derived from inspections, audits, or commitments made to authorities. • Together with the Head Quality and the rest of the Team in the sites, help prepare for regulatory inspections and internal audits. • Timely escalate critical undesired events (compliance, safety, quality) to upper management.  Operational • Responsible for the performance of the manufacturing site to deliver Key Performance Indicators according to target (service levels, cost, quality and compliance, cultural surveys). • Keeping management and stakeholders regularly informed (Regulatory Affairs, Corporate Pharmaceutical. • Facilitate escalation for action and decision-making as required. • Work with Manufacturing Science and Technology to ensure timely execution of technological transfers and validation of new products.  Minimum requirements Education: Radiopharmaceutical, Chemical or Pharmaceutical Master Degree  Languages: Excellent Dutch and English written and oral communication skills  Experience / Professional requirements: 10 years experience in pharmaceutical companies, preferably including experience with aseptic manufacturing (room or isolators)  Job Type Full Time  Company / Legal Entity IDB Holland bv  Country Netherlands  Work Location Baarle-Nassau  Functional Area Technical Operations  Division Oncology  Business Unit ADVANCED ACCELERATOR APPLICATIONS  Employment Type Regular  AAA Statement Advanced Accelerator Applications, a Novartis company, is an innovative medicines company focused on the development of products for targeted radioligand therapy and precision radioligand imaging. We are committed to transforming patients' lives by leading innovation in nuclear medicine. AAA offers professionals the opportunity to face new challenges and pursue a career in a fast growing, technology driven healthcare company. We are passionate about improving patient health by leading innovation in nuclear medicine. We are looking for people who share our commitment to help us achieve this goal. Advanced Accelerator Applications is an Equal Opportunity Employer (EOE).  Shift Work No. \""
      ]
     },
     "execution_count": 17,
     "metadata": {},
     "output_type": "execute_result"
    }
   ],
   "source": [
    "tex = Data[\"Cleaned Job Description\"][800]\n",
    "x = tex.split()\n",
    "Data[\"Job Description\"][800]"
   ]
  },
  {
   "cell_type": "code",
   "execution_count": 18,
   "metadata": {},
   "outputs": [
    {
     "name": "stdout",
     "output_type": "stream",
     "text": [
      "['quality service', 'be responsible', 'capex supporting', 'radioligand therapy', 'leading innovation', 'risks analysis', 'nuclear medicine aaa', 'escalate critical undesired'] \n",
      "\n",
      "['quality service', 'be responsible', 'capex supporting', 'management develop', 'radioligand therapy', 'leading innovation', 'risks analysis', 'nuclear medicine aaa', 'escalate critical undesired'] \n",
      "\n",
      "['quality service', 'be responsible', 'radioligand therapy', 'capex supporting', 'leading innovation', 'risks analysis', 'nuclear medicine aaa', 'escalate critical undesired'] \n",
      "\n",
      "['quality service', 'be responsible', 'management develop', 'master plan', 'radioligand therapy', 'risks analysis', 'capex supporting', 'leading innovation', 'escalate critical undesired', 'nuclear medicine aaa'] \n",
      "\n"
     ]
    }
   ],
   "source": [
    "# just list and just words \n",
    "print(remove_substrings(intersection(words_short(x),two_w)),'\\n')\n",
    "\n",
    "# just list and extended words \n",
    "print(remove_substrings(intersection(words_short(x),super_list)),'\\n')\n",
    "\n",
    "# super list and just words \n",
    "print(remove_substrings(intersection(words_long(x),two_w)),'\\n')\n",
    "\n",
    "# super list & extended words\n",
    "print(remove_substrings(intersection(words_long(x),super_list)),'\\n')\n"
   ]
  },
  {
   "cell_type": "markdown",
   "metadata": {},
   "source": [
    "## example 1 new vacancy"
   ]
  },
  {
   "cell_type": "code",
   "execution_count": 19,
   "metadata": {},
   "outputs": [
    {
     "name": "stdout",
     "output_type": "stream",
     "text": [
      "Are you \"from here\"? Do you speak the language of the region? Are you someone who sets goals to exceed them? Are you that commercial professional who realizes growth? Then I am looking for you as a commercial employee field service!\n",
      "\n",
      "Toorn & Boer is going to expand: the team wants to serve its customers across the board and they need you for that. Next spring they will move to the center of Veendam and they want to build the customer portfolio there together with you. You prefer to join the team as soon as possible to get it off to a flying start.\n",
      "\n",
      "Jeffrey Toorn and Robert Boer are friends and partners. Thanks to transparency and reliability, Toorn & Boer has quickly grown into one of the largest private advisors in the region. Clients can contact them for day-to-day banking, mortgage advice, insurance and business administration. They realize tailor-made solutions for their customers through a simple working method and clear communication. Toorn & Boer has a large (private) customer portfolio, with plenty of growth opportunities. It's up to you to talk to customers, identify opportunities and convince them to expand the service portfolio.\n",
      "\n",
      "You work together with the all-round back office employee and are independent in realizing your goals. Plenty of campaign material is available for this, so some affinity with marketing is desirable!\n",
      "\n",
      "The office is open on working days from 9 am to 5 pm; the late night may be added.\n",
      "\n",
      "Your choice.\n",
      "Has your interest been aroused as a Commercial field employee? Then of course you would like to know what is in return:\n",
      "\n",
      "A full-time gross monthly salary of € 2,250 - € 2,750 (depending on your experience)\n",
      "An employment contract of at least one year\n",
      "25 vacation days\n",
      "Phone & laptop\n",
      "Travel allowance in consultation\n",
      "A close team and enthusiastic colleagues!\n",
      "Your strength.\n",
      "The profile I am looking for Toorn & Boer:\n",
      "\n",
      "Has HBO level\n",
      "Has recent commercial work experience\n",
      "Has an affinity with financial services\n",
      "Is clear in communication, both verbally and in writing\n",
      "Has a lot of ambition and enthusiasm!\n",
      "Take the moment.\n",
      "Do you always start a conversation easily, by both steering and listening? Do you know how to unburden the customers of Toorn & Boer and convince them to expand their services? Do you have the decisiveness and enthusiasm to achieve the objectives through up-selling and cross-selling?\n",
      "\n",
      "Please contact Leonie Broekman on 06-19297055\n",
      "\n",
      "Secondary benefits:\n",
      "\n",
      "Travel allowance\n",
      "Company's phone\n",
      "Type of employment: Full-time, Fixed-term, Indefinite-term\n",
      "\n",
      "Salary: € 2,250.00 - € 2,750.00 per month\n",
      "\n",
      "Work schedule:\n",
      "\n",
      "Mon-Fri\n",
      "Education:\n",
      "\n",
      "HBO (Required)\n",
      "Working from home:\n",
      "No\n",
      "\n",
      "\n"
     ]
    }
   ],
   "source": [
    "f = open(r\"C:\\Users\\Dima\\Downloads\\Ex1.txt\", \"r\")\n",
    "x=f.read()\n",
    "print(x)\n",
    "\n",
    "x = clean(x)\n",
    "x=remove_punctuation(x)\n",
    "x=x.lower()\n",
    "x=x.split()\n"
   ]
  },
  {
   "cell_type": "code",
   "execution_count": 20,
   "metadata": {},
   "outputs": [
    {
     "name": "stdout",
     "output_type": "stream",
     "text": [
      "['hbo level', 'work experience', 'field service', 'education hbo', 'clear communication'] \n",
      "\n",
      "['hbo level', 'work experience', 'field service', 'education hbo', 'clear communication'] \n",
      "\n",
      "['hbo level', 'work experience', 'education hbo', 'field service', 'clear communication'] \n",
      "\n",
      "['hbo level', 'work experience', 'education hbo', 'field service', 'clear communication'] \n",
      "\n"
     ]
    }
   ],
   "source": [
    "# just list and just words \n",
    "print(remove_substrings(intersection(words_short(x),two_w)),'\\n')\n",
    "\n",
    "# just list and extended words \n",
    "print(remove_substrings(intersection(words_short(x),super_list)),'\\n')\n",
    "\n",
    "# super list and just words \n",
    "print(remove_substrings(intersection(words_long(x),two_w)),'\\n')\n",
    "\n",
    "# super list & extended words\n",
    "print(remove_substrings(intersection(words_long(x),super_list)),'\\n')\n"
   ]
  },
  {
   "cell_type": "markdown",
   "metadata": {},
   "source": [
    "## Example 2 new vacancy"
   ]
  },
  {
   "cell_type": "code",
   "execution_count": 21,
   "metadata": {},
   "outputs": [
    {
     "name": "stdout",
     "output_type": "stream",
     "text": [
      "YIELD\n",
      "\n",
      "Yield is the partner in interior projects. From project design to school design, lighting and audiovisual solutions. We provide expert advice, from design to realization and aftercare.\n",
      "\n",
      "Audiovisual solutions can no longer be ignored in our interior image. That is why we offer audiovisual solutions, innovative and interactive. From touchscreens to video walls, light, sound and electrical engineering. We provide advice, install and deliver ready-to-use. Knowledge and complete service are central to us.\n",
      "\n",
      "Times change, we grow and want to continue to develop. That is why we are looking for you!\n",
      "\n",
      "FUNCTION\n",
      "\n",
      "You are a multi-tasker and like variety in your work. As an audiovisual technician you have knowledge about everything to do with image and sound.\n",
      "\n",
      "In consultation with the project manager you take care of the execution on the work floor. You understand the wishes of the client and ensure that all installations are in perfect order.\n",
      "\n",
      "You have a good command of the Dutch language and have an unprecedented passion for audiovisual techniques. You are independent, stress resistant, flexible, enterprising and solution-oriented.\n",
      "\n",
      "IN BRIEF\n",
      "\n",
      "o You have MBO working and thinking level\n",
      "\n",
      "o You have a passion for and knowledge of audiovisual techniques\n",
      "\n",
      "o You have experience with professional image, sound and light equipment\n",
      "\n",
      "o Experience within the audiovisual / ICT industry is an advantage\n",
      "\n",
      "o You have a good command of the Dutch language, English is an advantage\n",
      "\n",
      "o You are independent, stress-resistant, flexible, enterprising and solution-oriented\n",
      "\n",
      "o You are in possession of a valid driving license B\n",
      "\n",
      "YOUR FUTURE\n",
      "\n",
      "Yield offers you a varied job at a contemporary and dynamic company with an enthusiastic and small, but fast-growing team, where collaboration and job satisfaction as well as results are very important.\n",
      "\n",
      "CONVINCE\n",
      "\n",
      "Send your resume with photo and a short motivation to Corrien, she will be the first to process your application.\n",
      "\n",
      "If you have convinced us and we would like to talk to you, you will receive an email from Corrien with an invitation within two weeks.\n",
      "\n",
      "Contract duration 12 months\n",
      "\n",
      "Type of employment: Full-time, Fixed term\n",
      "\n",
      "\n"
     ]
    }
   ],
   "source": [
    "f = open(r\"C:\\Users\\Dima\\Downloads\\Ex2.txt\", \"r\")\n",
    "x=f.read()\n",
    "print(x)\n",
    "\n",
    "x = clean(x)\n",
    "x=remove_punctuation(x)\n",
    "x=x.lower()\n",
    "x=x.split()\n"
   ]
  },
  {
   "cell_type": "code",
   "execution_count": 22,
   "metadata": {},
   "outputs": [
    {
     "name": "stdout",
     "output_type": "stream",
     "text": [
      "['project manager', 'audiovisual technician', 'have experience', 'dutch language english'] \n",
      "\n",
      "['expert advice', 'project manager', 'thinking level', 'audiovisual technician', 'have experience', 'project design', 'dutch language english'] \n",
      "\n",
      "['project manager', 'audiovisual technician', 'have experience', 'dutch language english'] \n",
      "\n",
      "['expert advice', 'work floor', 'project manager', 'image sound', 'thinking level', 'audiovisual technician', 'have experience', 'project design', 'dutch language english'] \n",
      "\n"
     ]
    }
   ],
   "source": [
    "# just list and just words \n",
    "print(remove_substrings(intersection(words_short(x),two_w)),'\\n')\n",
    "\n",
    "# just list and extended words \n",
    "print(remove_substrings(intersection(words_short(x),super_list)),'\\n')\n",
    "\n",
    "# super list and just words \n",
    "print(remove_substrings(intersection(words_long(x),two_w)),'\\n')\n",
    "\n",
    "# super list & extended words\n",
    "print(remove_substrings(intersection(words_long(x),super_list)),'\\n')\n"
   ]
  },
  {
   "cell_type": "markdown",
   "metadata": {},
   "source": [
    "## Example 3 new vacancy"
   ]
  },
  {
   "cell_type": "code",
   "execution_count": 23,
   "metadata": {},
   "outputs": [
    {
     "name": "stdout",
     "output_type": "stream",
     "text": [
      "You don't have to be called Harry, but you do have to be handy\n",
      "\n",
      "We are Patient Lifting Solutions (PLS), the name says it all: solutions to lift people. We are talking about patients in healthcare who, thanks to our smart system, can be very easily lifted out of bed and moved around the room.\n",
      "\n",
      "We design and assemble the highest quality system of all ceiling lifts in the world. We supply this solution to healthcare providers worldwide, who then sell and install it in care homes and hospitals.\n",
      "\n",
      "The time is now right to continue to grow and professionalize. The ISO-13485 quality system that we have achieved helps with this. And because trade shows have been canceled during this time, we want to promote our product to potential distributors through other channels. So we need a marketer. Someone who thinks outside the box when it comes to reaching new (international) markets. A \"handy Harry\" who, in addition to his or her marketing skills, wants to contribute ideas about good design and quality improvements to the product.\n",
      "\n",
      "Job description (3-fold):\n",
      "\n",
      "We have no idea how this function can best be described. In any case, it is a very varied job, also because you are going to spar with the consultant and product engineer. Your added value must ultimately contribute to:\n",
      "\n",
      "Together with the expert you lift our quality system to an even higher level. Lifting is in our blood, but there is always room for improvement. You understand that. In fact, you are challenged by it.\n",
      "Together with the product developer and the marketer, you devise a marketing plan to position PLS more professionally. No, not an inch thick report with difficult words, just a practical plan that we can get started with right away.\n",
      "Together with the product developer you contribute to the development of even better ceiling lifts. That's not easy, because our product is actually very good. But we want to continue where others stop.\n",
      "Do you know what's the beauty of this job? You can make it as fun as you want. That's why you love to take responsibility. This also includes your own planning. We believe in better performance when people are empowered. You feel that best for yourself and we offer you plenty of space. We would like to work at that company!\n",
      "\n",
      "Basic activities;\n",
      "\n",
      "Developing the transition from MDD to MDR together with a consultant who is an expert in this field.\n",
      "Maintaining and updating the quality archive and documentation systems In accordance with ISO-13485 together with a consultant.\n",
      "Setting up, maintaining and supervising Post Marketing Surveillance for our distributors / end users.\n",
      "Drawing up and maintaining a marketing plan. Together with the product developer / marketer.\n",
      "(basic) product design / engineering. Together with the product developer\n",
      "You take this with you;\n",
      "\n",
      "MBO / HBO working and thinking level.\n",
      "Experience with quality systems or / and used to working with standards.\n",
      "An eye for detail and structure in the field of documentation.\n",
      "Affinity with (mechanical) technology.\n",
      "Good command of the Dutch and English language, both orally and in writing.\n",
      "You get this in return;\n",
      "\n",
      "A small, but close-knit and fun team.\n",
      "A very accessible corporate culture.\n",
      "The costs of any training are for our account.\n",
      "Possibility to travel.\n",
      "Collaborate with a junior Product Engineer and Consultant.\n",
      "Your own, permanent workplace in a new office.\n",
      "A good reward.\n",
      "The Collective Labor Agreement for Metal and Technology (Small-metal) applies.\n",
      "Are you excited?\n",
      "\n",
      "Then apply as soon as possible. Send your reaction with CV to the attention of Marcel van den Brandt. Would you like to discuss something by phone first? No problem, we can be reached during office hours on 0318 576 668.\n",
      "\n",
      "Type of employment: Full-time, Fixed-term, Indefinite-term\n",
      "\n",
      "Salary: € 2,800.00 - € 3,500.00 per month\n",
      "\n",
      "Terms of employment:\n",
      "\n",
      "Budget for professional development\n",
      "Christmas package\n",
      "Retirement\n",
      "Travel allowance\n",
      "Friday afternoon drinks\n",
      "Work from home\n",
      "Education:\n",
      "\n",
      "MBO (Required)\n",
      "Location:\n",
      "\n",
      "Postcode 3927 CC in Renswoude (Required)\n",
      "Language:\n",
      "\n",
      "Dutch (Required)\n",
      "Working from home:\n",
      "\n",
      "Temporarily due to COVID-19\n",
      "\n",
      "\n"
     ]
    }
   ],
   "source": [
    "f = open(r\"C:\\Users\\Dima\\Downloads\\Ex3.txt\", \"r\")\n",
    "x=f.read()\n",
    "print(x)\n",
    "\n",
    "x = clean(x)\n",
    "x=remove_punctuation(x)\n",
    "x=x.lower()\n",
    "x=x.split()"
   ]
  },
  {
   "cell_type": "code",
   "execution_count": 24,
   "metadata": {},
   "outputs": [
    {
     "name": "stdout",
     "output_type": "stream",
     "text": [
      "['product engineer', 'supervising post', 'product developer', 'developer marketer', 'english language', 'marketing surveillance', 'education mbo', 'language dutch', 'patient lifting solutions'] \n",
      "\n",
      "['product engineer', 'supervising post', 'product developer', 'developer marketer', 'english language', 'thinking level', 'marketing surveillance', 'education mbo', 'language dutch', 'patient lifting solutions'] \n",
      "\n",
      "['product engineer', 'supervising post', 'product developer', 'developer marketer', 'english language', 'marketing surveillance', 'education mbo', 'language dutch', 'patient lifting solutions'] \n",
      "\n",
      "['product engineer', 'supervising post', 'product developer', 'developer marketer', 'english language', 'thinking level', 'product design', 'marketing surveillance', 'education mbo', 'language dutch', 'patient lifting solutions'] \n",
      "\n"
     ]
    }
   ],
   "source": [
    "# just list and just words \n",
    "print(remove_substrings(intersection(words_short(x),two_w)),'\\n')\n",
    "\n",
    "# just list and extended words \n",
    "print(remove_substrings(intersection(words_short(x),super_list)),'\\n')\n",
    "\n",
    "# super list and just words \n",
    "print(remove_substrings(intersection(words_long(x),two_w)),'\\n')\n",
    "\n",
    "# super list & extended words\n",
    "print(remove_substrings(intersection(words_long(x),super_list)),'\\n')\n"
   ]
  }
 ],
 "metadata": {
  "kernelspec": {
   "display_name": "Python 3",
   "language": "python",
   "name": "python3"
  },
  "language_info": {
   "codemirror_mode": {
    "name": "ipython",
    "version": 3
   },
   "file_extension": ".py",
   "mimetype": "text/x-python",
   "name": "python",
   "nbconvert_exporter": "python",
   "pygments_lexer": "ipython3",
   "version": "3.7.7"
  }
 },
 "nbformat": 4,
 "nbformat_minor": 4
}
