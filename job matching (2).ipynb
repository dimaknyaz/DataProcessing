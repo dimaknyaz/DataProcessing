{
 "cells": [
  {
   "cell_type": "code",
   "execution_count": 1,
   "metadata": {},
   "outputs": [],
   "source": [
    "import pandas as pd\n",
    "import numpy as np"
   ]
  },
  {
   "cell_type": "code",
   "execution_count": 4,
   "metadata": {},
   "outputs": [
    {
     "data": {
      "text/html": [
       "<div>\n",
       "<style scoped>\n",
       "    .dataframe tbody tr th:only-of-type {\n",
       "        vertical-align: middle;\n",
       "    }\n",
       "\n",
       "    .dataframe tbody tr th {\n",
       "        vertical-align: top;\n",
       "    }\n",
       "\n",
       "    .dataframe thead th {\n",
       "        text-align: right;\n",
       "    }\n",
       "</style>\n",
       "<table border=\"1\" class=\"dataframe\">\n",
       "  <thead>\n",
       "    <tr style=\"text-align: right;\">\n",
       "      <th></th>\n",
       "      <th>Unnamed: 0</th>\n",
       "      <th>0</th>\n",
       "      <th>1</th>\n",
       "    </tr>\n",
       "  </thead>\n",
       "  <tbody>\n",
       "    <tr>\n",
       "      <th>0</th>\n",
       "      <td>0</td>\n",
       "      <td>['college degree', 'communication skills', 'dr...</td>\n",
       "      <td>0</td>\n",
       "    </tr>\n",
       "    <tr>\n",
       "      <th>1</th>\n",
       "      <td>1</td>\n",
       "      <td>['delivery driver', 'bicycle courier']</td>\n",
       "      <td>1</td>\n",
       "    </tr>\n",
       "    <tr>\n",
       "      <th>2</th>\n",
       "      <td>2</td>\n",
       "      <td>['head office', 'take place', 'very accurate',...</td>\n",
       "      <td>2</td>\n",
       "    </tr>\n",
       "    <tr>\n",
       "      <th>3</th>\n",
       "      <td>3</td>\n",
       "      <td>['service representative', 'hardware knowledge...</td>\n",
       "      <td>3</td>\n",
       "    </tr>\n",
       "    <tr>\n",
       "      <th>4</th>\n",
       "      <td>4</td>\n",
       "      <td>['customer oriented', 'technical support', 'no...</td>\n",
       "      <td>4</td>\n",
       "    </tr>\n",
       "    <tr>\n",
       "      <th>...</th>\n",
       "      <td>...</td>\n",
       "      <td>...</td>\n",
       "      <td>...</td>\n",
       "    </tr>\n",
       "    <tr>\n",
       "      <th>981</th>\n",
       "      <td>981</td>\n",
       "      <td>['employment get', 'social skills', 'care nurs...</td>\n",
       "      <td>995</td>\n",
       "    </tr>\n",
       "    <tr>\n",
       "      <th>982</th>\n",
       "      <td>982</td>\n",
       "      <td>['leading company', 'thinking level', 'work fl...</td>\n",
       "      <td>996</td>\n",
       "    </tr>\n",
       "    <tr>\n",
       "      <th>983</th>\n",
       "      <td>983</td>\n",
       "      <td>['mechanic beton', 'concrete mixer', 'working ...</td>\n",
       "      <td>997</td>\n",
       "    </tr>\n",
       "    <tr>\n",
       "      <th>984</th>\n",
       "      <td>984</td>\n",
       "      <td>['development experience', 'work independently...</td>\n",
       "      <td>998</td>\n",
       "    </tr>\n",
       "    <tr>\n",
       "      <th>985</th>\n",
       "      <td>985</td>\n",
       "      <td>['residential care', 'can communicate', 'super...</td>\n",
       "      <td>999</td>\n",
       "    </tr>\n",
       "  </tbody>\n",
       "</table>\n",
       "<p>986 rows × 3 columns</p>\n",
       "</div>"
      ],
      "text/plain": [
       "     Unnamed: 0                                                  0    1\n",
       "0             0  ['college degree', 'communication skills', 'dr...    0\n",
       "1             1             ['delivery driver', 'bicycle courier']    1\n",
       "2             2  ['head office', 'take place', 'very accurate',...    2\n",
       "3             3  ['service representative', 'hardware knowledge...    3\n",
       "4             4  ['customer oriented', 'technical support', 'no...    4\n",
       "..          ...                                                ...  ...\n",
       "981         981  ['employment get', 'social skills', 'care nurs...  995\n",
       "982         982  ['leading company', 'thinking level', 'work fl...  996\n",
       "983         983  ['mechanic beton', 'concrete mixer', 'working ...  997\n",
       "984         984  ['development experience', 'work independently...  998\n",
       "985         985  ['residential care', 'can communicate', 'super...  999\n",
       "\n",
       "[986 rows x 3 columns]"
      ]
     },
     "execution_count": 4,
     "metadata": {},
     "output_type": "execute_result"
    }
   ],
   "source": [
    "# clusterred words and sequences\n",
    "cl = pd.read_csv(r\"C:\\Users\\Dima\\Downloads\\Table  - Sheet1.csv\")\n",
    "#vacancy with number as initial number when scrapped and all requirments\n",
    "req = pd.read_csv('list_data.csv')\n",
    "req\n"
   ]
  },
  {
   "cell_type": "code",
   "execution_count": 9,
   "metadata": {},
   "outputs": [],
   "source": [
    "from nltk.corpus import wordnet\n",
    "\n",
    "\n",
    "def get_synonims(word):\n",
    "    synonyms = []\n",
    "    for syn in wordnet.synsets(word):\n",
    "            for l in syn.lemmas():\n",
    "                synonyms.append(l.name())\n",
    "    return set(synonyms)\n",
    "\n",
    "# all list of all possible synomims for 2words or 3words\n",
    "def get_total_list(sentence):\n",
    "    \n",
    "    sep_w = sentence.split()\n",
    "    if len(sep_w)==2:\n",
    "        f = list(get_synonims(sep_w[0]))\n",
    "        s=list(get_synonims(sep_w[1]))\n",
    "        l = [f[i]+\" \"+s[j] for i in range(len(f)) for j in range(len(s))]\n",
    "        return l\n",
    "    else:\n",
    "        f = list(get_synonims(sep_w[0]))\n",
    "        s=list(get_synonims(sep_w[1]))\n",
    "        t = list(get_synonims(sep_w[2]))\n",
    "        l= [f[i]+\" \"+s[j]+\" \"+t[k] for i in range(len(f)) for j in range(len(s)) for k in range(len(t))]\n",
    "        return l"
   ]
  },
  {
   "cell_type": "code",
   "execution_count": 10,
   "metadata": {},
   "outputs": [
    {
     "data": {
      "text/plain": [
       "156581"
      ]
     },
     "execution_count": 10,
     "metadata": {},
     "output_type": "execute_result"
    }
   ],
   "source": [
    "mapp ={}\n",
    "\n",
    "# list of current clusters\n",
    "clusters = [cl[cl['Cluster']==i]['Skills'].iloc[0] for i in range(1,50)]\n",
    "\n",
    "\n",
    "# here we create a big fat map of all possible skills to our 50 clusteres\n",
    "for i in clusters:\n",
    "    w = [cl[cl['Skills']==i]['Words'].iloc[j] for j in range(len(cl[cl['Skills']==i]))]\n",
    "    for r in w:\n",
    "        mapp[r]=i\n",
    "        for s in get_total_list(r):\n",
    "            mapp[s]=i\n",
    "      \n",
    "\n",
    "len(mapp)"
   ]
  },
  {
   "cell_type": "markdown",
   "metadata": {},
   "source": [
    "# This is a current list of clusters "
   ]
  },
  {
   "cell_type": "code",
   "execution_count": 11,
   "metadata": {},
   "outputs": [
    {
     "data": {
      "text/plain": [
       "['Accounting',\n",
       " 'Finance',\n",
       " 'Commercial',\n",
       " 'Marketing',\n",
       " 'HR',\n",
       " 'Administration',\n",
       " 'Management',\n",
       " 'Law',\n",
       " 'Communication Skills',\n",
       " 'Leadership',\n",
       " 'Logistics',\n",
       " 'Admin Maintenance',\n",
       " 'Engineer',\n",
       " 'S.Mechanic',\n",
       " 'L.Mehanic',\n",
       " 'Mechanic',\n",
       " 'Maintainance worker',\n",
       " 'Technician',\n",
       " 'Installation',\n",
       " 'Construction',\n",
       " 'Software',\n",
       " 'Programming',\n",
       " 'IT',\n",
       " 'ICT',\n",
       " 'Computer Literacy',\n",
       " 'Chemistry',\n",
       " 'Cardiology',\n",
       " 'Care/Nurse',\n",
       " 'Dental',\n",
       " 'GP',\n",
       " 'Geriatrics',\n",
       " 'Gynecology',\n",
       " 'Medical care',\n",
       " 'Cosmetology',\n",
       " 'Oncology',\n",
       " 'Otorhinolaryngology',\n",
       " 'Pediatrics',\n",
       " 'Physiotherapy',\n",
       " 'Psychology/Psychiatrics',\n",
       " 'Surgeon/Orthopedic',\n",
       " 'Therapy',\n",
       " 'Music Therapy',\n",
       " 'NTH',\n",
       " 'Cooking',\n",
       " 'Delivery',\n",
       " 'Driver',\n",
       " 'Foreign Language',\n",
       " 'Teaching',\n",
       " 'Housing']"
      ]
     },
     "execution_count": 11,
     "metadata": {},
     "output_type": "execute_result"
    }
   ],
   "source": [
    "clusters"
   ]
  },
  {
   "cell_type": "code",
   "execution_count": 12,
   "metadata": {},
   "outputs": [
    {
     "data": {
      "text/plain": [
       "'Communication Skills'"
      ]
     },
     "execution_count": 12,
     "metadata": {},
     "output_type": "execute_result"
    }
   ],
   "source": [
    "mapp.get('leadership communication')"
   ]
  },
  {
   "cell_type": "code",
   "execution_count": 13,
   "metadata": {},
   "outputs": [
    {
     "data": {
      "text/plain": [
       "['communicative skills',\n",
       " 'dutch language',\n",
       " 'administrative position',\n",
       " 'experienced paralegal',\n",
       " 'language english',\n",
       " 'coffee good',\n",
       " 'have come',\n",
       " 'law degree',\n",
       " 'young ambitious',\n",
       " 'work experience',\n",
       " 'team player',\n",
       " 'legal administrative',\n",
       " 'strong analytical skills']"
      ]
     },
     "execution_count": 13,
     "metadata": {},
     "output_type": "execute_result"
    }
   ],
   "source": [
    "\"\"\"just initialise requirments from list of requirments that we generate in another file\"\"\"\n",
    "# I saved as string, so \"unstring\" here\n",
    "def get_req(j):\n",
    "\n",
    "    req_split = req[\"0\"].iloc[j].split(',')\n",
    "    skills_req=[]\n",
    "    for i in range(len(req_split)):\n",
    "        if i ==0:\n",
    "            skills_req.append(req_split[i][2:-1])\n",
    "        elif i==len(req_split)-1:\n",
    "            skills_req.append(req_split[i][2:-2])\n",
    "        else: \n",
    "            skills_req.append(req_split[i][2:-1])\n",
    "    return skills_req\n",
    "get_req(66)"
   ]
  },
  {
   "cell_type": "code",
   "execution_count": 14,
   "metadata": {},
   "outputs": [],
   "source": [
    "\"\"\"iterate over job requirments to find requirments that are recognised by clusters\"\"\"\n",
    "# basically what clusters are used in a given vacancy\n",
    "def get_clustered_req(j):\n",
    "    x = get_req(j)\n",
    "    true_req = []\n",
    "    for i in x:\n",
    "        if mapp.get(i)!=None:\n",
    "            true_req.append(mapp.get(i))\n",
    "\n",
    "    return list(set(true_req))\n"
   ]
  },
  {
   "cell_type": "code",
   "execution_count": 15,
   "metadata": {},
   "outputs": [
    {
     "data": {
      "text/plain": [
       "['Foreign Language', 'Administration', 'Law']"
      ]
     },
     "execution_count": 15,
     "metadata": {},
     "output_type": "execute_result"
    }
   ],
   "source": [
    "# requirments in terms of clusters for each vacancy\n",
    "clustered_req=[]\n",
    "for i in range(len(req)):\n",
    "    clustered_req.append(get_clustered_req(i))\n",
    "\n",
    "clustered_req[66]"
   ]
  },
  {
   "cell_type": "code",
   "execution_count": 10,
   "metadata": {},
   "outputs": [
    {
     "data": {
      "text/plain": [
       "\"Skills that have to be obtained {'Administration', 'Law'}\""
      ]
     },
     "execution_count": 10,
     "metadata": {},
     "output_type": "execute_result"
    }
   ],
   "source": [
    "# match skills to requirment\n",
    "def intersect(skill,requirment):\n",
    "    x=set(skill)\n",
    "    y = set(requirment)\n",
    "    if y.issubset(x):\n",
    "        return \"Available straight away!\"\n",
    "    else:\n",
    "        return \"Skills that have to be obtained \" + str(y.difference(y.intersection(x)))\n",
    "    \n",
    "intersect(['Foreign Language','IT', 'ICT'], clustered_req[66])"
   ]
  },
  {
   "cell_type": "markdown",
   "metadata": {},
   "source": [
    "# Example1"
   ]
  },
  {
   "cell_type": "markdown",
   "metadata": {},
   "source": [
    "Here x are the skills chosen from the clusters list above"
   ]
  },
  {
   "cell_type": "code",
   "execution_count": 19,
   "metadata": {},
   "outputs": [
    {
     "name": "stdout",
     "output_type": "stream",
     "text": [
      "The entire set of skills for different vacancies:\n",
      "\n",
      "For vacancy 13\n",
      "All skills required {'Management', 'Administration', 'Accounting'}\n",
      "Skills that have to be obtained {'Administration'}\n",
      "\n",
      "For vacancy 29\n",
      "All skills required {'Accounting', 'IT', 'HR', 'Management'}\n",
      "Skills that have to be obtained {'HR'}\n",
      "\n",
      "For vacancy 41\n",
      "All skills required {'Accounting', 'HR', 'Management'}\n",
      "Skills that have to be obtained {'HR'}\n",
      "\n",
      "For vacancy 52\n",
      "All skills required {'Management', 'IT', 'HR', 'Foreign Language'}\n",
      "Skills that have to be obtained {'HR', 'Foreign Language'}\n",
      "\n",
      "For vacancy 103\n",
      "All skills required {'Driver', 'IT', 'Maintainance worker', 'Management'}\n",
      "Skills that have to be obtained {'Driver', 'Maintainance worker'}\n",
      "\n",
      "For vacancy 150\n",
      "All skills required {'Management', 'Accounting', 'Foreign Language'}\n",
      "Skills that have to be obtained {'Foreign Language'}\n",
      "\n",
      "For vacancy 156\n",
      "All skills required {'Management', 'Delivery', 'Accounting'}\n",
      "Skills that have to be obtained {'Delivery'}\n",
      "\n",
      "For vacancy 182\n",
      "All skills required {'Management', 'IT', 'Engineer', 'Finance'}\n",
      "Skills that have to be obtained {'Engineer', 'Finance'}\n",
      "\n",
      "For vacancy 220\n",
      "All skills required {'Delivery', 'Accounting', 'Management', 'Admin Maintenance', 'Marketing', 'Finance'}\n",
      "Skills that have to be obtained {'Marketing', 'Delivery', 'Admin Maintenance', 'Finance'}\n",
      "\n",
      "For vacancy 226\n",
      "All skills required {'IT', 'Engineer', 'Maintainance worker', 'Management'}\n",
      "Skills that have to be obtained {'Engineer', 'Maintainance worker'}\n",
      "\n",
      "For vacancy 234\n",
      "All skills required {'Teaching', 'IT', 'Engineer', 'Management'}\n",
      "Skills that have to be obtained {'Teaching', 'Engineer'}\n",
      "\n",
      "For vacancy 234\n",
      "All skills required {'Teaching', 'IT', 'Engineer', 'Management'}\n",
      "Skills that have to be obtained {'Teaching', 'Engineer'}\n",
      "\n",
      "For vacancy 294\n",
      "All skills required {'Teaching', 'IT', 'Management'}\n",
      "Skills that have to be obtained {'Teaching'}\n",
      "\n",
      "For vacancy 156\n",
      "All skills required {'Management', 'Delivery', 'Accounting'}\n",
      "Skills that have to be obtained {'Delivery'}\n",
      "\n",
      "For vacancy 408\n",
      "All skills required {'Computer Literacy', 'Accounting', 'Delivery', 'Management'}\n",
      "Skills that have to be obtained {'Computer Literacy', 'Delivery'}\n",
      "\n",
      "For vacancy 464\n",
      "All skills required {'Engineer', 'IT', 'Computer Literacy', 'Marketing', 'Management'}\n",
      "Skills that have to be obtained {'Computer Literacy', 'Engineer', 'Marketing'}\n",
      "\n",
      "For vacancy 472\n",
      "All skills required {'IT', 'Management'}\n",
      "Available straight away!\n",
      "\n",
      "For vacancy 498\n",
      "All skills required {'Management', 'IT', 'Foreign Language'}\n",
      "Skills that have to be obtained {'Foreign Language'}\n",
      "\n",
      "For vacancy 511\n",
      "All skills required {'Software', 'Delivery', 'Engineer', 'Foreign Language', 'IT', 'Management'}\n",
      "Skills that have to be obtained {'Software', 'Engineer', 'Delivery', 'Foreign Language'}\n",
      "\n",
      "For vacancy 534\n",
      "All skills required {'Delivery', 'Accounting', 'Engineer', 'Care/Nurse', 'Marketing', 'Management'}\n",
      "Skills that have to be obtained {'Marketing', 'Engineer', 'Delivery', 'Care/Nurse'}\n",
      "\n",
      "For vacancy 569\n",
      "All skills required {'Accounting', 'Management'}\n",
      "Available straight away!\n",
      "\n",
      "For vacancy 724\n",
      "All skills required {'Programming', 'Engineer', 'Management'}\n",
      "Skills that have to be obtained {'Engineer'}\n",
      "\n",
      "For vacancy 725\n",
      "All skills required {'Management', 'Engineer', 'IT', 'Computer Literacy', 'Finance'}\n",
      "Skills that have to be obtained {'Computer Literacy', 'Engineer', 'Finance'}\n",
      "\n",
      "For vacancy 740\n",
      "All skills required {'IT', 'HR', 'Maintainance worker', 'Management'}\n",
      "Skills that have to be obtained {'HR', 'Maintainance worker'}\n",
      "\n",
      "For vacancy 774\n",
      "All skills required {'Construction', 'IT', 'Finance', 'Management'}\n",
      "Skills that have to be obtained {'Finance', 'Construction'}\n",
      "\n",
      "For vacancy 797\n",
      "All skills required {'Maintainance worker', 'Admin Maintenance', 'Foreign Language', 'IT', 'Management'}\n",
      "Skills that have to be obtained {'Maintainance worker', 'Admin Maintenance', 'Foreign Language'}\n",
      "\n",
      "For vacancy 810\n",
      "All skills required {'IT', 'Computer Literacy', 'Admin Maintenance', 'Management'}\n",
      "Skills that have to be obtained {'Computer Literacy', 'Admin Maintenance'}\n",
      "\n",
      "For vacancy 472\n",
      "All skills required {'IT', 'Management'}\n",
      "Available straight away!\n",
      "\n",
      "For vacancy 886\n",
      "All skills required {'IT', 'Technician', 'Maintainance worker', 'Management'}\n",
      "Skills that have to be obtained {'Technician', 'Maintainance worker'}\n",
      "\n",
      "For vacancy 921\n",
      "All skills required {'Care/Nurse', 'Leadership', 'IT', 'Marketing', 'Geriatrics', 'Management'}\n",
      "Skills that have to be obtained {'Marketing', 'Care/Nurse', 'Geriatrics', 'Leadership'}\n",
      "\n",
      "For vacancy 921\n",
      "All skills required {'Care/Nurse', 'Leadership', 'IT', 'Marketing', 'Geriatrics', 'Management'}\n",
      "Skills that have to be obtained {'Marketing', 'Care/Nurse', 'Geriatrics', 'Leadership'}\n",
      "\n",
      "For vacancy 921\n",
      "All skills required {'Care/Nurse', 'Leadership', 'IT', 'Marketing', 'Geriatrics', 'Management'}\n",
      "Skills that have to be obtained {'Marketing', 'Care/Nurse', 'Geriatrics', 'Leadership'}\n",
      "\n"
     ]
    }
   ],
   "source": [
    "x = ['IT','Management','Programming','Accounting']\n",
    "\n",
    "print(\"The entire set of skills for different vacancies:\\n\")\n",
    "\n",
    "\"\"\"b is responsible for min number of requirments in vacancy we consider - if it's 0,1,2 we ignore the vacancy, a- min number\n",
    "of intersections beetwen vacancy and skill\"\"\"\n",
    "def skill_is_a_subset_of_req(a=2,b=2):\n",
    "    indicies = []\n",
    "    for i in clustered_req:\n",
    "        \n",
    "        if sum([i.count(x[j]) for j in range(len(x))])>=max(min(a,len(i)),b) :\n",
    "            print(\"For vacancy {ind}\".format(ind=clustered_req.index(i)))\n",
    "            print(\"All skills required \" + str(set(i)))\n",
    "            print(intersect(x,i)+\"\\n\")\n",
    "            indicies.append(clustered_req.index(i))\n",
    "    return indicies\n",
    "        \n",
    "indicies = skill_is_a_subset_of_req()"
   ]
  },
  {
   "cell_type": "code",
   "execution_count": 24,
   "metadata": {},
   "outputs": [
    {
     "name": "stdout",
     "output_type": "stream",
     "text": [
      "[13, 31, 43, 54, 105, 153, 160, 186, 225, 231, 239, 239, 301, 160, 416, 474, 482, 508, 521, 544, 579, 736, 737, 752, 786, 811, 824, 482, 900, 935, 935, 935]\n",
      "Project leader Healthcare Technology Care group Meander We are looking for an experienced and creative Project Leader Healthcare Technology. Are you the Project Leader with knowledge of the implementation of (innovative) healthcare technology solutions? Are you enthusiastic about contributing to the development of the digital skills of employees in our organization? Then we are looking for you! Project leader Healthcare technology at Zorggroep Meander At Zorggroep Meander, more than 1,500 employees offer care, treatment and rehabilitation in the East Groningen region. Zorggroep Meander is active at various locations. We have four residential care centers, four residential service centers, a rehabilitation center, district nursing and day care / day treatment in East Groningen. We are there for the vulnerable elderly in the home situation and, when that is no longer possible, in an environment that is as at home as possible. The best care is provided by enthusiastic employees. Together we provide a working environment where everyone enjoys working. So that our people can be proud and energetic. The use of (care) technology and digitization can make an important contribution to various social developments, such as living longer and safely at home, integrated care and labor market shortages. We use this to guarantee good services to clients in the future and to continue to improve the working conditions of our employees. Zorggroep Meander sees the importance of the correct application of (care) technology both in the care centers and at the home of the clients. Zorggroep Meander therefore wants to further shape its digital strategy. A development agenda for (healthcare) technology is part of this. Our vision is that the success of the use of (healthcare) technology and digitization stands or falls with the support and use of it by healthcare workers and clients. That is why we are committed to the development of 'digital skills' of healthcare employees and we would like to introduce both clients and healthcare employees to the benefits of healthcare technology in an accessible way. Our aim is to raise awareness of the importance of healthcare technology among healthcare workers and clients, while at the same time preparing our organization in this area for the future. You work from the Policy and Development department. You will work closely with the other Healthcare Technology Project Leader, Information Manager, the Healthcare Managers and Team Managers, the colleagues of Espria. Your location is Veendam, but you work throughout our work area. Who are you? The Project Manager profession holds no secrets for you. You are able to achieve the agreed results in the set time and within budget. You are able to supervise processes. You are a real bridge builder, customer-oriented, representative and have good social skills. As a Project Manager you will focus on: - Implementing the vision on healthcare technology as part of the organizational strategy. - Initiating and leading projects with the aim of implementing one or more healthcare technology applications. Examples are In4Cure, Video calling / image care and night sensors. - Contributing to the implementation of the plan “Digital skills in healthcare” with the aim of increasing the digital skills of our employees and involving them in the added value of healthcare technology. - Ensuring the transfer and embedding of new applications in the existing ICT / IV management organization. - In collaboration with the Information Manager and your colleague Project Leader Care Technology, give these projects and this vision a place in the total digital program and digital strategy of Zorggroep Meander. - Participant in regional projects and collaborations focused on healthcare technology. Required competencies: communicative, enthusiastic, courageous, result-oriented with an eye for details, analytical, proactive, organization-sensitive, dares to address people about behavior and creativity. Job requirements You have at least an HBO education, supplemented with a qualification in Project Management. You have several years of work experience as a Project Manager and have a track record in managing complex projects. You are a good change manager. You have a clear vision of developments in health care technology / digitization in health care and welfare, especially in the VVT ​​sector. You have excellent oral and written expression skills and can communicate at all levels in the organization. what do you get from us? If you come to work with us, we will offer you a fixed-term employment contract for the duration of one year with a salary in accordance with the VVT ​​FWG 60 collective labor agreement. You will also receive a year-end bonus and accrue pension with the Zorg & Welzijn pension fund. We think it is important to pay attention to your health and job satisfaction. That is why you can use our extensive package of benefits, for example by purchasing and bicycle and laptop via gross / net arrangement. We also offer you the opportunity to develop by, for example, following training courses related to your area (s) of interest. The opportunity to work in an organization on the move, where you can add value with your entrepreneurship and innovations in the field of digitization and technology in healthcare. Interested? Do you recognize yourself in our ideal candidate? Then we would be happy to talk to you! We ask you to apply via the button. Want to know more first? Please contact Bart Meems (Manager People & Labor) on telephone number (06) 137 12 457. Obtaining references can be part of the procedure. The submission of a recent VOG is a condition for an appointment. The closing date of the vacancy is December 31, 2020. The first round of interviews is likely to take place on January 13. In connection with measures concerning the Coronavirus, any job interviews will probably take place via Teams (video calling). The vacancy is presented both internally and externally, with internal candidates having priority if they are equally suitable. Contract duration 12 months Part-time hours: 24 per week Type of employment: Part-time, Fixed term Work schedule: Mon-Fri Education: HBO (Recommended) \n",
      "\n",
      "\n",
      "\n"
     ]
    }
   ],
   "source": [
    "true_indicies = [req.iloc[i][\"1\"] for i in indicies]\n",
    "print(true_indicies)\n",
    "Data = pd.read_csv(\"JobDataTranslated.csv\")\n",
    "\n",
    "#for i in true_indicies:\n",
    "print(Data['Job Description'][935])\n",
    "print(\"\")\n",
    "print(\"\")\n",
    "print(\"\")"
   ]
  },
  {
   "cell_type": "markdown",
   "metadata": {},
   "source": [
    "# Example 2\n"
   ]
  },
  {
   "cell_type": "code",
   "execution_count": 14,
   "metadata": {},
   "outputs": [
    {
     "name": "stdout",
     "output_type": "stream",
     "text": [
      "For vacancy 101\n",
      "All skills required {'Technician', 'Maintainance worker', 'Driver', 'Engineer', 'Admin Maintenance', 'Mechanic', 'S.Mechanic'}\n",
      "Skills that have to be obtained {'Driver', 'Mechanic', 'Technician', 'Admin Maintenance'}\n",
      "\n",
      "For vacancy 212\n",
      "All skills required {'Engineer', 'Maintainance worker'}\n",
      "Available straight away!\n",
      "\n",
      "For vacancy 328\n",
      "All skills required {'Technician', 'Maintainance worker', 'Driver', 'Engineer', 'S.Mechanic'}\n",
      "Skills that have to be obtained {'Driver', 'Technician'}\n",
      "\n",
      "For vacancy 212\n",
      "All skills required {'Engineer', 'Maintainance worker'}\n",
      "Available straight away!\n",
      "\n",
      "For vacancy 669\n",
      "All skills required {'S.Mechanic', 'Engineer', 'Maintainance worker'}\n",
      "Available straight away!\n",
      "\n",
      "For vacancy 731\n",
      "All skills required {'Maintainance worker', 'Construction'}\n",
      "Available straight away!\n",
      "\n",
      "For vacancy 776\n",
      "All skills required {'Technician', 'Maintainance worker', 'Driver', 'Engineer', 'Care/Nurse', 'Admin Maintenance', 'S.Mechanic'}\n",
      "Skills that have to be obtained {'Driver', 'Technician', 'Care/Nurse', 'Admin Maintenance'}\n",
      "\n"
     ]
    }
   ],
   "source": [
    "x = ['S.Mechanic','Engineer','Construction','Maintainance worker']\n",
    "indicies = skill_is_a_subset_of_req(a=3,b=2)\n"
   ]
  },
  {
   "cell_type": "markdown",
   "metadata": {},
   "source": [
    "# some more text of vacancies:)"
   ]
  },
  {
   "cell_type": "code",
   "execution_count": 15,
   "metadata": {},
   "outputs": [
    {
     "name": "stdout",
     "output_type": "stream",
     "text": [
      "You are going to do this With your technical skills and passion for aircraft technology, you can work as a maintenance technician for an airline. But you can also work as an aircraft mechanic for Defense. Would you like to make sure that our F16's systems work perfectly? Then a job as Aircraft Maintenance Operator (F-16 A1) is all you are looking for. Do you have what it takes? As a Petty Officer Aircraft Maintenance, you maintain the F16 of the Air Force. You come into direct contact with the technology in the aircraft and thus contribute to the Air Force's most important product for carrying out missions: AIRPOWER. What you are going to do depends on where you will be working. For example, you can become crew chief at an F-16 squadron or work at a line or base maintenance or fuel shop. It is also possible to carry out major maintenance or, conversely, the inspection and daily maintenance. You choose!  Note: if you are hired for this position, you will be appointed at the Ministry of Defense with the job title \"Petty Officer Aircraft Maintenance A1\".  ADVANTAGES OF THIS FUNCTION Salary: your gross base salary will provide you with a pleasant net surprise thanks to allowances and our favorable travel, pension and health insurance scheme. Work atmosphere: nowhere else will you find such a close-knit team of colleagues as at Defense. Growth opportunities: Defense is not only an employer, but also a large training institute, where you can follow (paid) training courses to grow personally and professionally. You will work here You will work at one of the Air Force bases Volkel, Leeuwarden or Woensdrecht and you can also be deployed. Before you start, you follow a military training and a vocational training of 6 to 7 months at the Royal Military Air Force School (KMSL) in Woensdrecht. Your profile MBO 3 You have an MBO 3 diploma Aircraft Maintenance Mechanic, preferably supplemented with the Part 66 category A certificates. Or a comparable foreign diploma, supplemented with a diploma of a comparable level for Dutch and English or Dutch as a second language NT2 Staatsexamen I. You are between 17 years and 49 years and 11 months You are at least 155 cm (woman), 160 cm (man) Glasses or lenses are no problem. Your eye abnormality should not be greater than minus 6 and plus 6 You do not need to have a driver's license You need a swimming certificate \n",
      "\n",
      "\n",
      "\n",
      "You have been working in the metal industry for some time and are ready for a new challenge. Your technical skills will come in handy in this position. Your 50 colleagues can count on you! A job as a CNC Turner on the Fanuc machine is made for you, right? The company: Our client has a modern and advanced machine park. The company has been around for a long time and offers you as an employee a stable and long-term cooperation. The lines within the organization are short. In terms of personal development, much is possible in mutual consultation. The job: You function in this job at MBO level. You will of course be properly trained and then you can work independently with the following tasks: Adjusting, adjusting and operating the Fanuc Lathe; Taking measurements; Make small, digital corrections for the continuity of the process; Performing preventive maintenance; Troubleshooting. Own initiatives and ideas are greatly appreciated within this company. So an appeal is also made to your ability to think along with process improvements! This function is performed in a 2 shift roster, from Monday to Friday. & You ?: You feel most at home in this position when you recognize yourself in the profile below. Work experience (minimum 2 years) in operating a Fanuc CNC Lathe; MBO Working level of thinking, demonstrated with a technical education; Understanding when it comes to various material types; Mastery of the Dutch language, in connection with the introduction of various production and quality forms. The offer: Not entirely unimportant of course! And certainly something that will arouse your curiosity. Depending on your education, work experience and skills, this position is scaled between € 2500 and € 2700 gross per month on a full-time basis, with an additional 18% shift work allowance! That's a really good starting salary, don't you think? Time for action! Now it's your turn. We look forward to your response and look forward to your application with motivation. We will assess your application within a few days and let you know if you have been invited for an initial meeting. So see you soon? Secondary benefits: Travel allowance Type of employment: Indefinite period Salary: € 2,950.00 - € 3,100.00 per month Work schedule: Mon-Fri Shift work Experience: Fanuc: 2 years (Recommended) Language: Dutch (Required) Working from home: No \n",
      "\n",
      "\n",
      "\n",
      "Are your hands still black with grease despite washing your hands during the Corona? Do you get a smile on your face from a well-oiled roaring engine? And do you see pleasant contact with your colleagues & customers as the basis for a pleasant working day? Then Autobedrijf G. van den Akker Helmond is looking for you! Auto mechanic (32-40 hours) What are you going to do? To expand our team, we are looking for a first car technician / mechanic who has key and fault diagnosis experience. You are engaged in maintenance work and all common repairs. If you can independently carry out an APK inspection, that is an advantage, if not our colleagues will be happy to teach you. In this position there are career opportunities in the form of a combination position as Sales Advisor. You can read more about this job description here. What do we ask for? Job requirements: You have: A 1st car technician diploma or comparable through experience, MOT inspector is an advantage; About 2-4 years of experience in automotive engineering; Perseverance and can work independently; A customer-oriented attitude; A driver's license B. What do we offer? A competitive salary and the prospect of a permanent contract; Excellent primary and secondary employment conditions; Variety in the activities & a pleasant, pleasant working environment; Opportunities for growth through education & training in the field of automotive technology, among other things. Autobedrijf G. van den Akker has two branches, namely in Helmond and Veghel. Thanks to our compact team, we are easily accessible in communication. We maintain a high quality standard for every car and offer a transparent service. A no-nonsense car company that puts all energy into its customer and the car. With us, both the customer and the employee can always count on that little bit of extra attention and involvement. That is quite normal with Geert van den Akker. PDC takes care of the recruitment for us. If you have become interested, register on the PDC Werkt website: www.pdcwerkt.nl and apply immediately! Do you want to know more first? Then call one of the PDC employees, who can be reached on 085 - 4444 3301 or by e-mail. We don't appreciate if there is any acquisition on the ad. Type of employment: Full-time, Fixed-term \n",
      "\n",
      "\n",
      "\n",
      "You have been working in the metal industry for some time and are ready for a new challenge. Your technical skills will come in handy in this position. Your 50 colleagues can count on you! A job as a CNC Turner on the Fanuc machine is made for you, right? The company: Our client has a modern and advanced machine park. The company has been around for a long time and offers you as an employee a stable and long-term cooperation. The lines within the organization are short. In terms of personal development, much is possible in mutual consultation. The job: You function in this job at MBO level. You will of course be properly trained and then you can work independently with the following tasks: Adjusting, adjusting and operating the Fanuc Lathe; Taking measurements; Make small, digital corrections for the continuity of the process; Performing preventive maintenance; Troubleshooting. Own initiatives and ideas are greatly appreciated within this company. So an appeal is also made to your ability to think along with process improvements! This function is performed in a 2 shift roster, from Monday to Friday. & You ?: You feel most at home in this position when you recognize yourself in the profile below. Work experience (minimum 2 years) in operating a Fanuc CNC Lathe; MBO Working level of thinking, demonstrated with a technical education; Understanding when it comes to various material types; Mastery of the Dutch language, in connection with the introduction of various production and quality forms. The offer: Not entirely unimportant of course! And certainly something that will arouse your curiosity. Depending on your education, work experience and skills, this position is scaled between € 2500 and € 2700 gross per month on a full-time basis, with an additional 18% shift work allowance! That's a really good starting salary, don't you think? Time for action! Now it's your turn. We look forward to your response and look forward to your application with motivation. We will assess your application within a few days and let you know if you have been invited for an initial meeting. So see you soon? Secondary benefits: Travel allowance Type of employment: Indefinite period Salary: € 2,950.00 - € 3,100.00 per month Work schedule: Mon-Fri Shift work Experience: Fanuc: 2 years (Recommended) Language: Dutch (Required) Working from home: No \n",
      "\n",
      "\n",
      "\n",
      "What are you going to do? Do you have experience as a Diesel mechanic? Are you looking for a permanent job? Then we are looking for you! As a Diesel Mechanic you have experience in the installation, overhaul and commissioning of diesel engines. The work takes place at the workplace as well as on location. Our client is specialized in various engines (Caterpillar, Cummins, Deutz). In addition, international service is provided to various renowned brands. Your daily activities include: Solving malfunctions of engines including the Cummins brand on both electrical and mechanical level; Overhaul, maintenance and repair, while you are working on board ships; If you have extensive knowledge and experience, you will also occasionally work abroad. What do you need? To be eligible for this varied job as a Diesel Mechanic, we do ask whether you meet the following requirements: A completed technical education at LBO / MBO level in the direction of Diesel technology or comparable; Experience in troubleshooting marine engines, preferably Cummins and Caterpillar engines; Experience in the fast runners; Both electrical and mechanically skilled and understanding of diesel engines; You can work well and independently, you are also creative and flexible and you have a customer-oriented attitude; Working on location and now and then abroad is no problem for you. You get: In addition to the challenging assignments for you as a Diesel Engine Mechanic, this organization also offers space to work together on your personal growth. A generous training and development budget is exempted for this. We also offer: An excellent salary of € 2400 to € 3000 gross per month (depending on your experience); Extensive coverage with regard to your travel allowance and any expense allowance; If applicable, full coverage for irregularity allowance / overtime allowance; Excellent primary and secondary conditions with many career opportunities; Personal career guidance; Flexible working hours are negotiable in consultation; Good pension scheme; Good accessibility and parking; Car, laptop and telephone are possible; Pleasant working atmosphere within a healthy organization. \n",
      "\n",
      "\n",
      "\n",
      "What are you going to do? Are you a passionate woodworker? Do you like to realize beautiful buildings? And do you like variety between new construction and renovation? Then the Allround Carpenter position is ideal for you! I am looking for an experienced Allround Carpenter for a young and dynamic client from the Westland region. There is a good working atmosphere internally and you will soon be working with great colleagues. The client is looking for someone from the region who knows the local customers and requirements like the back of his hand. You are a perfectionist with an eye for detail and you can work meticulously. In addition, you are a real team player but can also work independently. You also have a great sense of responsibility. With plenty of diversity in new construction and renovation projects, no two days will be the same. What will your average working week look like? Below a number of activities: Reading and executing construction drawings; Dormer windows, extension, extension and construction; Adjust profiles and frames; Making various wooden constructions; Working with prefab elements; Install facade cladding and fascia boards; Install walls and ceilings; All occurring finishing work within the new construction and renovation; Ensuring the quality of the work. What do you need? Would you like to work as an Allround Carpenter after reading the above job description? Make sure you meet the following requirements: Living in the Westland region; You have demonstrable work experience as a carpenter (a diploma is an advantage); You are in possession of a VCA certificate, or are willing to obtain it; You have a driving license B; You have a representative appearance; You have two right hands and architectural / technical insight. You get: We pay a lot of attention to good workplaces and working conditions. In addition, we also offer you the opportunity to develop yourself, for example through training. It is a varied and challenging job, with a good salary at a renowned construction company with excellent working conditions. Finally, we also offer: A good salary between € 2250 and € 3150 gross (based on age and experience); Company car or travel allowance is possible; Parking; Pension scheme; Possibility to declare additional costs; Irregularity allowance / overtime allowance; With good performance, the chance of permanent employment and takeover by the client; Training opportunities and career opportunities (think, for example, of a collaborating foreman or assistant foreman). \n",
      "\n",
      "\n",
      "\n",
      "You are going to do this Are you interested in the technology of airplanes and helicopters? Do you know how to perform electrical and mechanical maintenance on aircraft so that they are in perfect working order? Then a job as an Aircraft Mechanic Operator at Defense is perfect for you. The advanced (combat) helicopters and airplanes of the Air Force can be deployed day and night in all weather conditions, both in the Netherlands and abroad. It is very important that the aircraft are in perfect condition and that is why you, as Petty Officer Aircraft Mechanic B1, are responsible for the maintenance of the aircraft. You analyze complaints, repair or replace components, test systems after the repair and perform preventive maintenance. You do this with “line maintenance”, close to the operation, or with “base maintenance” where you spend weeks on a major maintenance check to make the aircraft or helicopter as good as new after a large number of flying hours. In any case, your work is of vital importance.  Note: if you are hired for this position, you will be appointed at the Ministry of Defense with the job title \"Petty Officer Aircraft Mechanic B1\".  ADVANTAGES OF THIS FUNCTION Salary: your gross base salary will provide you with a pleasant surprise net thanks to allowances and our favorable travel, pension and health insurance scheme and an annual bonus of € 5,000. Work atmosphere: nowhere else will you find such a close-knit team of colleagues as at Defense. Growth opportunities: Defense is not only an employer, but also a large training institute, where you can follow (paid) training courses to grow personally and professionally. You will work here If you opt for first-line maintenance, you will be stationed at one of the squadrons in Gilze Rijen, Volkel, Leeuwarden or Eindhoven. If you prefer to deal with \"base maintenance\", you will work at the Logistics Center in Woensdrecht. You don't just work in hangars; during exercises you work in the open air under all possible weather conditions. You can also be sent to crisis areas and participate in exercises abroad.  After basic military training at the Royal Military Academy of the Air Force (KMSL) in Woensdrecht, you will follow training for a type of aircraft. Which type this is will be determined in consultation with you. This also determines where you will work next. Your profile MBO 4 What are we looking for in you? You have an MBO 4 aircraft maintenance diploma \"Technician mechanics category B1\". Preferably supplemented with the “Part 66 certificates”. Or a comparable foreign diploma, supplemented with a diploma at a comparable level for Dutch and English or Dutch as a second language NT2 Staatsexamen I. A healthy dose of passion for defense and / or aircraft technology. You are between 17 years and 49 years and 11 months You are at least 155 cm (woman), 160 cm (man) Glasses or lenses are no problem. Your eye abnormality should not be greater than minus 6 and plus 6 You do not need to have a driver's license You need a swimming certificate \n",
      "\n",
      "\n",
      "\n"
     ]
    }
   ],
   "source": [
    "true_indicies = [req.iloc[i][\"1\"] for i in indicies]\n",
    "Data = pd.read_csv(\"JobDataTranslated.csv\")\n",
    "\n",
    "for i in true_indicies:\n",
    "    print(Data['Job Description'][i])\n",
    "    print(\"\")\n",
    "    print(\"\")\n",
    "    print(\"\")"
   ]
  },
  {
   "cell_type": "markdown",
   "metadata": {},
   "source": [
    "Note on parameters $a$, $b$: if we set $b$ high >1(2), we will cut off vacancies that aren't processed to well by our algoritm; if the skills set is divergent then high $a$ will make use of vacancies within both categories (so like intraindustry stuff we look for), but if $a$ is low it will also suggest vacancies in one industry. Setting $a$=|entered_skill_set| would mean we look for matches where either a set of skills is a *proper* subset of requirment or another way around"
   ]
  }
 ],
 "metadata": {
  "kernelspec": {
   "display_name": "Python 3",
   "language": "python",
   "name": "python3"
  },
  "language_info": {
   "codemirror_mode": {
    "name": "ipython",
    "version": 3
   },
   "file_extension": ".py",
   "mimetype": "text/x-python",
   "name": "python",
   "nbconvert_exporter": "python",
   "pygments_lexer": "ipython3",
   "version": "3.7.7"
  }
 },
 "nbformat": 4,
 "nbformat_minor": 4
}
