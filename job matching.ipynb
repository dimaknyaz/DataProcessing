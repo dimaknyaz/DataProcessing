{
 "cells": [
  {
   "cell_type": "code",
   "execution_count": 96,
   "metadata": {},
   "outputs": [],
   "source": [
    "import pandas as pd\n",
    "import numpy as np"
   ]
  },
  {
   "cell_type": "code",
   "execution_count": 244,
   "metadata": {},
   "outputs": [],
   "source": [
    "cl = pd.read_csv(r\"C:\\Users\\Dima\\Downloads\\clustersv1 (1).csv\")\n",
    "req = pd.read_csv('list_data.csv')\n"
   ]
  },
  {
   "cell_type": "code",
   "execution_count": 83,
   "metadata": {},
   "outputs": [],
   "source": [
    "from nltk.corpus import wordnet\n",
    "\n",
    "\n",
    "def get_synonims(word):\n",
    "    synonyms = []\n",
    "    for syn in wordnet.synsets(word):\n",
    "            for l in syn.lemmas():\n",
    "                synonyms.append(l.name())\n",
    "    return set(synonyms)\n",
    "\n",
    "def get_total_list(sentence):\n",
    "    \n",
    "    sep_w = sentence.split()\n",
    "    if len(sep_w)==2:\n",
    "        f = list(get_synonims(sep_w[0]))\n",
    "        s=list(get_synonims(sep_w[1]))\n",
    "        l = [f[i]+\" \"+s[j] for i in range(len(f)) for j in range(len(s))]\n",
    "        return l\n",
    "    else:\n",
    "        f = list(get_synonims(sep_w[0]))\n",
    "        s=list(get_synonims(sep_w[1]))\n",
    "        t = list(get_synonims(sep_w[2]))\n",
    "        l= [f[i]+\" \"+s[j]+\" \"+t[k] for i in range(len(f)) for j in range(len(s)) for k in range(len(t))]\n",
    "        return l"
   ]
  },
  {
   "cell_type": "code",
   "execution_count": 84,
   "metadata": {},
   "outputs": [],
   "source": [
    "mapp ={}\n",
    "\n",
    "# list of current clusters\n",
    "clusters = [cl[cl['cluster']==i]['name'].iloc[0] for i in range(1,39) if i!=36]\n",
    "\n",
    "\n",
    "# here we create a big fat map of all possible skills to our 37 clusteres\n",
    "for i in clusters:\n",
    "    w = [cl[cl['name']==i]['words'].iloc[j] for j in range(len(cl[cl['name']==i]))]\n",
    "    for r in w:\n",
    "        mapp[r]=i\n",
    "        for s in get_total_list(r):\n",
    "            mapp[s]=i\n",
    "      \n",
    "            \n",
    "            "
   ]
  },
  {
   "cell_type": "markdown",
   "metadata": {},
   "source": [
    "# This is a current list of clusters (subject to improve ofc)"
   ]
  },
  {
   "cell_type": "code",
   "execution_count": 211,
   "metadata": {},
   "outputs": [
    {
     "data": {
      "text/plain": [
       "['leadership',\n",
       " 'management',\n",
       " 'administration',\n",
       " 'medical care',\n",
       " 'nurse',\n",
       " 'psychiatry',\n",
       " 'healthcare',\n",
       " 'maintenance',\n",
       " 'mechanic',\n",
       " 'engineer',\n",
       " 'marketing',\n",
       " 'logistics',\n",
       " 'mbo',\n",
       " 'hbo',\n",
       " 'university education',\n",
       " 'construction',\n",
       " 'accounting',\n",
       " 'programming',\n",
       " 'ICT',\n",
       " 'computer literacy',\n",
       " 'IT',\n",
       " 'software',\n",
       " 'teaching',\n",
       " 'carpenter',\n",
       " 'chemistry',\n",
       " 'plumber',\n",
       " 'driver',\n",
       " 'delivery',\n",
       " 'hr',\n",
       " 'foreighn language',\n",
       " 'communication skills',\n",
       " 'argiculture',\n",
       " 'college diploma',\n",
       " 'technician',\n",
       " 'cooking',\n",
       " 'finance',\n",
       " 'installation']"
      ]
     },
     "execution_count": 211,
     "metadata": {},
     "output_type": "execute_result"
    }
   ],
   "source": [
    "clusters"
   ]
  },
  {
   "cell_type": "code",
   "execution_count": 94,
   "metadata": {},
   "outputs": [
    {
     "data": {
      "text/plain": [
       "'communication skills'"
      ]
     },
     "execution_count": 94,
     "metadata": {},
     "output_type": "execute_result"
    }
   ],
   "source": [
    "mapp.get('leadership communication')"
   ]
  },
  {
   "cell_type": "code",
   "execution_count": 179,
   "metadata": {},
   "outputs": [
    {
     "data": {
      "text/plain": [
       "['communicative skills',\n",
       " 'dutch language',\n",
       " 'administrative position',\n",
       " 'experienced paralegal',\n",
       " 'language english',\n",
       " 'coffee good',\n",
       " 'have come',\n",
       " 'law degree',\n",
       " 'young ambitious',\n",
       " 'work experience',\n",
       " 'team player',\n",
       " 'legal administrative',\n",
       " 'strong analytical skills']"
      ]
     },
     "execution_count": 179,
     "metadata": {},
     "output_type": "execute_result"
    }
   ],
   "source": [
    "\"\"\"just initialise requirments from list of requirments that we generate in another file\"\"\"\n",
    "def get_req(j):\n",
    "\n",
    "    req_split = req[\"0\"].iloc[j].split(',')\n",
    "    skills_req=[]\n",
    "    for i in range(len(req_split)):\n",
    "        if i ==0:\n",
    "            skills_req.append(req_split[i][2:-1])\n",
    "        elif i==len(req_split)-1:\n",
    "            skills_req.append(req_split[i][2:-2])\n",
    "        else: \n",
    "            skills_req.append(req_split[i][2:-1])\n",
    "    return skills_req\n",
    "get_req(66)"
   ]
  },
  {
   "cell_type": "code",
   "execution_count": 243,
   "metadata": {},
   "outputs": [],
   "source": [
    "\"\"\"iterate over job requirments to find requirments that are recognised by clusters\"\"\"\n",
    "def get_clustered_req(j):\n",
    "    x = get_req(j)\n",
    "    true_req = []\n",
    "    for i in x:\n",
    "        if mapp.get(i)!=None:\n",
    "            true_req.append(mapp.get(i))\n",
    "\n",
    "    return list(set(true_req))\n"
   ]
  },
  {
   "cell_type": "code",
   "execution_count": 208,
   "metadata": {},
   "outputs": [],
   "source": [
    "clustered_req=[]\n",
    "for i in range(len(req)):\n",
    "    clustered_req.append(get_clustered_req(i))"
   ]
  },
  {
   "cell_type": "markdown",
   "metadata": {},
   "source": [
    "# Example1"
   ]
  },
  {
   "cell_type": "markdown",
   "metadata": {},
   "source": [
    "Here x are the skills chosen from the clusters list above"
   ]
  },
  {
   "cell_type": "code",
   "execution_count": 287,
   "metadata": {},
   "outputs": [
    {
     "name": "stdout",
     "output_type": "stream",
     "text": [
      "The entire set of skills for different vacancies:\n",
      "\n",
      "['foreighn language', 'programming', 'communication skills', 'IT', 'management', 'software']\n",
      "['maintenance', 'computer literacy', 'communication skills', 'IT', 'management']\n",
      "['teaching', 'communication skills', 'IT', 'management', 'marketing']\n",
      "['teaching', 'communication skills', 'IT', 'management', 'marketing']\n",
      "['management', 'communication skills', 'computer literacy', 'IT']\n"
     ]
    }
   ],
   "source": [
    "x = ['IT','management','programming','communication skills']\n",
    "\n",
    "print(\"The entire set of skills for different vacancies:\\n\")\n",
    "\n",
    "\"\"\"b is responsible for min number of requirments in vacancy we consider - if it's 0,1,2 we ignore the vacancy, a- min number\n",
    "of intersections beetwen vacancy and skill\"\"\"\n",
    "def skill_is_a_subset_of_req(a=3,b=3):\n",
    "    indicies = []\n",
    "    for i in clustered_req:\n",
    "        \n",
    "        if sum([i.count(x[j]) for j in range(len(x))])>=max(min(a,len(i)),b) :\n",
    "            print(i)\n",
    "            indicies.append(clustered_req.index(i))\n",
    "    return indicies\n",
    "        \n",
    "indicies = skill_is_a_subset_of_req()"
   ]
  },
  {
   "cell_type": "code",
   "execution_count": 288,
   "metadata": {},
   "outputs": [
    {
     "name": "stdout",
     "output_type": "stream",
     "text": [
      "Interflex has a market leading position as a supplier of access control, time registration and personnel management. What makes us unique: we offer all our in-house services - from concept to production to maintenance of the systems. Our customer structure is diverse and includes the automotive sector, retail companies, airports and football stadiums. With thousands of system installations, which guarantee the management of approximately 4.6 million employees, Interflex is one of the leading providers in Europe. Interflex was founded in 1976 and has been part of the globally active group of companies Allegion since 2013. With more than 30 brands, 11,000+ employees worldwide and products sold in 130 countries, Allegion specializes in the security industry. Software & Support Consultant (m / f) Our offices in the Netherlands and Belgium offer regional clients a comprehensive set of IT-related services to make their working environment more efficient and safer. To support the continuous growth in combination with today's challenges and ever stricter security requirements, we are looking for reinforcement for our office in Vianen (Utrecht). Do you have a wide range of IT knowledge and do you want to leave your mark in many different companies in all kinds of sectors? Then we are really looking forward to meeting you! Do you also have an affinity with trouble-shooting and do you have the mentality to keep going until you have found the solution? Then you already have an advantage. The function: As a Software Consultant & Support you combine the work responsible for the integration of our products in customer-specific environments with 2nd line support to solve the complex incidents of our customers. By communicating with end users in an appropriate way, you succeed in solving customer-specific issues with the possibilities of our software. Task package: Implementation of Interflex Software in customer-specific environments Configuration of basic parameters Analysis of problems, system requirements, customer wishes Incident resolution You participate in exciting projects in which you Comes into contact with hardware and software Work on multiple projects simultaneously for renowned clients Develop an international support network Sometimes travels within the region or to Germany for training Profile: You have the following properties: • HBO or WO education preferably in the direction of IT or similar through experience Experience of at least 3 years in IT Analytical mind Stress resistant character Professional communication skills with a pinch of diplomatic assertiveness Basic knowledge of C # programming · Drivers license Fluent in Dutch, good knowledge of English and German is a plus We offer: Exciting and challenging projects of varying character Training and guidance Company car · Laptop Mobile phone with subscription 28 vacation days Free coffee, soft drinks,… at the office A healthy mix of unique characters as colleagues Are you still reading? Then you might become our new colleague. Send us your complete CV and motivation letter Type of employment: Full-time Measures against the corona virus: Our office has more than enough space to make working at a social distance possible. In addition, mouth masks, hand sanitizer and the possibility to wash hands are widely available. Language: German (Recommended) English (Required) Working from home: No \n",
      "\n",
      "\n",
      "\n",
      "What are you going to do? Work at the Ministry of Defense but not as a soldier? Become 1st IT Administrator! If you choose a job at Defense, you choose socially relevant work. You really contribute to a safe Netherlands. In addition to 40,000 professional soldiers, there are also about 16,000 civilians working for Defense. Do you want to contribute to a professional defense organization in your own field and thus to peace and security at home and abroad? Are you able to provide advice in the field of IT in the event of incidents, problems, changes and projects? We are looking for a technical specialist who takes care of the basic product development of IT components and the implementation of technical (application) management. You will be dealing with the technical management of applications, associated databases and middleware products. What you will do As 1st Administrator you are responsible for the basic product development of IT components and the implementation of technical (application) management. You solve (presented) problems by applying standardized (specialist) methods and techniques. You will deal with the technical management of applications, associated databases and middleware products. To this end, you participate in development processes within the framework of life cycle management and in programs and / or projects. You prepare documentation of the IT components and execute test routines. You keep it up-to-date, you do the technical management and you do capacity, configuration and change management. You test the architectural designs and make proposals for improvement. You identify, analyze and resolve malfunctions of the IT components independently. For this you sometimes have to be reachable in case of calamities. You also make practical proposals for improving the execution of technical (application) management and product development activities and implement these. Who are we Who are you? You are driven by translating challenges into successes, you take calculated risks to achieve goals. achieve and instinctively know which people you need to achieve this and how to activate them. Your toolbox contains the following:  You have an HBO working and thinking level in a knowledge area related to computer science or computer technology. You have experience with open source software. You have recently (last 5 years) gained experience in technical management. You have relevant work experience with the implementation of incident, change and patch management. You have experience with Linux and Oracle middleware. You have experience with at least 2 of the following (Linux shell, Unix, SQL, windows powershell) scripting languages. Knowledge and experience with the operating system Windows, Linux and Unix. You are willing and able to periodically participate in the consignment service. Prepared and able to start early (around 7:00 am).  Wishes (a maximum of 10 points to be obtained): Experience within the P&O and Medical information domain (preferably with one of the following applications; Peoplesoft, Stat, Netvisn, Control-M, Configuration Version Software and / or Zabbix, Informatica, USER and 3D-OPT) (1 point); Experience with VMWare ESX (1 point); Experience with DBMS products. (1 point); Experience with chain monitoring (metrics, baseline, trends, dashboards, etc.) (1 point); Experience with going through life cycles of application landscapes; (1 point); Experience in written / oral communication with stakeholders at all levels (1 point); Experience with project-based work (1 point); Experience in giving advice and making improvement proposals (1 point); Experience with Agile / DevOps. Experience with a government organization, preferably Defense (1 point);  Competencies: Analyze, level 2; Flexible, level: 2; Accurate, level 2; Planning and organizing, level 2; Responsible, level 2; Initiative, level 1; Collaboration, level 1; Develop employees, level 1. Working conditionsSalary level scale 9Minimum salary: € 2,900 gross per monthMaximum salary: € 4,000 gross per month You will be given every opportunity to develop and grow. In addition to your salary and holiday allowance, you can count on a year-end bonus of 8.3%, the so-called thirteenth month. In addition, civilian employees receive a monthly gross allowance for health insurance. In addition to a pension scheme at ABP, you will receive a monthly commuting allowance or you can opt for a public transport subscription with unlimited travel throughout the Netherlands under favorable conditions. with your private life. Various leave arrangements (for example 75% paid parental leave) and flexib le working hours contribute to a good balance. And if that is not enough, it is also possible to (temporarily) shorten your working time a few hours per week and to build up extra leave hours and / or ADV hours. The organization Ministry of Defense, Defense Materiel Organization Defense is committed to the interests, prosperity and freedom of the Netherlands. We are active at home and abroad on a daily basis. Our global commitment strengthens international cooperation and ensures that people can develop freely. Now and in the future, approximately 58,000 people work directly and indirectly at the Ministry of Defense for peace and security. The Ministry consists of the Administrative Staff (the department), the Royal Netherlands Navy, the Royal Netherlands Army, the Royal Netherlands Air Force, the Royal Netherlands Marechaussee, the Defense Support Command (DOSCO) and the Defense Materiel Organization (DMO). The Netherlands and shows similarities with a large company. The operational commands (sea, land and air forces), the Marechaussee, the DOSCO and the DMO resemble operating companies. Defense Equipment Organization The DMO supports the various branches of the armed forces in the purchase and sale of material, maintenance, logistics and IT services. This includes the purchase and maintenance of submarines, aircraft and land vehicles, but also the supply of fuel, ammunition and clothing.The Defense Materiel Organization, P&O and Medical Hosting Services Department Where will you work? The P&O and Medical Hosting Services team is responsible for the continuity, security and innovation of the IT infrastructure on which the P&O and medical applications are hosted. You will work closely together with functional management, information management and operational management in a virtual chain organization. Particularities This vacancy is opened both internally and externally. In case of suitability, internal candidates are preferred. As a citizen applicant it is necessary that you have the Dutch nationality or that you have a combined residence and work permit (GVVA), unless you come from a country of the European Economic Area (EEA) or from Switzerland. An assessment can be part of the selection procedure. A safety investigation and reference check are part of the selection procedure. You are willing to take the oath or affirmation for civilian employees of Defense. \n",
      "\n",
      "\n",
      "\n",
      "Online Plastics Group in Arnhem is looking for an enthusiastic intern for our e-commerce department. Do you want to learn everything about e-commerce and online marketing, are you extremely eager to learn and driven, but above all looking for a challenging internship? Then you are the intern we are looking for! We ask for a strong commitment and love for the profession and in return we train you to become a data-driven online marketer who does not shy away from a challenge. Our marketers are specialized in everything related to internet marketing. We are actively engaged in advertising via Google Ads and Microsoft Ads, share great content via our social channels such as Facebook, Instagram and Pinterest and are continuously improving our websites through Conversion Optimization. We can use your help with this. What you will do Assist the e-commerce team with various online marketing activities. You help with the rollout of new functionalities that improve our web shops. You prepare short and concise analyzes. Think of: competition analysis, keyword research and analysis on the effect of price changes. You set up targeted and relevant campaigns in our advertising channels and thus ensure the optimal user experience for our customers. You search campaigns for search terms that do not fit in the account and exclude them specifically. Keep an eye on our inventory on Amazon.com and replenish as needed. Together with your internship supervisor, you set learning objectives that you will achieve at the end of your internship. We set these learning objectives independently of your studies. We think it is important that after your internship you leave with more knowledge than you enter. Based on the competencies that we determine together, activities are determined that you will take on together with your colleagues during your internship. Of course, we also look at the competencies that you must meet from your study program and ensure that you get enough time and guidance to achieve them. Why you want to do an internship with us: Flexible working hours Possibility to work from home Reimbursement of your travel expenses An informal working environment A pleasant team of colleagues Nice outings with your team Your own Macbook Excellent internship compensation Many opportunities to develop yourself Who you are Driven and eager to learn; You live in or near Arnhem; You are open to feedback; You like to experiment with the latest software tools; You can work independently, but you are also a team player; You like to roll up your sleeves; Sharp, accurate and not afraid to ask critical questions; You look beyond your nose and see the \"bigger\" picture; You can follow the latest developments in online marketing closely; You can handle freedom well and take responsibility; You follow a relevant higher professional education: Marketing, Communication, Business IT Management, Commercial Economics or Communication and Multimedia Design. What we offer An informal working environment with plenty of room for personal initiative and development; Good and involved internship supervision, in which we pay attention to your development; A varied range of tasks; Google Analytics training; Good internship compensation; Macbook of the company; Friendly colleagues from whom you can learn a lot. With whom are you going to do an internship? We are a young, fast-growing European organization that sells customized plastic sheet material online to both large companies and the home handyman. We do this online through webshops such as Kunststofplatenshop.nl, Kunststoffplattenonline.de and Plaqueplastique.fr. Our ambition is to become the market leader in sustainable plastic sheets in the rest of Europe as well. Very strong content plays a crucial role in this. In addition to our offices in Dronten and Arnhem, we also have four offices in Germany, Belgium, Austria and Great Britain. You will join a small close team with 12 motivated, eager to learn and pleasant people. Your direct colleagues are (online) marketing specialists who work data-driven. You will be offered various training courses to develop your own knowledge. We can also be found regularly at marketing events: for inspiration and because we like to stay up-to-date. Contract duration 6 months Type of employment: Full-time, Internship Salary: € 300.00 per month Terms of employment: Company parties Flexible working hours Lunch discount Travel allowance Work from home Work schedule: Day shift \n",
      "\n",
      "\n",
      "\n",
      "Online Plastics Group in Arnhem is looking for an enthusiastic intern for our e-commerce department. Do you want to learn everything about e-commerce and online marketing, are you extremely eager to learn and driven, but above all looking for a challenging internship? Then you are the intern we are looking for! We ask for a strong commitment and love for the profession and in return we train you to become a data-driven online marketer who does not shy away from a challenge. Our marketers are specialized in everything related to internet marketing. We are actively engaged in advertising via Google Ads and Microsoft Ads, share great content via our social channels such as Facebook, Instagram and Pinterest and are continuously improving our websites through Conversion Optimization. We can use your help with this. What you will do Assist the e-commerce team with various online marketing activities. You help with the rollout of new functionalities that improve our web shops. You prepare short and concise analyzes. Think of: competition analysis, keyword research and analysis on the effect of price changes. You set up targeted and relevant campaigns in our advertising channels and thus ensure the optimal user experience for our customers. You search campaigns for search terms that do not fit in the account and exclude them specifically. Keep an eye on our inventory on Amazon.com and replenish as needed. Together with your internship supervisor, you set learning objectives that you will achieve at the end of your internship. We set these learning objectives independently of your studies. We think it is important that after your internship you leave with more knowledge than you enter. Based on the competencies that we determine together, activities are determined that you will take on together with your colleagues during your internship. Of course, we also look at the competencies that you must meet from your study program and ensure that you get enough time and guidance to achieve them. Why you want to do an internship with us: Flexible working hours Possibility to work from home Reimbursement of your travel expenses An informal working environment A pleasant team of colleagues Nice outings with your team Your own Macbook Excellent internship compensation Many opportunities to develop yourself Who you are Driven and eager to learn; You live in or near Arnhem; You are open to feedback; You like to experiment with the latest software tools; You can work independently, but you are also a team player; You like to roll up your sleeves; Sharp, accurate and not afraid to ask critical questions; You look beyond your nose and see the \"bigger\" picture; You can follow the latest developments in online marketing closely; You can handle freedom well and take responsibility; You follow a relevant higher professional education: Marketing, Communication, Business IT Management, Commercial Economics or Communication and Multimedia Design. What we offer An informal working environment with plenty of room for personal initiative and development; Good and involved internship supervision, in which we pay attention to your development; A varied range of tasks; Google Analytics training; Good internship compensation; Macbook of the company; Friendly colleagues from whom you can learn a lot. With whom are you going to do an internship? We are a young, fast-growing European organization that sells customized plastic sheet material online to both large companies and the home handyman. We do this online through webshops such as Kunststofplatenshop.nl, Kunststoffplattenonline.de and Plaqueplastique.fr. Our ambition is to become the market leader in sustainable plastic sheets in the rest of Europe as well. Very strong content plays a crucial role in this. In addition to our offices in Dronten and Arnhem, we also have four offices in Germany, Belgium, Austria and Great Britain. You will join a small close team with 12 motivated, eager to learn and pleasant people. Your direct colleagues are (online) marketing specialists who work data-driven. You will be offered various training courses to develop your own knowledge. We can also be found regularly at marketing events: for inspiration and because we like to stay up-to-date. Contract duration 6 months Type of employment: Full-time, Internship Salary: € 300.00 per month Terms of employment: Company parties Flexible working hours Lunch discount Travel allowance Work from home Work schedule: Day shift \n",
      "\n",
      "\n",
      "\n",
      "What you will do As a Senior Product Specialist you will be responsible for controlling part of our network services. The services provided by the Networks section consist of ten building blocks that almost always have to be designed, realized and managed together. Product specialists can be widely deployed on these building blocks. In the future, you can therefore possibly be deployed on different or a combination of Network-related building blocks. What are you going to do? Defense places high demands on its ICT products and services. These must be of high quality, safe and available 24/7. Everyone must be able to access his or her information and systems anywhere at any time of the day. From employees in deployment areas and military personnel on exercise to the Royal Netherlands Marechaussee at the border and at Schiphol. Whatever happens, Defense IT always has to do it! The Generic IT & Infrastructure department (GIT & Infra) plays an indispensable role in this. As a Senior Product Specialist, you can contribute to this within this department, in the Networks section, by directing part of the network services. There is currently a need for a Senior Product Specialist for one of the LAN building blocks. For the work you can think of:  Contributions to the annual plan with regard to the building block (filling FOCUS) Drafting investment files / ATBs Checking financial utilization of the building block (compared to plan) Drafting reports regarding the building block Securing the building block by means of building block description, acceptance documentation, preparation of management calendar, definition of control plans, stock management Drawing up operational frameworks with regard to the building block Define life cycles and prepare a business case and plan for the implementation of life cycles Initiate development processes related to the building block Supplier management: directing, assessing and consulting with suppliers Setting up information security requirements with regard to the building block Drawing up frameworks for the requirements Set requirements for the technical performance of the building block Elaboration of technical frameworks for the building block Coordinating the daily management of the building block  The Senior Product Specialist can be deployed on any building block of the Networks Section. The emphasis can be on Service Strategy / Design (setting framework) and Service Transition / Operation (operational). Who are we looking for What do we ask? We require broad knowledge and experience from the Senior Product Specialist. The criteria are therefore divided into knowledge and training requirements, experience requirements and competences.  Knowledge and training requirements: You have HBO + working and thinking level. You have a higher vocational education in Business Administration or Computer Science. You have demonstrable knowledge of the Service Center and SAP. You have ICND1 certification. You have specific theoretical knowledge and practical knowledge of the assigned building blocks. You have general theoretical knowledge of: IT management processes, activities registration system; You have general knowledge of quality assurance and project management methodologies; You preferably have knowledge of the Defense network.  Experience requirements  You have extensive experience as a Product Specialist or Senior IT Administrator (> 3 years). You have relevant IP network experience on the LAN (Local Area Network). You have extensive experience with (parts of) complex infrastructures in the field of ICT services (> 3 years). You have extensive experience in teamwork, motivation and enthusiasm (> 3 years). You preferably have insight into release plans; architectural plans; building blocks; process model and control model JIVC. You have experience in drafting advice and reports and in managing people.  You are someone who acts quickly and adequately in problem situations and who can guide and motivate people. You can work well together, you take initiative in the work and within the team and you have strong communication skills. Finally, you are decisive and cost-conscious, you take responsibility and you are organization-oriented. Do you recognize yourself in the profile above, but do you not meet all the criteria? Please feel free to contact us so that we can discuss the possibilities together! Terms of employmentSalary level scale 11Minimum salary: € 3,750 gross per monthMaximum salary: € 5,100 gross per monthNumber of hours per week 38Location Huis Ter Heide - Camp New Am., Utrecht personal growth and has good study facilities, so you never stand still. You are given all the space to develop and grow. In addition to salary and holiday allowance, you can count on a year-end bonus of 8.3%, the so-called thirteenth month. In addition, civilian employees receive a monthly gross allowance for health insurance. In addition to a pension scheme with ABP, you will receive a monthly commuting allowance or you can opt for an OV-ab under favorable conditions. Warning: Can only detect less than 5000 characters\n",
      "\n",
      "\n",
      "\n"
     ]
    }
   ],
   "source": [
    "true_indicies = [req.iloc[i][\"1\"] for i in indicies]\n",
    "Data = pd.read_csv(\"JobDataTranslated.csv\")\n",
    "\n",
    "for i in true_indicies:\n",
    "    print(Data['Job Description'][i])\n",
    "    print(\"\")\n",
    "    print(\"\")\n",
    "    print(\"\")"
   ]
  },
  {
   "cell_type": "markdown",
   "metadata": {},
   "source": [
    "# Example 2\n"
   ]
  },
  {
   "cell_type": "code",
   "execution_count": 312,
   "metadata": {},
   "outputs": [
    {
     "name": "stdout",
     "output_type": "stream",
     "text": [
      "['driver', 'mbo']\n",
      "['plumber', 'management', 'driver', 'installation', 'mbo']\n",
      "['driver', 'plumber', 'mbo', 'installation']\n",
      "['driver', 'mbo']\n"
     ]
    }
   ],
   "source": [
    "x = ['plumber','driver','mbo']\n",
    "indicies = skill_is_a_subset_of_req(a=3,b=2)"
   ]
  },
  {
   "cell_type": "markdown",
   "metadata": {},
   "source": [
    "# some more text of vacancies:)"
   ]
  },
  {
   "cell_type": "code",
   "execution_count": 313,
   "metadata": {},
   "outputs": [
    {
     "name": "stdout",
     "output_type": "stream",
     "text": [
      "Who are you going to work with? For a client with a mild intellectual disability in combination with behavioral problems, we are looking for an extension of our core team. It concerns a client who is looking for stability and tranquility. He must learn to trust in others, which requires from you as a guide to move along. Connecting, connecting, stimulating and offering safety are keywords in this. This is you You are development-oriented and willing to actively participate in a new day program. The client is currently receiving 1 on 1 guidance for which a special core team has been set up. Guidance takes place according to the agreements in the client plan, whereby you seek coordination with your colleagues. You work from an experience-based and solution-oriented approach, you coordinate and connect with the client. Here there is time for real quality time with one on one attention. Your terms of employment Number of hours in consultation. A contract for the duration of 1 year with the intention of extension for an indefinite period. Market-based employment conditions in accordance with the Collective Labor Agreement for the disabled. This means that your salary is between € 1,861 and € 2,766 based on full-time employment, depending on your experience. Holiday hours and PBL hours where the hours can be used flexibly. You will receive a year-end bonus. You receive an annual budget that you can spend on your sustainable employability. What else we offer you Prisma is a good employer and that means that you are important. We offer you a challenging workplace where there is room to take initiative and discover yourself. We invest in your development, contribute to your vitality and employability and are happy to support you in your career. There are various training options that contribute to your knowledge and actions or to your own development. \"Intensive but enjoy every success\" We expect this from you With passion and pleasure you translate Prisma's vision into meaningful care. You think in terms of possibilities instead of limitations and you value real contact. You are patient and empathetic to help clients make as many choices as possible. You stand firmly in your shoes and know your talents and pitfalls. You naturally work together and you are not afraid to give or receive feedback. Relevant requirements You have at least a completed MBO level 3 education in Healthcare and Welfare. You can be deployed on irregular working hours, spread over several days. Sleep services are also used. You are in possession of a driver's license and have a car at your disposal. For more information, please contact Jeroen van Amelsvoort on 0610508188 Acquisition in response to this vacancy is not appreciated. \n",
      "\n",
      "\n",
      "\n",
      "What are you going to do? Can you pass on your knowledge in installation technology, but are you not ready to say goodbye to the workplace yet? Then a managerial plumber is the job for you! For a company with projects in the Westland region, I am looking for the lead plumber who can direct and assist where necessary. Your activities will consist of: Consultation about the planning with the work planners and project leaders; Managing the plumbers; Training and training of apprentice plumbers; Control of the work delivered. In addition to the indicated activities, you are not afraid to bend a pipe or hang a radiator where necessary. In short, a job with enough varied activities! What do you need? In addition to an example for the other technicians, we ask for a leading plumber: A completed MBO level 3 training in installation technology (or higher); Several years of relevant work experience as a first plumber; Communicative; You can work independently as well as in a team; In possession of driver's license B. Do you meet these requirements? Then you might be the lead plumber I'm looking for! Let me know by calling, emailing me, or apply directly for this job! You get: In addition to a great next step in your career, we offer a leading plumber: An excellent salary up to € 3,500 gross per month, depending on your work experience; Growth opportunities to project manager; A good pension scheme; Travel and expense allowance; Training opportunities and extra courses; A company car, telephone and laptop; The opportunity to develop and transfer your knowledge. \n",
      "\n",
      "\n",
      "\n",
      "What are you going to do? We are immediately looking for an Allround Plumber! Are you looking for a new challenge as an Allround Plumber? And do you have experience in the profession? Then contact us. No day is the same in this organization and your responsibilities look like this: You will work completely independently with both new construction and renovation work within utility and residential construction; You will be involved in the installation, repair and maintenance of, among other things, water and gas pipes, central heating systems, plumbing etc; Issuing advice to customers. What do you need? Are you familiar with the above activities? We would like to get in touch with you if you meet the following requirements: An MBO course in installation technology; Number of years of relevant work experience; In possession of your driver's license B; You have a customer-oriented and flexible attitude; Living in the Rotterdam area. You get: An excellent salary, rising to approximately € 3,000 per month; You are eligible for a company car with means of communication; The personal development of the employees is central, you have the opportunity to follow training and / or courses; With us there are many opportunities to continue to grow; You accrue pension with a fund; Full travel and expense allowance. \n",
      "\n",
      "\n",
      "\n",
      "Who are you going to work with? For a client with a mild intellectual disability in combination with behavioral problems, we are looking for an extension of our core team. It concerns a client who is looking for stability and tranquility. He must learn to trust in others, which requires from you as a guide to move along. Connecting, connecting, stimulating and offering safety are keywords in this. This is you You are development-oriented and willing to actively participate in a new day program. The client is currently receiving 1 on 1 guidance for which a special core team has been set up. Guidance takes place according to the agreements in the client plan, whereby you seek coordination with your colleagues. You work from an experience-based and solution-oriented approach, you coordinate and connect with the client. Here there is time for real quality time with one on one attention. Your terms of employment Number of hours in consultation. A contract for the duration of 1 year with the intention of extension for an indefinite period. Market-based employment conditions in accordance with the Collective Labor Agreement for the disabled. This means that your salary is between € 1,861 and € 2,766 based on full-time employment, depending on your experience. Holiday hours and PBL hours where the hours can be used flexibly. You will receive a year-end bonus. You receive an annual budget that you can spend on your sustainable employability. What else we offer you Prisma is a good employer and that means that you are important. We offer you a challenging workplace where there is room to take initiative and discover yourself. We invest in your development, contribute to your vitality and employability and are happy to support you in your career. There are various training options that contribute to your knowledge and actions or to your own development. \"Intensive but enjoy every success\" We expect this from you With passion and pleasure you translate Prisma's vision into meaningful care. You think in terms of possibilities instead of limitations and you value real contact. You are patient and empathetic to help clients make as many choices as possible. You stand firmly in your shoes and know your talents and pitfalls. You naturally work together and you are not afraid to give or receive feedback. Relevant requirements You have at least a completed MBO level 3 education in Healthcare and Welfare. You can be deployed on irregular working hours, spread over several days. Sleep services are also used. You are in possession of a driver's license and have a car at your disposal. For more information, please contact Jeroen van Amelsvoort on 0610508188 Acquisition in response to this vacancy is not appreciated. \n",
      "\n",
      "\n",
      "\n"
     ]
    }
   ],
   "source": [
    "true_indicies = [req.iloc[i][\"1\"] for i in indicies]\n",
    "Data = pd.read_csv(\"JobDataTranslated.csv\")\n",
    "\n",
    "for i in true_indicies:\n",
    "    print(Data['Job Description'][i])\n",
    "    print(\"\")\n",
    "    print(\"\")\n",
    "    print(\"\")"
   ]
  },
  {
   "cell_type": "markdown",
   "metadata": {},
   "source": [
    "Note on parameters $a$, $b$: if we set $b$ high >1(2), we will cut off vacancies that aren't processed to well by our algoritm; if the skills set is divergent then high $a$ will make use of vacancies within both categories (so like intraindustry stuff we look for), but if $a$ is low it will also suggest vacancies in one industry. Setting $a$=|entered_skill_set| would mean we look for matches where either a set of skills is a *proper* subset of requirment or another way around"
   ]
  }
 ],
 "metadata": {
  "kernelspec": {
   "display_name": "Python 3",
   "language": "python",
   "name": "python3"
  },
  "language_info": {
   "codemirror_mode": {
    "name": "ipython",
    "version": 3
   },
   "file_extension": ".py",
   "mimetype": "text/x-python",
   "name": "python",
   "nbconvert_exporter": "python",
   "pygments_lexer": "ipython3",
   "version": "3.7.7"
  }
 },
 "nbformat": 4,
 "nbformat_minor": 4
}
