{
 "cells": [
  {
   "cell_type": "code",
   "execution_count": 11,
   "metadata": {},
   "outputs": [],
   "source": [
    "import pandas as pd\n",
    "import numpy as np\n",
    "try:\n",
    "    import cPickle \n",
    "except:\n",
    "    import pickle as cPickle \n",
    "from nltk.corpus import stopwords\n",
    "from gensim.models import word2vec\n",
    "import nltk.data\n",
    "import re\n",
    "import logging\n",
    "from scipy import spatial\n",
    "import gensim.models\n",
    "\n",
    "import gensim.models.keyedvectors as word2vec\n"
   ]
  },
  {
   "cell_type": "code",
   "execution_count": 12,
   "metadata": {},
   "outputs": [],
   "source": [
    "model = word2vec.KeyedVectors.load_word2vec_format('duyet_word2vec_skill.bin', binary=True)"
   ]
  },
  {
   "cell_type": "code",
   "execution_count": 15,
   "metadata": {},
   "outputs": [],
   "source": [
    "def avg_feature_vector(words, model, num_features):\n",
    "        #function to average all words vectors in a given paragraph\n",
    "        featureVec = np.zeros((num_features,), dtype=\"float32\")\n",
    "        nwords = 0\n",
    "\n",
    "        #list containing names of words in the vocabulary\n",
    "        index2word_set = set(model.index2word) # this is moved as input param for performance reasons\n",
    "        for word in words:\n",
    "            if word in index2word_set:\n",
    "                nwords = nwords+1\n",
    "                featureVec = np.add(featureVec, model[word])\n",
    "\n",
    "        if(nwords>0):\n",
    "            featureVec = np.divide(featureVec, nwords)\n",
    "        return featureVec\n",
    "\n",
    "def sum_feature_vector(words, model, num_features):\n",
    "        #function to average all words vectors in a given paragraph\n",
    "        featureVec = np.zeros((num_features,), dtype=\"float32\")\n",
    "        nwords = 0\n",
    "\n",
    "        #list containing names of words in the vocabulary\n",
    "        index2word_set = set(model.index2word) # this is moved as input param for performance reasons\n",
    "        for word in words:\n",
    "            if word in index2word_set:\n",
    "                nwords = nwords+1\n",
    "                featureVec = np.add(featureVec, model[word])\n",
    "\n",
    "#         if(nwords>0):\n",
    "#             featureVec = np.divide(featureVec, nwords)\n",
    "        return featureVec\n",
    "    \n",
    "def compare_two_list_skills(skills_1, skills_2):\n",
    "    sentence_1_avg_vector = avg_feature_vector(skills_1.split(), model=model, num_features=300)\n",
    "    sentence_2_avg_vector = avg_feature_vector(skills_2.split(), model=model, num_features=300)\n",
    "    sen1_sen2_similarity =  1 - spatial.distance.cosine(sentence_1_avg_vector,sentence_2_avg_vector)\n",
    "    \n",
    "    print ('Avg', sentence_1_avg_vector[:10])\n",
    "    \n",
    "    return sen1_sen2_similarity\n",
    "\n",
    "def compare_two_list_skills_sum(skills_1, skills_2):\n",
    "    sentence_1_avg_vector = sum_feature_vector(skills_1.split(), model=model, num_features=300)\n",
    "    sentence_2_avg_vector = sum_feature_vector(skills_2.split(), model=model, num_features=300)\n",
    "    sen1_sen2_similarity =  1 - spatial.distance.cosine(sentence_1_avg_vector,sentence_2_avg_vector)\n",
    "    \n",
    "    print ('Sum', sentence_1_avg_vector[:10])\n",
    "    \n",
    "    return sen1_sen2_similarity"
   ]
  },
  {
   "cell_type": "code",
   "execution_count": 16,
   "metadata": {},
   "outputs": [
    {
     "name": "stdout",
     "output_type": "stream",
     "text": [
      "Avg [ 0.08293235 -0.01613989 -0.09403215 -0.09680523  0.11197761  0.03761822\n",
      " -0.02716476 -0.00186651 -0.02289473 -0.01331386]\n"
     ]
    },
    {
     "data": {
      "text/plain": [
       "1.0"
      ]
     },
     "execution_count": 16,
     "metadata": {},
     "output_type": "execute_result"
    }
   ],
   "source": [
    "compare_two_list_skills(\"java\", \"java\")"
   ]
  },
  {
   "cell_type": "code",
   "execution_count": 17,
   "metadata": {},
   "outputs": [
    {
     "name": "stdout",
     "output_type": "stream",
     "text": [
      "Avg [ 0.08293235 -0.01613989 -0.09403215 -0.09680523  0.11197761  0.03761822\n",
      " -0.02716476 -0.00186651 -0.02289473 -0.01331386]\n"
     ]
    },
    {
     "data": {
      "text/plain": [
       "0.6255530714988708"
      ]
     },
     "execution_count": 17,
     "metadata": {},
     "output_type": "execute_result"
    }
   ],
   "source": [
    "compare_two_list_skills(\"java\", \"css\")"
   ]
  },
  {
   "cell_type": "code",
   "execution_count": 18,
   "metadata": {},
   "outputs": [
    {
     "name": "stdout",
     "output_type": "stream",
     "text": [
      "Avg [ 0.06855265 -0.0255133  -0.10442308 -0.09075646  0.10623673  0.02993073\n",
      " -0.04724921 -0.00823974 -0.00702536 -0.00324348]\n"
     ]
    },
    {
     "data": {
      "text/plain": [
       "0.9015412330627441"
      ]
     },
     "execution_count": 18,
     "metadata": {},
     "output_type": "execute_result"
    }
   ],
   "source": [
    "compare_two_list_skills(\"java css\", \"css\")"
   ]
  },
  {
   "cell_type": "code",
   "execution_count": 19,
   "metadata": {},
   "outputs": [
    {
     "name": "stdout",
     "output_type": "stream",
     "text": [
      "Avg [ 4.70342636e-02 -2.74045467e-02 -9.71476883e-02 -1.14834458e-01\n",
      "  1.22716397e-01  5.26758060e-02 -4.79845032e-02 -1.14629045e-04\n",
      " -1.36084752e-02  1.75969824e-02]\n"
     ]
    },
    {
     "data": {
      "text/plain": [
       "0.8082780241966248"
      ]
     },
     "execution_count": 19,
     "metadata": {},
     "output_type": "execute_result"
    }
   ],
   "source": [
    "compare_two_list_skills(\"java html\", \"css\")"
   ]
  },
  {
   "cell_type": "code",
   "execution_count": 19,
   "metadata": {},
   "outputs": [
    {
     "data": {
      "text/plain": [
       "0.60832859623324065"
      ]
     },
     "execution_count": 19,
     "metadata": {},
     "output_type": "execute_result"
    }
   ],
   "source": [
    "compare_two_list_skills(\"java c++\", \"css\")"
   ]
  },
  {
   "cell_type": "code",
   "execution_count": 21,
   "metadata": {},
   "outputs": [
    {
     "data": {
      "text/plain": [
       "0.67915011783155532"
      ]
     },
     "execution_count": 21,
     "metadata": {},
     "output_type": "execute_result"
    }
   ],
   "source": [
    "compare_two_list_skills(\"java html\", \"sql\")"
   ]
  },
  {
   "cell_type": "code",
   "execution_count": 21,
   "metadata": {},
   "outputs": [
    {
     "name": "stdout",
     "output_type": "stream",
     "text": [
      "Avg [ 0.03346997 -0.03253734 -0.11177983 -0.09220824  0.13128756  0.04951318\n",
      " -0.06279642 -0.01740912  0.01600845  0.03599057]\n",
      "0.9466148018836975\n",
      "Sum [ 0.10040992 -0.09761204 -0.3353395  -0.27662474  0.3938627   0.14853953\n",
      " -0.18838927 -0.05222737  0.04802536  0.10797171]\n",
      "0.9466148018836975\n"
     ]
    }
   ],
   "source": [
    "print (compare_two_list_skills(\"html javascript css\", \"javascript css java\"))\n",
    "print (compare_two_list_skills_sum(\"html javascript css\", \"javascript css java\"))"
   ]
  },
  {
   "cell_type": "code",
   "execution_count": 29,
   "metadata": {},
   "outputs": [
    {
     "name": "stdout",
     "output_type": "stream",
     "text": [
      "0.853275547165\n",
      "0.853275547165\n"
     ]
    }
   ],
   "source": [
    "print compare_two_list_skills(\"javascript\", \"html css\")\n",
    "print compare_two_list_skills_sum(\"javascript\", \"html css\")"
   ]
  },
  {
   "cell_type": "code",
   "execution_count": 26,
   "metadata": {},
   "outputs": [
    {
     "data": {
      "text/plain": [
       "0.85393142236259534"
      ]
     },
     "execution_count": 26,
     "metadata": {},
     "output_type": "execute_result"
    }
   ],
   "source": [
    "compare_two_list_skills(\"css\", \"html javascript\")"
   ]
  },
  {
   "cell_type": "code",
   "execution_count": null,
   "metadata": {
    "collapsed": true
   },
   "outputs": [],
   "source": []
  }
 ],
 "metadata": {
  "kernelspec": {
   "display_name": "Python 3",
   "language": "python",
   "name": "python3"
  },
  "language_info": {
   "codemirror_mode": {
    "name": "ipython",
    "version": 3
   },
   "file_extension": ".py",
   "mimetype": "text/x-python",
   "name": "python",
   "nbconvert_exporter": "python",
   "pygments_lexer": "ipython3",
   "version": "3.7.7"
  }
 },
 "nbformat": 4,
 "nbformat_minor": 1
}
