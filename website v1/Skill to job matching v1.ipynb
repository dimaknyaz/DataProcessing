{
 "cells": [
  {
   "cell_type": "markdown",
   "metadata": {},
   "source": [
    "# input: list of clusters for each vacancy, vacancy text, list of clusters. User's uput - selcted clusters. Output - which vacancies are good"
   ]
  },
  {
   "cell_type": "code",
   "execution_count": 1,
   "metadata": {},
   "outputs": [],
   "source": [
    "import pickle\n",
    "import pandas as pd\n"
   ]
  },
  {
   "cell_type": "code",
   "execution_count": 2,
   "metadata": {},
   "outputs": [],
   "source": [
    "\n",
    "# clusters for each vacancy\n",
    "with open('super_skill_list.pkl', 'rb') as f:\n",
    "    x = pickle.load(f)\n",
    "\n",
    "hard_cl=[x[i][0] for i in range(len(x))]\n",
    "soft_cl=[x[i][1] for i in range(len(x))]\n",
    "\n"
   ]
  },
  {
   "cell_type": "code",
   "execution_count": 3,
   "metadata": {},
   "outputs": [],
   "source": [
    "s = pd.read_csv(\"JobDataTranslated.csv\")\n",
    "# s - job describtion\n",
    "#s['Job Description']"
   ]
  },
  {
   "cell_type": "code",
   "execution_count": 4,
   "metadata": {},
   "outputs": [],
   "source": [
    "def reduce(l):\n",
    "    sorted_reduced = []\n",
    "    for i in l:\n",
    "        if i not in sorted_reduced:\n",
    "                sorted_reduced.append(i)\n",
    "\n",
    "    return sorted_reduced\n"
   ]
  },
  {
   "cell_type": "code",
   "execution_count": 5,
   "metadata": {},
   "outputs": [],
   "source": [
    "# list of current clusters\n",
    "final_skills = pd.read_csv(r\"C:\\Users\\Dima\\Desktop\\FeatFiles\\clusters\\final clusters.csv\")\n",
    "hardsk=[]\n",
    "\n",
    "softsk=list(final_skills[\"0\"].dropna().values)\n",
    "\n",
    "for col in final_skills.columns[1:]:  \n",
    "    hardsk+= final_skills[col].dropna().to_list()\n",
    "    \n",
    "    \n",
    "hardsk=list(map(lambda x: x.lower(), hardsk))\n",
    "hardsk = reduce(hardsk) # hard skills colums 2 and 3 of file\n",
    "\n",
    "softsk=list(map(lambda x: x.lower(), softsk))\n",
    "softsk=reduce(softsk) #soft clusters\n"
   ]
  },
  {
   "cell_type": "code",
   "execution_count": 6,
   "metadata": {},
   "outputs": [
    {
     "name": "stdout",
     "output_type": "stream",
     "text": [
      "['teamwork', 'business management', 'entrepreneurship', 'logical thinking'] ['maintenance', 'repair', 'utilities', 'construction', 'answering phones']\n"
     ]
    }
   ],
   "source": [
    "# this is what user enters\n",
    "entered_cl_soft = [softsk[3],softsk[1],softsk[4], softsk[16]]\n",
    "entered_cl_hard = [hardsk[1],hardsk[2],hardsk[3],hardsk[20],hardsk[25]]\n",
    "print(entered_cl_soft, entered_cl_hard)"
   ]
  },
  {
   "cell_type": "code",
   "execution_count": 7,
   "metadata": {},
   "outputs": [],
   "source": [
    "def get_interect(entered, soft=False):\n",
    "    intersects = []\n",
    "    l=hard_cl\n",
    "    if soft:\n",
    "        l=soft_cl\n",
    "        \n",
    "    for i in l:\n",
    "        if i!=-1:\n",
    "            intersects.append(list(set(entered) & set(i)))\n",
    "        else:\n",
    "            intersects.append(-1)\n",
    "        \n",
    "    return intersects\n"
   ]
  },
  {
   "cell_type": "code",
   "execution_count": 8,
   "metadata": {},
   "outputs": [],
   "source": [
    "\n",
    "def get_vac(soft=False):\n",
    "    \n",
    "    entered_cl=entered_cl_hard\n",
    "    vac_cl = hard_cl\n",
    "    if soft:\n",
    "        entered_cl=entered_cl_soft\n",
    "        vac_cl = soft_cl\n",
    "    \n",
    "\n",
    "    intersects = get_interect(entered_cl, soft)\n",
    "    \n",
    "    \n",
    "    scores_less_challenging = []\n",
    "    scores_more_challenging=[]\n",
    "\n",
    "    #for all vacancies\n",
    "    for i in range(len(vac_cl)):\n",
    "        have_skills=intersects[i]\n",
    "       \n",
    "        \n",
    "        if have_skills==-1:\n",
    "            scores_less_challenging.append([-1,i])\n",
    "            scores_more_challenging.append([-1,i])\n",
    "\n",
    "        elif len(have_skills)==0:\n",
    "            scores_less_challenging.append([0,i])\n",
    "            scores_more_challenging.append([0,i])\n",
    "\n",
    "        else:\n",
    "            need_skills = vac_cl[i]\n",
    "\n",
    "            count=1\n",
    "            for j in have_skills:\n",
    "                if need_skills.count(j)!=0:\n",
    "                    count+=len(need_skills) - need_skills.index(j)+2\n",
    "            scores_more_challenging.append([count,i])\n",
    "            #to get less challenging we normalise score (so look at more available vacancies)\n",
    "            count=count / ((len(need_skills)*(len(need_skills)+1))+0.5)**0.5\n",
    "            scores_less_challenging.append([count,i])\n",
    "        \n",
    "    return scores_less_challenging, scores_more_challenging\n"
   ]
  },
  {
   "cell_type": "code",
   "execution_count": 9,
   "metadata": {},
   "outputs": [
    {
     "data": {
      "text/plain": [
       "([[3.944932470225567, 271],\n",
       "  [3.854396724183048, 855],\n",
       "  [3.732256916886649, 588],\n",
       "  [3.681608413913329, 878],\n",
       "  [3.6641361265212504, 834]],\n",
       " [[36.5, 271], [36.0, 855], [34.0, 834], [33.0, 826], [33.0, 795]])"
      ]
     },
     "execution_count": 9,
     "metadata": {},
     "output_type": "execute_result"
    }
   ],
   "source": [
    "def get_output(soft_weight=0.5):\n",
    "    less,more = get_vac(soft =  False)\n",
    "    less_soft,more_soft = get_vac(soft =  True)\n",
    "    \n",
    "    less.sort(reverse = True)\n",
    "    more.sort(reverse=True)\n",
    "    less=less[0:50]\n",
    "    more = more[0:50]\n",
    "    \n",
    "    #less challeging part\n",
    "    indicies_less = [i[1] for i in less]\n",
    "    \n",
    "    final_less = []\n",
    "    for i in less:#hard part + soft part for the same id\n",
    "        final_less.append ([i[0]+[ j for j in less_soft if j[1]==i[1] ][0][0]*soft_weight, i[1]])\n",
    "        \n",
    "    final_less.sort(reverse=True)\n",
    "    \n",
    "    \n",
    "    final_more = []\n",
    "    for i in more:#hard part + soft part for the same id\n",
    "        final_more.append ([i[0]+[ j for j in more_soft if j[1]==i[1] ][0][0]*soft_weight, i[1]])\n",
    "        \n",
    "    final_more.sort(reverse=True)\n",
    "    \n",
    "    return final_less[:5], final_more[:5]\n",
    "\n",
    "get_output()"
   ]
  },
  {
   "cell_type": "code",
   "execution_count": 10,
   "metadata": {},
   "outputs": [
    {
     "data": {
      "text/plain": [
       "([271, 855, 834], [878, 588], [826, 795])"
      ]
     },
     "execution_count": 10,
     "metadata": {},
     "output_type": "execute_result"
    }
   ],
   "source": [
    "def get_best_match(soft_weight=0.5):\n",
    "    less, more = get_output(soft_weight)\n",
    "    ind_less=[i[1] for i in less]\n",
    "    ind_more = [i[1] for i in more]\n",
    "    both =[i for i in ind_less if (ind_less.count(i)*ind_more.count(i)>0)]\n",
    "    easier_to_get = [i for i in ind_less if i not in both]\n",
    "    harder_to_get = [j for j in ind_more if j not in both]\n",
    "    return both, easier_to_get, harder_to_get\n",
    "get_best_match(0.4)"
   ]
  },
  {
   "cell_type": "markdown",
   "metadata": {},
   "source": [
    "# I think it's nice to have as output first best, then easier, then harder and it will be super cool, if we can allow user to chose weight of soft skills"
   ]
  },
  {
   "cell_type": "code",
   "execution_count": 11,
   "metadata": {},
   "outputs": [
    {
     "data": {
      "text/plain": [
       "\"Rijkhuis BV is looking for an experienced cooperative foreman Do you have several years of practical experience in the (prefab) construction sector and do you want to take responsibility? Do you want to work at a company where you will be involved in building detached luxury homes? Well, then you are the experienced cooperative performer we are looking for. Activities As a cooperating contractor you are involved in the realization of detached luxury homes. The projects are very diverse. It is your task to form a team with the work preparation and the production manager, to ensure that the realization runs as smoothly as possible. As a collaborating contractor you are responsible for the total execution of one or more construction projects and you provide the daily management of all employees on the construction site and subcontractors. Consider the following activities: Coordinating the work on the construction site The timely demand and delivery of materials, equipment and subcontractors Report more / less work Maintaining contact with the clients and the project manager You are (partly) responsible for safety at the workplace Periodic workshop inspections Why do you want to work at Rijkhuis as a collaborating contractor? You receive € 2800 net per month. You will immediately receive a permanent contract after your probationary period! You get all school holidays off (autumn, Christmas, spring break, etc.) You receive 8% holiday allowance A laptop and company phone are included You get a company car Your health, safety and well-being are paramount You have nice, enthusiastic colleagues You receive regular (additional) training You can join our fun team outings What do we ask of you? You are an expert in your profession and proud of your work You are enthusiastic and you are committed to the full 100 percent You can read a construction drawing perfectly You have already gained practical experience within the construction sector Experience with prefab construction is an advantage You are always there for our customers You become a real ambassador for our company Are you interested? Send a message to Rijkhuis BV or contact Linda by telephone on 088 377 3300. You can also send a whatsapp message to 06-12 97 82 31 stating. vacancy cooperating foreman. Acquisition based on this advertisement is not desirable. Who is Rijkhuis? Meet Rijkhuis. The new authentic house brand in the Netherlands that stands for honest, good, proud and carefree. We build beautiful sustainable homes with a 15 year warranty and a lifetime maintenance and repair service. Rijkhuis makes building and living carefree. We cherish our employees If you take good care of your people, they will come to work whistling. Then they deliver more than excellent performance and are happy to stay with you. Our employees therefore receive a good salary, a lot of vacation and work under optimal working conditions. And that's the way it should be, we think. We feel responsible for our employees. For their health and well-being. You can call this good employment practices or corporate social responsibility. For us it is just logic: what you give, you get back. So, do you enjoy going to work whistling? And are you looking for a job with a good salary and a lot of vacation? With nice colleagues? Then come and work with us. Because at Rijkhuis® you enjoy working! Type of employment: Full-time, Indefinite period Salary: € 3,000.00 - € 4,000.00 per month Additional payments: Holiday pay Terms of employment: Company car Company parties Budget for professional development Christmas package Phone plan Friday afternoon drinks Work schedule: Day shift Working from home: No \""
      ]
     },
     "execution_count": 11,
     "metadata": {},
     "output_type": "execute_result"
    }
   ],
   "source": [
    "s['Job Description'][271]"
   ]
  }
 ],
 "metadata": {
  "kernelspec": {
   "display_name": "Python 3",
   "language": "python",
   "name": "python3"
  },
  "language_info": {
   "codemirror_mode": {
    "name": "ipython",
    "version": 3
   },
   "file_extension": ".py",
   "mimetype": "text/x-python",
   "name": "python",
   "nbconvert_exporter": "python",
   "pygments_lexer": "ipython3",
   "version": "3.7.7"
  }
 },
 "nbformat": 4,
 "nbformat_minor": 4
}
